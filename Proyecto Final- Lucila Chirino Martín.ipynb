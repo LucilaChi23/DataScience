{
 "cells": [
  {
   "cell_type": "markdown",
   "metadata": {
    "id": "_fIO4f4HKxbj"
   },
   "source": [
    "# MOVILIDAD INTERGENERACIONAL EDUCATIVA EN ARGENTINA (2021-2022)\n",
    "Autor: Lucila Chirino Martín\n",
    "\n",
    "---\n",
    "\n",
    "# Índice\n",
    "\n",
    "1. Análisis del conjunto de datos de la Encuesta Permanente de Hogares de Argentina\n",
    "\n",
    "    1.1. Descripción\n",
    "    \n",
    "    1.2. Audiencia\n",
    "    \n",
    "    1.3. Objetivo\n",
    "    \n",
    "    1.4. Preguntas generales a resolver\n",
    "    \n",
    "    1.5. Contexto analítico\n",
    "\n",
    "    1.6. Data Adquisition\n",
    "    \n",
    "    \n",
    "2. Importación de datos y librerías\n",
    "\n",
    "\n",
    "3. Feature Engineering\n",
    "\n",
    "    3.1.Data Wrangling\n",
    "\n",
    "    3.1.1. Filtrado de variables I\n",
    "    \n",
    "    3.1.2. Fusión de dataframes\n",
    "    \n",
    "    3.1.3. Eliminación de registros irrelevantes para el análisis\n",
    "    \n",
    "    3.1.4. Feature Creation\n",
    "    \n",
    "    3.1.5. Verificación de datos ausentes\n",
    "    \n",
    "    3.1.6. Verificación de datos duplicados\n",
    "    \n",
    "    3.1.7. Transformaciones\n",
    "    \n",
    "    3.1.8.  Filtrado de variables II\n",
    "\n",
    "    3.2. Análisis Exploratorio de Datos (EDA)\n",
    "\n",
    "    3.2.1. Información general sobre el conjunto de datos\n",
    "    \n",
    "    3.2.2. Análisis por medio de gráficos\n",
    "        \n",
    "        3.2.2.1. Análisis univariado\n",
    "        \n",
    "        3.2.2.2. Análisis bivariado\n",
    "        \n",
    "        3.2.2.3. Análisis multivariado\n",
    "        \n",
    "    3.2.5. Análisis específicos para responder a las preguntas de investigación\n",
    "    \n",
    "    3.2.6. Conclusiones del EDA\n",
    "    \n",
    "    \n",
    "4. Selección de features\n",
    "\n",
    "    4.1. Forward selection\n",
    "    \n",
    "    4.2. Backward selection\n",
    "    \n",
    "    4.3. Stepwise selection\n",
    "    \n",
    "    \n",
    "5. Aprendizaje supervisado: Entrenamiento y testeo de un modelo de Machine Learning\n",
    "\n",
    "    5.1. División de datos\n",
    "    \n",
    "    5.2 Entrenamiento y evaluación del modelo de regresión\n",
    "    \n",
    "        5.2.1. Entrenamiento: regresión y métricas de evaluación\n",
    "        \n",
    "        5.2.2. Testeo: regresión y métricas de evaluación\n",
    "        \n",
    "    5.3. Árbol de decisión para regresión\n",
    "    \n",
    "    5.4. Conclusiones de los modelos\n",
    "   \n",
    "    5.4.1. Conclusiones del modelo de regresión\n",
    "   \n",
    "    5.4.2. Conclusiones del modelo de Árbol de Decisión para regresión\n",
    "    \n",
    "    \n",
    "    \n",
    "6.  Aprendizaje supervisado: Modelo de Clasificación\n",
    "    \n",
    "    6.1. División de datos\n",
    "   \n",
    "    6.2. Evaluación del modelo de clasificación\n",
    "    \n",
    "    6.3. Conclusiones\n",
    "    \n",
    "7. Aprendizaje no supervisado: Análisis de Componentes principales (PCA)\n",
    "\n",
    "\n",
    "8. Conclusión\n",
    "\n",
    "    8.1. Resultados obtenidos y evaluación de los distintos modelos de Machine Learning\n",
    "\n",
    "    8.2. Respuestas a las preguntas planteadas\n",
    "---\n",
    "\n",
    "\n",
    "# 1. Análisis del conjunto de datos de la Encuesta Permanente de Hogares de Argentina\n",
    "\n",
    "\n",
    "## 1.1. Descripción\n",
    "\n",
    "Este proyecto busca realizar un análisis de los datos de la Encuesta Permanente de Hogares (EPH) de Argentina. En él se explorará este conjunto de datos para analizar *las características de la Movilidad Educativa Intergeneracional (MEI) en Argentina*, entendida como los vínculos existentes entre el máximo nivel educativo alcanzado por los padres y los que alcanzan sus hijos.\n",
    "\n",
    "La motivación de este análisis radica en que la educación es fundamental en la vida de las personas, especialmente en la actualidad en donde una persona para insertarse en el mundo laboral debe haber completado al menos la secundaria. Por lo que, es de gran importancia analizar cuáles son los factores que determinan el máximo nivel educativo alcanzado por una persona y si este depende de la educación que recibieron sus padres. Además, la educación juega un doble papel en la transmisión intergeneracional del status socioeconómico. Por un lado, es una importante vía de movilidad social para hombres y mujeres que pertenecen a los estratos sociales más bajos, los cuales no heredaron privilegios. Por otro lado, la educación contribuye a la transmisión de la desigualdad entre generaciones, dado que se distribuye de forma desigual entre los diferentes estratos.\n",
    "\n",
    "Por otra parte, la educación es una herramienta de política clave tanto a nivel micro como macroeconómico. En el plano individual, educarse mejora los ingresos de las personas y, por tanto, su calidad de vida; en el plano social, permite no sólo la igualación de oportunidades y de resultados en el mercado laboral que reduce la inequidad distributiva, sino también potencia el bienestar general de la sociedad a través de incrementos de productividad que mejoran la eficiencia económica. Por lo tanto, el análisis de la MEI es clave para los agentes políticos a la hora de tomar decisiones relacionadas a la educación de la sociedad.\n",
    "\n",
    "\n",
    "## 1.2. Audiencia\n",
    "\n",
    "Este estudio está dirigido al Gobierno y a sus diferentes agentes dado que es relevante, desde el punto de vista económico,  político y social, investigar sobre la movilidad entre generaciones, especialmente la movilidad educativa, ya que sirve como un instrumento para la toma de decisiones.\n",
    "\n",
    "\n",
    "## 1.3. Objetivo\n",
    "\n",
    "El **objetivo principal** de esta investigación es predecir si un hijo experimentará MEI por medio de modelos de machine learning. \n",
    "\n",
    "## 1.4. Preguntas generales a resolver\n",
    "\n",
    "Algunas preguntas específicas que buscamos responder son:\n",
    "\n",
    "* ¿Cuántos padres e hijos completaron cada nivel educativo?\n",
    "\n",
    "* ¿Cuáles son los factores que influyen en el nivel educativo de una persona?\n",
    "\n",
    "* ¿Existe una relación entre el nivel educativo alcanzado por un hijo y el de sus padres? En caso de que exista una relación, ¿cómo es esa relación?\n",
    "\n",
    "* ¿El nivel educativo del jefe o jefa de hogar tienen la misma relación con el nivel educativo alcanzado por el hijo?\n",
    "\n",
    "* ¿Cuál fue *la movilidad educativa intergeneracional* de Argentina en los años 2021-2022?\n",
    "\n",
    "\n",
    "Para dar respuesta a estas preguntas se realizará un análisis exploratorio de los datos. Posteriormente se creará un modelo predictivo.\n",
    "\n",
    "\n",
    "\n",
    "\n",
    "## 1.5. Contexto analítico\n",
    "\n",
    "Como se mencionó anteriormente, para realizar este estudio se utilizará la EPH, que es un programa nacional de producción permanente de indicadores sociales cuyo objetivo es conocer las características sociodemográficas y socioeconómicas de la población. Se realiza en forma conjunta por el INDEC y las Direcciones Provinciales de Estadística.\n",
    "\n",
    "\n",
    "\n",
    "## 1.6. Data Adquisition\n",
    "\n",
    "\n",
    "Los datos utilizados en el análisis se obtienen mediante la **Encuesta Permanente de Hogares (EPH)** realizada por el Instituto Nacional de Estadísticas y Censos (INDEC) de la República Argentina. La EPH permite conocer las características sociodemográficas y socioeconómicas de la población argentina y está dividida en la *Base Hogares*, que contiene información sobre el hogar, y la *Base Personas*, que contiene datos sobre los individuos del hogar. En este trabajo sólo se utilizará la **_Base Personas (usu_individual.txt)_** para todos los trimestres de los años 2021 y 2022 donde los miembros de un mismo hogar tienen el mismo CODUSU y NRO_HOGAR pero se diferencian por el número de COMPONENTE.\n",
    "\n",
    "\n",
    "Las columnas de la base de datos de interés para esta investigación son las siguientes:\n",
    "\n",
    "* **CODUSU**: Código para distinguir viviendas: permite aparear hogares y personas. Además, permite realizar el seguimiento de hogares y personas a través de los trimestres\n",
    "\n",
    "* **NRO_HOGAR**: Código para distinguir hogares. Permite aparear hogares y personas.\n",
    "\n",
    "* **COMPONENTE**: Número de componente: Nº de orden que se asigna a las personas que conforman cada hogar de la vivienda (Casos especiales: 51 = Servicio doméstico en hogares, 71 = Pensionistas en hogares )\n",
    "\n",
    "* **ANO4**: Año de relevamiento (4 dígitos)\n",
    "\n",
    "* **TRIMESTRE**: Número de trimestre\n",
    "\n",
    "* **PONDERA**: Ponderación\n",
    "\n",
    "* **REGION**: Código de Región (1 = Gran Buenos Aires, 40 = NOA, 41 = NEA, 42 = Cuyo, 43 = Pampeana, 44 = Patagónica)\n",
    "\n",
    "* **CH03**:Relación de parentesco\n",
    "\n",
    "* **CH04** : Sexo\n",
    "\n",
    "* **CH06**: Edad en años cumplidos\n",
    "\n",
    "* **CH12**: ¿Cuál es el nivel más alto que cursa o cursó?\n",
    "\n",
    "* **CH13**: ¿Finalizó ese nivel?\n",
    "\n",
    "* **CH14**: ¿Cuál fue el último año que aprobó?\n",
    "\n",
    "* **NIVEL_ED**: Nivel educativo\n",
    "\n",
    "* **ESTADO**: Condición de actividad\n",
    "\n",
    "* **CAT_OCUP**: Categoría ocupacional (para ocupados y desocupados con ocupación anterior)\n",
    "\n",
    "* **CAT_INAC**: Categoría de inactividad\n",
    "\n",
    "* **P21**: Monto de ingreso de la ocupación principal percibido en ese mes\n",
    "\n",
    "* **P47T**: Monto total de ingreso individual percibido en ese mes (sumatoria ingresos laborales y no laborales)\n",
    "\n",
    "* **ITF**: Monto total de ingreso familiar percibido en ese mes\n",
    "\n",
    "Los valores de las variables categóricas se pueden observar en la siguiente tabla:\n",
    "\n",
    "|ÍNDICE|CH03|CH04|CH12|CH13|CH14|NIVEL_ED|ESTADO|CAT_OCUP|CAT_INAC|\n",
    "|------|----|----|----|----|----|--------|------|--------|--------|\n",
    "|00|-|-|-|-|Ninguno|-|Entrevista individual no realizada (no respuesta al Cuestionario Individual)|-|-|\n",
    "|01|Jefe/a|Varón|Jardín/ Preescolar|Sí|Primero|Primaria Incompleta (incluye educación especial)|Ocupado|Patrón|Jubilado / Pensionado|\n",
    "|02|Cónyuge / Pareja|Mujer|Primario|No|Segundo|Primaria Completa|Desocupado|Cuenta propia|Rentista|\n",
    "|03|Hijo / Hijastro/a|-|EGB|-|Tercero|Secundaria Incompleta|Inactivo|Obrero o empleado|Estudiante|\n",
    "|04|Yerno / Nuera|-|Secundario|-|Cuarto|Secundaria Completa|Menor de 10 años|Trabajador familiar sin remuneración|Ama de casa|\n",
    "|05|Nieto/a|-|Polimodal|-|Quinto|Superior Universitaria Incompleta|-|-|Menor de 6 años|\n",
    "|06|Madre / Padre|-|Terciario|-|Sexto|Superior Universitaria Completa|-|-|Discapacitado|\n",
    "|07|Suegro/a|-|Universitario|-|Séptimo|Sin instrucción|-|-|Otros|\n",
    "|08|Hermano/a|-|Posgrado Univ|-|Octavo|-|-|-|-|\n",
    "|09|Otros Familiares|-|Educación especial (discapacitado)|Ns./Nr.|Noveno|Ns/Nr|-|Ns/Nr|-|\n",
    "|10|No Familiares|-|-|-|-|-|-|-|\n",
    "\n",
    "\n",
    "\n",
    "---\n",
    "# 2. Importación de librerías y datos"
   ]
  },
  {
   "cell_type": "code",
   "execution_count": 1,
   "metadata": {
    "id": "zh2XAKICKxbp"
   },
   "outputs": [],
   "source": [
    "# Importamos las bibliotecas para manipulación de datos y visualización\n",
    "import pandas as pd\n",
    "import numpy as np\n",
    "import statsmodels.formula.api as smf\n",
    "import statsmodels.api as sm\n",
    "import matplotlib.pyplot as plt\n",
    "import seaborn as sns\n",
    "import scipy as sc\n",
    "import statistics\n",
    "from statistics import mode\n",
    "from pandas import read_csv\n",
    "\n",
    "# Importamos las bibliotecas para el modelado y aprendizaje automático\n",
    "from sklearn import preprocessing\n",
    "from sklearn.preprocessing import StandardScaler\n",
    "from sklearn import linear_model\n",
    "from sklearn.linear_model import LinearRegression\n",
    "from sklearn.linear_model import LogisticRegression\n",
    "from sklearn.linear_model import Lasso\n",
    "from sklearn.linear_model import Ridge\n",
    "from sklearn.tree import DecisionTreeRegressor\n",
    "from sklearn.tree import plot_tree\n",
    "from sklearn.model_selection import train_test_split\n",
    "from sklearn.model_selection import StratifiedKFold, KFold, LeaveOneOut, cross_val_score\n",
    "from sklearn.model_selection import GridSearchCV\n",
    "from sklearn.feature_selection import SequentialFeatureSelector\n",
    "from mlxtend.feature_selection import SequentialFeatureSelector as SequentialFeatureSelector2\n",
    "from sklearn.ensemble import RandomForestRegressor\n",
    "from sklearn.decomposition import PCA\n",
    "\n",
    "# Importamos bibliotecas para obtener métricas de los modelos\n",
    "from sklearn import metrics\n",
    "from sklearn.metrics import accuracy_score\n",
    "from sklearn.metrics import precision_score\n",
    "from sklearn.metrics import recall_score\n",
    "from sklearn.metrics import f1_score\n",
    "from sklearn.metrics import roc_auc_score\n",
    "from sklearn.metrics import brier_score_loss\n",
    "from sklearn.metrics import confusion_matrix, ConfusionMatrixDisplay\n",
    "from sklearn.metrics import r2_score,mean_squared_error,mean_absolute_error\n",
    "\n",
    "# Importamos una biblioteca para la selección de features\n",
    "import statsmodels.api as sm\n",
    "def forward_selection(data, target, significance_level=0.05):\n",
    "    initial_features = data.columns.tolist()\n",
    "    best_features = []\n",
    "    pvals = []\n",
    "    while (len(initial_features)>0):\n",
    "        remaining_features = list(set(initial_features)-set(best_features))\n",
    "        new_pval = pd.Series(index=remaining_features)\n",
    "        for new_column in remaining_features:\n",
    "            model = sm.OLS(target, sm.add_constant(data[best_features+[new_column]])).fit()\n",
    "            new_pval[new_column] = model.pvalues[new_column]\n",
    "        min_p_value = new_pval.min()\n",
    "        if(min_p_value<significance_level):\n",
    "            best_features.append(new_pval.idxmin())\n",
    "            pvals.append(new_pval.min())\n",
    "            print(best_features, new_pval.min())\n",
    "        else:\n",
    "            break\n",
    "    return best_features, pvals\n",
    "\n",
    "def backward_elimination(data, target,significance_level = 0.05):\n",
    "    features = data.columns.tolist()\n",
    "    worst_features = []\n",
    "    pvals = []\n",
    "    while(len(features)>0):\n",
    "        features_with_constant = sm.add_constant(data[features])\n",
    "        p_values = sm.OLS(target, features_with_constant).fit().pvalues[1:]\n",
    "        max_p_value = p_values.max()\n",
    "        print(features, p_values.min())\n",
    "        if(max_p_value >= significance_level):\n",
    "            excluded_feature = p_values.idxmax()\n",
    "            features.remove(excluded_feature)\n",
    "            worst_features.append(excluded_feature)\n",
    "            pvals.append(p_values.max())\n",
    "        else:\n",
    "            break\n",
    "    return features, worst_features, pvals\n",
    "\n",
    "def stepwise_selection(data, target,SL_in=0.05,SL_out = 0.05):\n",
    "    initial_features = data.columns.tolist()\n",
    "    best_features = []\n",
    "    while (len(initial_features)>0):\n",
    "        remaining_features = list(set(initial_features)-set(best_features))\n",
    "        new_pval = pd.Series(index=remaining_features)\n",
    "        for new_column in remaining_features:\n",
    "            model = sm.OLS(target, sm.add_constant(data[best_features+[new_column]])).fit()\n",
    "            new_pval[new_column] = model.pvalues[new_column]\n",
    "        min_p_value = new_pval.min()\n",
    "        if(min_p_value<SL_in):\n",
    "            best_features.append(new_pval.idxmin())\n",
    "            print(best_features, new_pval.min())\n",
    "            while(len(best_features)>0):\n",
    "                best_features_with_constant = sm.add_constant(data[best_features])\n",
    "                p_values = sm.OLS(target, best_features_with_constant).fit().pvalues[1:]\n",
    "                max_p_value = p_values.max()\n",
    "                if(max_p_value >= SL_out):\n",
    "                    excluded_feature = p_values.idxmax()\n",
    "                    best_features.remove(excluded_feature)\n",
    "                    print(best_features, p_values.max())\n",
    "\n",
    "                else:\n",
    "                    break\n",
    "        else:\n",
    "            break\n",
    "    return best_features,\n",
    "\n",
    "# Importamos una biblioteca para hacer un análisis de los datos faltantes\n",
    "import missingno as msno\n",
    "%matplotlib inline\n",
    "\n",
    "# Importamos una biblioteca para configurar los warnings\n",
    "import warnings\n",
    "warnings.filterwarnings('ignore')"
   ]
  },
  {
   "cell_type": "markdown",
   "metadata": {
    "id": "8B6c1cx7Kxbq"
   },
   "source": [
    "## Dataset"
   ]
  },
  {
   "cell_type": "code",
   "execution_count": 18,
   "metadata": {
    "id": "1RK1OyyaKxbr"
   },
   "outputs": [],
   "source": [
    "# Cargamos las bases de datos\n",
    "\n",
    "# EPH 2021 completa\n",
    "eph121 = pd.read_csv('https://raw.githubusercontent.com/LucilaChi23/DataScience/main/usu_individual_T121.txt',sep=';', low_memory=False)\n",
    "eph221 = pd.read_csv('https://raw.githubusercontent.com/LucilaChi23/DataScience/main/usu_individual_T221.txt',sep=';', low_memory=False)\n",
    "eph321 = pd.read_csv('https://raw.githubusercontent.com/LucilaChi23/DataScience/main/usu_individual_T321.txt',sep=';', low_memory=False)\n",
    "eph421 = pd.read_csv('https://raw.githubusercontent.com/LucilaChi23/DataScience/main/usu_individual_T421.txt',sep=';', low_memory=False)\n",
    "\n",
    "\n",
    "# EPH 2022 completa\n",
    "eph122 = pd.read_csv('https://raw.githubusercontent.com/LucilaChi23/DataScience/main/usu_individual_T122.txt',sep=';', low_memory=False)\n",
    "eph222 = pd.read_csv('https://raw.githubusercontent.com/LucilaChi23/DataScience/main/usu_individual_T222.txt',sep=';', low_memory=False)\n",
    "eph322 = pd.read_csv('https://raw.githubusercontent.com/LucilaChi23/DataScience/main/usu_individual_T322.txt',sep=';', low_memory=False)\n",
    "eph422 = pd.read_csv('https://raw.githubusercontent.com/LucilaChi23/DataScience/main/usu_individual_T422.txt',sep=';', low_memory=False)"
   ]
  },
  {
   "cell_type": "markdown",
   "metadata": {
    "id": "kTBOtggsUTzU"
   },
   "source": [
    "# 3. Feature Engineering\n",
    "\n",
    "\n",
    "## 3.1. Data Wrangling\n",
    "\n",
    "## 3.1.1. Filtrado de variables I\n"
   ]
  },
  {
   "cell_type": "code",
   "execution_count": 4,
   "metadata": {
    "id": "zHmkTc9uKxbs"
   },
   "outputs": [],
   "source": [
    "# Filtramos las variables que son de interés\n",
    "eph121 = eph121.filter(['CODUSU','NRO_HOGAR','COMPONENTE', 'ANO4','TRIMESTRE','REGION','CH03','CH04','CH06','CH12','CH13','CH14','PONDERA','P21','P47T','ITF','NIVEL_ED','ESTADO','CAT_OCUP','CAT_INAC'])\n",
    "eph221 = eph221.filter(['CODUSU','NRO_HOGAR','COMPONENTE', 'ANO4','TRIMESTRE','REGION','CH03','CH04','CH06','CH12','CH13','CH14','PONDERA','P21','P47T','ITF','NIVEL_ED','ESTADO','CAT_OCUP','CAT_INAC'])\n",
    "eph321 = eph321.filter(['CODUSU','NRO_HOGAR','COMPONENTE', 'ANO4','TRIMESTRE','REGION','CH03','CH04','CH06','CH12','CH13','CH14','PONDERA','P21','P47T','ITF','NIVEL_ED','ESTADO','CAT_OCUP','CAT_INAC'])\n",
    "eph421 = eph421.filter(['CODUSU','NRO_HOGAR','COMPONENTE', 'ANO4','TRIMESTRE','REGION','CH03','CH04','CH06','CH12','CH13','CH14','PONDERA','P21','P47T','ITF','NIVEL_ED','ESTADO','CAT_OCUP','CAT_INAC'])\n",
    "\n",
    "\n",
    "eph122 = eph122.filter(['CODUSU','NRO_HOGAR','COMPONENTE', 'ANO4','TRIMESTRE','REGION','CH03','CH04','CH06','CH12','CH13','CH14','PONDERA','P21','P47T','ITF','NIVEL_ED','ESTADO','CAT_OCUP','CAT_INAC'])\n",
    "eph222 = eph222.filter(['CODUSU','NRO_HOGAR','COMPONENTE', 'ANO4','TRIMESTRE','REGION','CH03','CH04','CH06','CH12','CH13','CH14','PONDERA','P21','P47T','ITF','NIVEL_ED','ESTADO','CAT_OCUP','CAT_INAC'])\n",
    "eph322 = eph322.filter(['CODUSU','NRO_HOGAR','COMPONENTE', 'ANO4','TRIMESTRE','REGION','CH03','CH04','CH06','CH12','CH13','CH14','PONDERA','P21','P47T','ITF','NIVEL_ED','ESTADO','CAT_OCUP','CAT_INAC'])\n",
    "eph422 = eph422.filter(['CODUSU','NRO_HOGAR','COMPONENTE', 'ANO4','TRIMESTRE','REGION','CH03','CH04','CH06','CH12','CH13','CH14','PONDERA','P21','P47T','ITF','NIVEL_ED','ESTADO','CAT_OCUP','CAT_INAC'])"
   ]
  },
  {
   "cell_type": "markdown",
   "metadata": {
    "id": "WRqmlIDDUTzV"
   },
   "source": [
    "## 3.1.2. Fusión de dataframes"
   ]
  },
  {
   "cell_type": "markdown",
   "metadata": {
    "id": "e4f_RzxDKxbs"
   },
   "source": [
    "Ahora unimos las bases de datos de todos los trimestres del año 2021 y 2022 con el comando **pd.concat()** y las renombramos como *eph21* y *eph22* respectivamente. Luego, unimos las bases de los años 2021 y 2022 y la renombramos como *eph*."
   ]
  },
  {
   "cell_type": "code",
   "execution_count": 5,
   "metadata": {
    "id": "uTnyOT1-Kxbt",
    "scrolled": true
   },
   "outputs": [],
   "source": [
    "# Unimos las bases de datos\n",
    "eph21 = pd.concat([eph121,eph221, eph321, eph421], ignore_index=True)\n",
    "eph22 = pd.concat([eph122,eph222, eph322, eph422], ignore_index=True)\n",
    "\n",
    "eph = pd.concat([eph21,eph22], ignore_index=True)"
   ]
  },
  {
   "cell_type": "markdown",
   "metadata": {
    "id": "1yYEWLSIUTzX"
   },
   "source": [
    "## 3.1.3. Eliminación de registros irrelevantes para el análisis"
   ]
  },
  {
   "cell_type": "markdown",
   "metadata": {
    "id": "_X47bUy5Kxbu"
   },
   "source": [
    " Eliminamos de la base de datos, a través de la función **df.drop()**, todas las relaciones de parentezco (variable CH03), dejando solamente a Jefes/as de Hogar y a los Hijos/as/Hijastros, y también eliminamos los casos de no respuesta. Además, acotaremos el análisis a la población de entre 25 y 65 años, ya que la edad promedio en la que una persona finaliza la Universidad suele ser 26 años."
   ]
  },
  {
   "cell_type": "code",
   "execution_count": 6,
   "metadata": {
    "id": "v_KLr3c-Kxbu"
   },
   "outputs": [],
   "source": [
    "eph = eph.drop(eph[eph.CH06 < 25].index)      #Eliminamos a los menores de 25 años\n",
    "eph = eph.drop(eph[eph.CH06 > 65].index)      #Eliminamos a los mayores de 65 años\n",
    "\n",
    "eph = eph.drop(eph[eph.CH12==9].index)        #Eliminamos a los que recibieron Educación Especial\n",
    "eph = eph.drop(eph[eph.CH14==98].index)       #Eliminamos a los que recibieron Educación Especial\n",
    "eph = eph.drop(eph[eph.CH12==9]. index)       #Elinimamos a los que recibieron Educacion Especial\n",
    "eph = eph.drop(eph[eph.CH13==9].index)        #Eliminamos a los que respondieron Ns./Nr.\n",
    "eph = eph.drop(eph[eph.CH14==99].index)       #Eliminamos a los que respondieron Ns./Nr.\n",
    "eph = eph.drop(eph[eph.NIVEL_ED==9].index)    #Eliminamos a los que respondieron Ns./Nr.\n",
    "\n",
    "eph = eph.drop(eph[eph.CH03==2]. index)       #Eliminamos al conyuge/pareja\n",
    "eph = eph.drop(eph[eph.CH03==4]. index)       #Eliminamos al yerno/nuera\n",
    "eph = eph.drop(eph[eph.CH03==5]. index)       #Eliminamos al nieto/a\n",
    "eph = eph.drop(eph[eph.CH03==6]. index)       #Eliminamos al padre/madre\n",
    "eph = eph.drop(eph[eph.CH03==7]. index)       #Eliminamos al suegro/suegra\n",
    "eph = eph.drop(eph[eph.CH03==8]. index)       #Eliminamos al hermano/a\n",
    "eph = eph.drop(eph[eph.CH03==9]. index)       #Eliminamos a otros familiares\n",
    "eph = eph.drop(eph[eph.CH03==10]. index)      #Eliminamos a no familiares"
   ]
  },
  {
   "cell_type": "code",
   "execution_count": 7,
   "metadata": {
    "id": "7a2l53PUUTzX",
    "outputId": "ce8dbed5-1b2c-4353-c1f9-959513a038d6"
   },
   "outputs": [
    {
     "data": {
      "text/html": [
       "<div>\n",
       "<style scoped>\n",
       "    .dataframe tbody tr th:only-of-type {\n",
       "        vertical-align: middle;\n",
       "    }\n",
       "\n",
       "    .dataframe tbody tr th {\n",
       "        vertical-align: top;\n",
       "    }\n",
       "\n",
       "    .dataframe thead th {\n",
       "        text-align: right;\n",
       "    }\n",
       "</style>\n",
       "<table border=\"1\" class=\"dataframe\">\n",
       "  <thead>\n",
       "    <tr style=\"text-align: right;\">\n",
       "      <th></th>\n",
       "      <th>CODUSU</th>\n",
       "      <th>NRO_HOGAR</th>\n",
       "      <th>COMPONENTE</th>\n",
       "      <th>ANO4</th>\n",
       "      <th>TRIMESTRE</th>\n",
       "      <th>REGION</th>\n",
       "      <th>CH03</th>\n",
       "      <th>CH04</th>\n",
       "      <th>CH06</th>\n",
       "      <th>CH12</th>\n",
       "      <th>CH13</th>\n",
       "      <th>CH14</th>\n",
       "      <th>PONDERA</th>\n",
       "      <th>P21</th>\n",
       "      <th>P47T</th>\n",
       "      <th>ITF</th>\n",
       "      <th>NIVEL_ED</th>\n",
       "      <th>ESTADO</th>\n",
       "      <th>CAT_OCUP</th>\n",
       "      <th>CAT_INAC</th>\n",
       "    </tr>\n",
       "  </thead>\n",
       "  <tbody>\n",
       "    <tr>\n",
       "      <th>0</th>\n",
       "      <td>TQRMNOPPQHLKLMCDEFIAH00646702</td>\n",
       "      <td>1</td>\n",
       "      <td>1</td>\n",
       "      <td>2021</td>\n",
       "      <td>1</td>\n",
       "      <td>43</td>\n",
       "      <td>1</td>\n",
       "      <td>2</td>\n",
       "      <td>27</td>\n",
       "      <td>7</td>\n",
       "      <td>1</td>\n",
       "      <td>NaN</td>\n",
       "      <td>675</td>\n",
       "      <td>40000.0</td>\n",
       "      <td>40000.0</td>\n",
       "      <td>40000.0</td>\n",
       "      <td>6</td>\n",
       "      <td>1</td>\n",
       "      <td>3</td>\n",
       "      <td>0</td>\n",
       "    </tr>\n",
       "    <tr>\n",
       "      <th>1</th>\n",
       "      <td>TQRMNOPPRHLKLMCDEFIAH00665104</td>\n",
       "      <td>1</td>\n",
       "      <td>1</td>\n",
       "      <td>2021</td>\n",
       "      <td>1</td>\n",
       "      <td>43</td>\n",
       "      <td>1</td>\n",
       "      <td>2</td>\n",
       "      <td>26</td>\n",
       "      <td>7</td>\n",
       "      <td>2</td>\n",
       "      <td>4.0</td>\n",
       "      <td>675</td>\n",
       "      <td>0.0</td>\n",
       "      <td>25000.0</td>\n",
       "      <td>25000.0</td>\n",
       "      <td>5</td>\n",
       "      <td>3</td>\n",
       "      <td>0</td>\n",
       "      <td>3</td>\n",
       "    </tr>\n",
       "    <tr>\n",
       "      <th>2</th>\n",
       "      <td>TQRMNOPPRHMOLQCDEFIAH00701809</td>\n",
       "      <td>1</td>\n",
       "      <td>1</td>\n",
       "      <td>2021</td>\n",
       "      <td>1</td>\n",
       "      <td>43</td>\n",
       "      <td>1</td>\n",
       "      <td>1</td>\n",
       "      <td>38</td>\n",
       "      <td>4</td>\n",
       "      <td>2</td>\n",
       "      <td>3.0</td>\n",
       "      <td>559</td>\n",
       "      <td>30000.0</td>\n",
       "      <td>-9.0</td>\n",
       "      <td>0.0</td>\n",
       "      <td>3</td>\n",
       "      <td>1</td>\n",
       "      <td>3</td>\n",
       "      <td>0</td>\n",
       "    </tr>\n",
       "    <tr>\n",
       "      <th>7</th>\n",
       "      <td>TQRMNOPPSHLKLMCDEFIAH00646637</td>\n",
       "      <td>1</td>\n",
       "      <td>1</td>\n",
       "      <td>2021</td>\n",
       "      <td>1</td>\n",
       "      <td>43</td>\n",
       "      <td>1</td>\n",
       "      <td>1</td>\n",
       "      <td>25</td>\n",
       "      <td>7</td>\n",
       "      <td>1</td>\n",
       "      <td>NaN</td>\n",
       "      <td>538</td>\n",
       "      <td>-9.0</td>\n",
       "      <td>-9.0</td>\n",
       "      <td>0.0</td>\n",
       "      <td>6</td>\n",
       "      <td>1</td>\n",
       "      <td>3</td>\n",
       "      <td>0</td>\n",
       "    </tr>\n",
       "    <tr>\n",
       "      <th>9</th>\n",
       "      <td>TQRMNOPPSHMOLQCDEFIAH00698759</td>\n",
       "      <td>1</td>\n",
       "      <td>1</td>\n",
       "      <td>2021</td>\n",
       "      <td>1</td>\n",
       "      <td>43</td>\n",
       "      <td>1</td>\n",
       "      <td>2</td>\n",
       "      <td>49</td>\n",
       "      <td>2</td>\n",
       "      <td>2</td>\n",
       "      <td>6.0</td>\n",
       "      <td>479</td>\n",
       "      <td>17000.0</td>\n",
       "      <td>17000.0</td>\n",
       "      <td>17000.0</td>\n",
       "      <td>1</td>\n",
       "      <td>1</td>\n",
       "      <td>3</td>\n",
       "      <td>0</td>\n",
       "    </tr>\n",
       "    <tr>\n",
       "      <th>...</th>\n",
       "      <td>...</td>\n",
       "      <td>...</td>\n",
       "      <td>...</td>\n",
       "      <td>...</td>\n",
       "      <td>...</td>\n",
       "      <td>...</td>\n",
       "      <td>...</td>\n",
       "      <td>...</td>\n",
       "      <td>...</td>\n",
       "      <td>...</td>\n",
       "      <td>...</td>\n",
       "      <td>...</td>\n",
       "      <td>...</td>\n",
       "      <td>...</td>\n",
       "      <td>...</td>\n",
       "      <td>...</td>\n",
       "      <td>...</td>\n",
       "      <td>...</td>\n",
       "      <td>...</td>\n",
       "      <td>...</td>\n",
       "    </tr>\n",
       "    <tr>\n",
       "      <th>390675</th>\n",
       "      <td>TQRMNORRRHMNKSCDEIOAH00708993</td>\n",
       "      <td>1</td>\n",
       "      <td>1</td>\n",
       "      <td>2022</td>\n",
       "      <td>4</td>\n",
       "      <td>43</td>\n",
       "      <td>1</td>\n",
       "      <td>2</td>\n",
       "      <td>34</td>\n",
       "      <td>4</td>\n",
       "      <td>1</td>\n",
       "      <td>NaN</td>\n",
       "      <td>130</td>\n",
       "      <td>0.0</td>\n",
       "      <td>5500.0</td>\n",
       "      <td>135500.0</td>\n",
       "      <td>4</td>\n",
       "      <td>3</td>\n",
       "      <td>0</td>\n",
       "      <td>4</td>\n",
       "    </tr>\n",
       "    <tr>\n",
       "      <th>390679</th>\n",
       "      <td>TQRMNOQSVHLMKMCDEIKAH00719785</td>\n",
       "      <td>1</td>\n",
       "      <td>1</td>\n",
       "      <td>2022</td>\n",
       "      <td>4</td>\n",
       "      <td>43</td>\n",
       "      <td>1</td>\n",
       "      <td>1</td>\n",
       "      <td>38</td>\n",
       "      <td>4</td>\n",
       "      <td>2</td>\n",
       "      <td>3.0</td>\n",
       "      <td>1095</td>\n",
       "      <td>130000.0</td>\n",
       "      <td>130000.0</td>\n",
       "      <td>130000.0</td>\n",
       "      <td>3</td>\n",
       "      <td>1</td>\n",
       "      <td>3</td>\n",
       "      <td>0</td>\n",
       "    </tr>\n",
       "    <tr>\n",
       "      <th>390683</th>\n",
       "      <td>TQRMNOPPUHLMKNCDEIKAH00719786</td>\n",
       "      <td>1</td>\n",
       "      <td>1</td>\n",
       "      <td>2022</td>\n",
       "      <td>4</td>\n",
       "      <td>43</td>\n",
       "      <td>1</td>\n",
       "      <td>1</td>\n",
       "      <td>38</td>\n",
       "      <td>7</td>\n",
       "      <td>1</td>\n",
       "      <td>NaN</td>\n",
       "      <td>949</td>\n",
       "      <td>120000.0</td>\n",
       "      <td>-9.0</td>\n",
       "      <td>0.0</td>\n",
       "      <td>6</td>\n",
       "      <td>1</td>\n",
       "      <td>2</td>\n",
       "      <td>0</td>\n",
       "    </tr>\n",
       "    <tr>\n",
       "      <th>390686</th>\n",
       "      <td>TQRMNOQSXHLMKNCDEIKAH00781064</td>\n",
       "      <td>1</td>\n",
       "      <td>1</td>\n",
       "      <td>2022</td>\n",
       "      <td>4</td>\n",
       "      <td>43</td>\n",
       "      <td>1</td>\n",
       "      <td>1</td>\n",
       "      <td>48</td>\n",
       "      <td>4</td>\n",
       "      <td>1</td>\n",
       "      <td>NaN</td>\n",
       "      <td>702</td>\n",
       "      <td>0.0</td>\n",
       "      <td>0.0</td>\n",
       "      <td>0.0</td>\n",
       "      <td>4</td>\n",
       "      <td>2</td>\n",
       "      <td>3</td>\n",
       "      <td>0</td>\n",
       "    </tr>\n",
       "    <tr>\n",
       "      <th>390694</th>\n",
       "      <td>TQRMNOQVSHKMKPCDEIKAH00792435</td>\n",
       "      <td>1</td>\n",
       "      <td>1</td>\n",
       "      <td>2022</td>\n",
       "      <td>4</td>\n",
       "      <td>43</td>\n",
       "      <td>1</td>\n",
       "      <td>1</td>\n",
       "      <td>46</td>\n",
       "      <td>7</td>\n",
       "      <td>2</td>\n",
       "      <td>3.0</td>\n",
       "      <td>692</td>\n",
       "      <td>60000.0</td>\n",
       "      <td>60000.0</td>\n",
       "      <td>220000.0</td>\n",
       "      <td>5</td>\n",
       "      <td>1</td>\n",
       "      <td>3</td>\n",
       "      <td>0</td>\n",
       "    </tr>\n",
       "  </tbody>\n",
       "</table>\n",
       "<p>129827 rows × 20 columns</p>\n",
       "</div>"
      ],
      "text/plain": [
       "                               CODUSU  NRO_HOGAR  COMPONENTE  ANO4  TRIMESTRE  \\\n",
       "0       TQRMNOPPQHLKLMCDEFIAH00646702          1           1  2021          1   \n",
       "1       TQRMNOPPRHLKLMCDEFIAH00665104          1           1  2021          1   \n",
       "2       TQRMNOPPRHMOLQCDEFIAH00701809          1           1  2021          1   \n",
       "7       TQRMNOPPSHLKLMCDEFIAH00646637          1           1  2021          1   \n",
       "9       TQRMNOPPSHMOLQCDEFIAH00698759          1           1  2021          1   \n",
       "...                               ...        ...         ...   ...        ...   \n",
       "390675  TQRMNORRRHMNKSCDEIOAH00708993          1           1  2022          4   \n",
       "390679  TQRMNOQSVHLMKMCDEIKAH00719785          1           1  2022          4   \n",
       "390683  TQRMNOPPUHLMKNCDEIKAH00719786          1           1  2022          4   \n",
       "390686  TQRMNOQSXHLMKNCDEIKAH00781064          1           1  2022          4   \n",
       "390694  TQRMNOQVSHKMKPCDEIKAH00792435          1           1  2022          4   \n",
       "\n",
       "        REGION  CH03  CH04  CH06  CH12  CH13  CH14  PONDERA       P21  \\\n",
       "0           43     1     2    27     7     1   NaN      675   40000.0   \n",
       "1           43     1     2    26     7     2   4.0      675       0.0   \n",
       "2           43     1     1    38     4     2   3.0      559   30000.0   \n",
       "7           43     1     1    25     7     1   NaN      538      -9.0   \n",
       "9           43     1     2    49     2     2   6.0      479   17000.0   \n",
       "...        ...   ...   ...   ...   ...   ...   ...      ...       ...   \n",
       "390675      43     1     2    34     4     1   NaN      130       0.0   \n",
       "390679      43     1     1    38     4     2   3.0     1095  130000.0   \n",
       "390683      43     1     1    38     7     1   NaN      949  120000.0   \n",
       "390686      43     1     1    48     4     1   NaN      702       0.0   \n",
       "390694      43     1     1    46     7     2   3.0      692   60000.0   \n",
       "\n",
       "            P47T       ITF  NIVEL_ED  ESTADO  CAT_OCUP  CAT_INAC  \n",
       "0        40000.0   40000.0         6       1         3         0  \n",
       "1        25000.0   25000.0         5       3         0         3  \n",
       "2           -9.0       0.0         3       1         3         0  \n",
       "7           -9.0       0.0         6       1         3         0  \n",
       "9        17000.0   17000.0         1       1         3         0  \n",
       "...          ...       ...       ...     ...       ...       ...  \n",
       "390675    5500.0  135500.0         4       3         0         4  \n",
       "390679  130000.0  130000.0         3       1         3         0  \n",
       "390683      -9.0       0.0         6       1         2         0  \n",
       "390686       0.0       0.0         4       2         3         0  \n",
       "390694   60000.0  220000.0         5       1         3         0  \n",
       "\n",
       "[129827 rows x 20 columns]"
      ]
     },
     "execution_count": 7,
     "metadata": {},
     "output_type": "execute_result"
    }
   ],
   "source": [
    "# Visualizamos la base de datos\n",
    "eph"
   ]
  },
  {
   "cell_type": "markdown",
   "metadata": {
    "id": "nTByPc5QUTzY"
   },
   "source": [
    "## 3.1.4. Feature Creation"
   ]
  },
  {
   "cell_type": "markdown",
   "metadata": {
    "id": "lhT7cvWCKxbv"
   },
   "source": [
    "Creamos la variable **EducHijos** para conocer la cantidad de años de educación formal de los hijos. Luego crearemos las variables **EducPadres**, **EducJefe** y **EducJefa** las cuales mostrarán la cantidad de años de educación formal del jefe o jefa de hogar (dependiendo de cuál de los dos haya sido encuestado), del jefe de hogar y de la jefa de hogar respectivamente.\n",
    "\n",
    "|Nivel|Completo|Variable utilizada|EDUC|\n",
    "|-----|--------|---------|-------|\n",
    "|Preescolar|No|CH12=1,CH13=2|0|\n",
    "|Preescolar|Sí|CH12=1,CH13=1|0|\n",
    "|Primario|No|CH12=2, CH13=2|CH14|\n",
    "|Primario|Sí|CH12=2, CH13=1|6|\n",
    "|Secundario|No|CH12=4, CH13=2|CH14+6|\n",
    "|Secundario|Si|CH12=4, CH13=1 |12|\n",
    "|Terciario|No|CH12=6, CH13=2|CH14+12|\n",
    "|Terciario|Si|CH12=6, CH13=1|15|\n",
    "|Universitario|No|CH12=7, CH13=2 |CH14+12|\n",
    "|Universitario|Si|CH12=7, CH13=1|17|\n",
    "|Posgrado|No|CH12=8, CH13=2 |CH14 + 17|\n",
    "|Posgrado|Si|CH12=8, CH13=1|21|\n"
   ]
  },
  {
   "cell_type": "code",
   "execution_count": 8,
   "metadata": {
    "id": "jFTquE-rKxbw"
   },
   "outputs": [],
   "source": [
    "# Preescolar incompleto y completo\n",
    "eph.loc[(eph.CH12==1) & (eph.CH13==2), 'EducHijos']=0\n",
    "eph.loc[(eph.CH12==1) & (eph.CH13==1), 'EducHijos']=0\n",
    "\n",
    "# Primaria incompleta y completa\n",
    "eph.loc[(eph.CH12==2) & (eph.CH13==2), 'EducHijos']=eph['CH14']\n",
    "eph.loc[(eph.CH12==2) & (eph.CH13==1), 'EducHijos']=6\n",
    "\n",
    "# Secundaria incompleta y completa\n",
    "eph.loc[(eph.CH12==4) & (eph.CH13==2), 'EducHijos']=eph['CH14']+6\n",
    "eph.loc[(eph.CH12==4) & (eph.CH13==1), 'EducHijos']=12\n",
    "\n",
    "# Terciario incompleto y completo\n",
    "eph.loc[(eph.CH12==6) & (eph.CH13==2), 'EducHijos']=eph['CH14']+12\n",
    "eph.loc[(eph.CH12==6) & (eph.CH13==1), 'EducHijos']=15\n",
    "\n",
    "# Universidad incompleta y completa\n",
    "eph.loc[(eph.CH12==7) & (eph.CH13==2), 'EducHijos']=eph['CH14']+12\n",
    "eph.loc[(eph.CH12==7) & (eph.CH13==1), 'EducHijos']=17\n",
    "\n",
    "# Posgrado incompleto y completo\n",
    "eph.loc[(eph.CH12==8) & (eph.CH13==2), 'EducHijos']=eph['CH14']+17\n",
    "eph.loc[(eph.CH12==8) & (eph.CH13==1), 'EducHijos']=21"
   ]
  },
  {
   "cell_type": "code",
   "execution_count": 9,
   "metadata": {
    "id": "YK0nIuekUTzZ"
   },
   "outputs": [],
   "source": [
    "# Eliminamos los valores de la Educación formal superiores a los 21 años, ya que son valores erróneos\n",
    "eph = eph.drop(eph[eph.EducHijos > 21].index)"
   ]
  },
  {
   "cell_type": "markdown",
   "metadata": {
    "id": "5shgN7uQKxbx"
   },
   "source": [
    "Identificamos el número de hijos que hay en cada hogar usando la columna CH03 en el valor hijo (CH03==3), agrupándolos según el CODUSU y el NRO_HOGAR, a eso le hacemos el conteo, reseteamos el índice y le ponemos como nombre a la nueva columna **\"numhijos\"**\n"
   ]
  },
  {
   "cell_type": "code",
   "execution_count": 10,
   "metadata": {
    "id": "Nizvh19tUTzZ"
   },
   "outputs": [],
   "source": [
    "# Creo una columna llamada numhijos, que cuenta la cantidad de hijos que hay por hogar\n",
    "a = eph[eph['CH03'] == 3].groupby(['CODUSU', 'NRO_HOGAR'])['CH03'].count().reset_index(name='numhijos')\n",
    "b = pd.DataFrame(a) # Transformo el Serie Frame a en un data frame b\n",
    "eph = pd.merge(eph, b, on=('CODUSU', 'NRO_HOGAR'), how='left') # Ahora lo uno con la base de datos original hacia la izquierda"
   ]
  },
  {
   "cell_type": "markdown",
   "metadata": {
    "id": "ZpRPe0tQUTzZ"
   },
   "source": [
    "Renombro la variable \"CH06\" y la llamo **\"Edad\"**"
   ]
  },
  {
   "cell_type": "code",
   "execution_count": 11,
   "metadata": {
    "id": "CS0tRNtwKxbz"
   },
   "outputs": [],
   "source": [
    "eph = eph.rename(columns = {'CH06':'Edad'})"
   ]
  },
  {
   "cell_type": "markdown",
   "metadata": {
    "id": "wXM1IxpcUTzZ"
   },
   "source": [
    "Calculamos la cantidad de años de educación formal de cada Jefe/a de Hogar, usando la columna CH03 en el valor jefe/a de hogar (CH03==1) y  agrupamos a los padres según el CODUSU y el NRO_HOGAR, a eso le calculamos el valor máximo de Educación alcanzado por cada padre o madre (utilizando la variable EDUC), reseteamos el índice y le ponemos como nombre a la nueva columna **\"EducPadres\"**, la cual refleja el nivel educativo alcanzado por el Jefe o Jefa de hogar.\n"
   ]
  },
  {
   "cell_type": "code",
   "execution_count": 12,
   "metadata": {
    "id": "i7zg8qwAKxbz",
    "scrolled": true
   },
   "outputs": [],
   "source": [
    "# Creo una columna llamada EducPadres, que muestra la educación formal de cada Jefe/a de hogar que tiene hijos\n",
    "\n",
    "c = eph[eph['CH03'] == 1 ].groupby(['CODUSU','NRO_HOGAR'])['EducHijos'].max().reset_index(name='EducPadres')\n",
    "d = pd.DataFrame(c) # Transformo el Serie Frame c en el data frame d\n",
    "eph = pd.merge(eph, c, on= ('CODUSU', 'NRO_HOGAR'), how='left') # Ahora lo uno con la base de datos original hacia la izquierda"
   ]
  },
  {
   "cell_type": "markdown",
   "metadata": {
    "id": "8TxY6sSQUTza"
   },
   "source": [
    "Obtenemos la edad de cada Jefe/a de Hogar, usando la columna CH03 en el valor jefe/a de hogar y  agrupamos a los padres según el CODUSU y el NRO_HOGAR, a eso le calculamos edad de cada padre o madre (con la variable Edad, utilizando el comando max()), reseteamos el índice y le ponemos como nombre a la nueva columna **\"EdadPadres\"** que muestra la edad del Jefe o Jefa de hogar.\n"
   ]
  },
  {
   "cell_type": "code",
   "execution_count": 13,
   "metadata": {
    "id": "cGq88602Kxb1",
    "scrolled": true
   },
   "outputs": [],
   "source": [
    "# Creamos una columna llamada EdadPadres\n",
    "e = eph[eph['CH03'] == 1].groupby(['CODUSU','NRO_HOGAR'])['Edad'].max().reset_index(name='EdadPadres')\n",
    "f = pd.DataFrame(e) # Transformo el Serie Frame e en el data frame f\n",
    "eph = pd.merge(eph, f, on= ('CODUSU', 'NRO_HOGAR'), how='left') # Ahora lo uno con la base de datos original hacia la izquierda"
   ]
  },
  {
   "cell_type": "markdown",
   "metadata": {
    "id": "53PrAL4GUTza"
   },
   "source": [
    "Creamos un **dataframe que sea sólo para las Jefas de hogar**, llamado *ephmadre*, de manera tal que podamos obtener la educación de las jefas de hogar y sus respectivas edades"
   ]
  },
  {
   "cell_type": "code",
   "execution_count": 14,
   "metadata": {
    "id": "XkX25JY-Kxb2"
   },
   "outputs": [],
   "source": [
    "ephmadre = eph.drop(eph[(eph.CH04 == 1) & (eph.CH03 == 1)].index)  #Eliminamos a los Hombres que son jefes de hogar"
   ]
  },
  {
   "cell_type": "code",
   "execution_count": 15,
   "metadata": {
    "id": "nm-BirocKxb2"
   },
   "outputs": [],
   "source": [
    "# Creo una columna llamada EducJefa, que muestra la educación formal de cada Jefa de hogar que tiene hijos\n",
    "g = ephmadre[ephmadre['CH03'] == 1].groupby(['CODUSU','NRO_HOGAR'])['EducHijos'].max().reset_index(name='EducJefa')\n",
    "h = pd.DataFrame(g) # Transformo el Serie Frame g en el data frame h\n",
    "eph = pd.merge(eph, g, on= ('CODUSU', 'NRO_HOGAR'), how='left') # Ahora lo uno con la base de datos original hacia la izquierda"
   ]
  },
  {
   "cell_type": "code",
   "execution_count": 16,
   "metadata": {
    "id": "447Z05-WKxb3"
   },
   "outputs": [],
   "source": [
    "# Creo una columna llamada EdadJefa, que muestra los años de cada Jefa de hogar\n",
    "i = ephmadre[ephmadre['CH03'] == 1].groupby(['CODUSU','NRO_HOGAR'])['Edad'].max().reset_index(name='EdadJefa')\n",
    "j = pd.DataFrame(i) # Transformo el Serie Frame i en el data frame j\n",
    "eph = pd.merge(eph, j, on= ('CODUSU', 'NRO_HOGAR'), how='left') # Ahora lo uno con la base de datos original hacia la izquierda"
   ]
  },
  {
   "cell_type": "markdown",
   "metadata": {
    "id": "BbAnnAXXUTza"
   },
   "source": [
    "Creamos un **dataframe que sea sólo para los Jefes de hogar**, llamado *ephjefe*, de manera tal que podamos obtener la educación de los jefes de hogar y sus respectivas edades."
   ]
  },
  {
   "cell_type": "code",
   "execution_count": 17,
   "metadata": {
    "id": "YD2E2ajrUTzb"
   },
   "outputs": [],
   "source": [
    "ephjefe = eph.drop(eph[(eph.CH04 == 2) & (eph.CH03 == 1)].index)      #Eliminamos a las mujeres que son jefas de hogar"
   ]
  },
  {
   "cell_type": "code",
   "execution_count": 18,
   "metadata": {
    "id": "R4FtUP06Kxb4"
   },
   "outputs": [],
   "source": [
    "# Creo una columna llamada EducJefe, que muestra la educación formal de cada Jefe de hogar que tiene hijos\n",
    "k = ephjefe[ephjefe['CH03'] == 1].groupby(['CODUSU','NRO_HOGAR'])['EducHijos'].max().reset_index(name='EducJefe')\n",
    "l = pd.DataFrame(k) # Transformo el Serie Frame k en el data frame l\n",
    "eph = pd.merge(eph, l, on= ('CODUSU', 'NRO_HOGAR'), how='left') # Ahora lo uno con la base de datos original hacia la izquierda"
   ]
  },
  {
   "cell_type": "code",
   "execution_count": 19,
   "metadata": {
    "id": "71HTyJ3xKxb7"
   },
   "outputs": [],
   "source": [
    "# Creo una columna llamada EdadJefe, que muestra la edad de cada Jefe de hogar\n",
    "m = ephjefe[ephjefe['CH03'] == 1].groupby(['CODUSU','NRO_HOGAR'])['Edad'].max().reset_index(name='EdadJefe')\n",
    "n = pd.DataFrame(m) # Transformo el Serie Frame m en el data frame n\n",
    "eph = pd.merge(eph, n, on= ('CODUSU', 'NRO_HOGAR'), how='left') # Ahora lo uno con la base de datos original hacia la izquierda"
   ]
  },
  {
   "cell_type": "markdown",
   "metadata": {
    "id": "VCyFwuqaUTzb"
   },
   "source": [
    "Para ello crearemos una nueva columna llamada _\"MovEduc\"_ que mostrará si ese individuo experimentó o no Movilidad Educativa Intergeneracional. La columna tendrá el valor **NO** cuando el hijo haya completado los mismos años de educación que su padre o menos; mientras que será **SI** cuando el hijo haya completado más años de educación que su padre."
   ]
  },
  {
   "cell_type": "code",
   "execution_count": 20,
   "metadata": {
    "id": "qoGmSaMMUTzb"
   },
   "outputs": [],
   "source": [
    "eph.loc[(eph.EducPadres >= eph.EducHijos), 'MovEduc']= 'NO'\n",
    "eph.loc[(eph.EducPadres < eph.EducHijos), 'MovEduc']= 'SI'"
   ]
  },
  {
   "cell_type": "code",
   "execution_count": 21,
   "metadata": {
    "id": "vN25gQ2TUTzb",
    "outputId": "345704de-0b27-478d-e83e-05d1ee41ed67"
   },
   "outputs": [
    {
     "data": {
      "text/plain": [
       "array(['NO', 'SI', nan], dtype=object)"
      ]
     },
     "execution_count": 21,
     "metadata": {},
     "output_type": "execute_result"
    }
   ],
   "source": [
    "# Visualizamos los valores que tiene la columna MovEduc\n",
    "eph.MovEduc.unique()"
   ]
  },
  {
   "cell_type": "markdown",
   "metadata": {
    "id": "x9_NBOusUTzc"
   },
   "source": [
    "## 3.1.5. Verificación de datos ausentes"
   ]
  },
  {
   "cell_type": "code",
   "execution_count": 22,
   "metadata": {
    "id": "S9DU5AHhUTzc",
    "outputId": "137596e5-b01b-4450-8cc1-5783b5770553"
   },
   "outputs": [
    {
     "data": {
      "text/plain": [
       "485147"
      ]
     },
     "execution_count": 22,
     "metadata": {},
     "output_type": "execute_result"
    }
   ],
   "source": [
    "# Contamos la cantidad de valores nulos que hay en nuestra muestra\n",
    "sum(eph.isnull().sum())"
   ]
  },
  {
   "cell_type": "code",
   "execution_count": 23,
   "metadata": {
    "id": "Izfvk4tbUTzl",
    "outputId": "e582e409-a698-4842-f46f-c44a0cc8ff3e",
    "scrolled": true
   },
   "outputs": [
    {
     "data": {
      "text/plain": [
       "CODUSU            0\n",
       "NRO_HOGAR         0\n",
       "COMPONENTE        0\n",
       "ANO4              0\n",
       "TRIMESTRE         0\n",
       "REGION            0\n",
       "CH03              0\n",
       "CH04              0\n",
       "Edad              0\n",
       "CH12              0\n",
       "CH13              0\n",
       "CH14          84689\n",
       "PONDERA           0\n",
       "P21               0\n",
       "P47T            226\n",
       "ITF               1\n",
       "NIVEL_ED          0\n",
       "ESTADO            0\n",
       "CAT_OCUP          0\n",
       "CAT_INAC          0\n",
       "EducHijos      3760\n",
       "numhijos      76237\n",
       "EducPadres    13731\n",
       "EdadPadres    12096\n",
       "EducJefa      74504\n",
       "EdadJefa      73623\n",
       "EducJefe      65739\n",
       "EdadJefe      64873\n",
       "MovEduc       15668\n",
       "dtype: int64"
      ]
     },
     "execution_count": 23,
     "metadata": {},
     "output_type": "execute_result"
    }
   ],
   "source": [
    "# Contamos la cantidad de valores nulos que hay en cada variable\n",
    "eph.isnull().sum()"
   ]
  },
  {
   "cell_type": "markdown",
   "metadata": {
    "id": "Wsf0_MvxUTzl"
   },
   "source": [
    "Utilizamos la librería *missingno* para explorar los datos faltantes del dataframe. A continuación, se puede visualizar una matriz en donde las diferentes columnas representan cada variable, en este caso se tomó una muestra de 1000 datos, en la cual en **blanco** se ven los datos faltantes y en **negro** los valores con dato."
   ]
  },
  {
   "cell_type": "code",
   "execution_count": 24,
   "metadata": {
    "id": "Budwv8TFUTzm",
    "outputId": "89bb3d1f-5879-42fb-a796-2d87206cca24"
   },
   "outputs": [
    {
     "data": {
      "text/plain": [
       "<Axes: >"
      ]
     },
     "execution_count": 24,
     "metadata": {},
     "output_type": "execute_result"
    },
    {
     "data": {
      "image/png": "[encoded data removed]",
      "text/plain": [
       "<Figure size 1800x720 with 2 Axes>"
      ]
     },
     "metadata": {
      "needs_background": "light"
     },
     "output_type": "display_data"
    }
   ],
   "source": [
    "msno.matrix(eph.sample(1000))"
   ]
  },
  {
   "cell_type": "markdown",
   "metadata": {
    "id": "BWdMlt9EUTzm"
   },
   "source": [
    "###  Tratamiento de valores nulos\n"
   ]
  },
  {
   "cell_type": "markdown",
   "metadata": {
    "id": "K9IOO3wFUTzm"
   },
   "source": [
    "En este caso, los datos nulos pueden provenir de un error de tipeo o de una no respuesta por parte del encuestado. Por lo que, se decidió reemplazarlos por ceros, ya que si son eliminados disminuye considerablemente el tamaño de la muestra porque son una cantidad importante de registros (al tener en cuenta las variables CH14, EducHijos y EducPadres)."
   ]
  },
  {
   "cell_type": "code",
   "execution_count": 25,
   "metadata": {
    "id": "GQZzb4JVUTzn"
   },
   "outputs": [],
   "source": [
    "eph = eph.fillna(0)  # Reemplazamos los NaN's por ceros"
   ]
  },
  {
   "cell_type": "markdown",
   "metadata": {
    "id": "2TG2HdO6UTzn"
   },
   "source": [
    "Eliminamos las filas en las que la Educación y la edad del Padre son iguales cero porque son **valores erróneos.**"
   ]
  },
  {
   "cell_type": "code",
   "execution_count": 26,
   "metadata": {
    "id": "l6Pa0gAlUTzn"
   },
   "outputs": [],
   "source": [
    "eph = eph.drop(eph[(eph.EducPadres == 0) & (eph.EdadPadres == 0)].index)"
   ]
  },
  {
   "cell_type": "markdown",
   "metadata": {
    "id": "cbcZfG8NUTzn"
   },
   "source": [
    "## 3.1.6. Verificación de valores duplicados"
   ]
  },
  {
   "cell_type": "markdown",
   "metadata": {
    "id": "iA6I6kuZUTzn"
   },
   "source": [
    "Identificamos los valores duplicados en el *dataframe*, es decir, todos los hijos que han sido encuestados dos veces debido a la metodología utilizada para realizar la encuesta. Los hijos se identifican por tener el mismo **CODUSU, NRO_HOGAR y COMPONENTE**, y se cuenta la cantidad de duplicados que hay."
   ]
  },
  {
   "cell_type": "code",
   "execution_count": 27,
   "metadata": {
    "id": "6OZ1PPabUTzn",
    "outputId": "57dcd3af-e258-4901-8de2-53d3699ccdf2"
   },
   "outputs": [
    {
     "data": {
      "text/plain": [
       "117719"
      ]
     },
     "execution_count": 27,
     "metadata": {},
     "output_type": "execute_result"
    }
   ],
   "source": [
    "eph.duplicated(['CODUSU', 'NRO_HOGAR','COMPONENTE']).count()"
   ]
  },
  {
   "cell_type": "markdown",
   "metadata": {
    "id": "PgctYgecUTzo"
   },
   "source": [
    "### Tratamiento de valores duplicados"
   ]
  },
  {
   "cell_type": "markdown",
   "metadata": {
    "id": "ZC4vcU9EUTzo"
   },
   "source": [
    "Debido a que si dejamos los valores duplicados vamos a estar considerando dos veces a los mismos individuos, estos valores se eliminarán para evitar que los resultados estén sesgados."
   ]
  },
  {
   "cell_type": "code",
   "execution_count": 28,
   "metadata": {
    "id": "gHunOn3sUTzo",
    "outputId": "9c0014c7-c4b0-4556-e003-50ddb777bf89"
   },
   "outputs": [
    {
     "data": {
      "text/html": [
       "<div>\n",
       "<style scoped>\n",
       "    .dataframe tbody tr th:only-of-type {\n",
       "        vertical-align: middle;\n",
       "    }\n",
       "\n",
       "    .dataframe tbody tr th {\n",
       "        vertical-align: top;\n",
       "    }\n",
       "\n",
       "    .dataframe thead th {\n",
       "        text-align: right;\n",
       "    }\n",
       "</style>\n",
       "<table border=\"1\" class=\"dataframe\">\n",
       "  <thead>\n",
       "    <tr style=\"text-align: right;\">\n",
       "      <th></th>\n",
       "      <th>CODUSU</th>\n",
       "      <th>NRO_HOGAR</th>\n",
       "      <th>COMPONENTE</th>\n",
       "      <th>ANO4</th>\n",
       "      <th>TRIMESTRE</th>\n",
       "      <th>REGION</th>\n",
       "      <th>CH03</th>\n",
       "      <th>CH04</th>\n",
       "      <th>Edad</th>\n",
       "      <th>CH12</th>\n",
       "      <th>...</th>\n",
       "      <th>CAT_INAC</th>\n",
       "      <th>EducHijos</th>\n",
       "      <th>numhijos</th>\n",
       "      <th>EducPadres</th>\n",
       "      <th>EdadPadres</th>\n",
       "      <th>EducJefa</th>\n",
       "      <th>EdadJefa</th>\n",
       "      <th>EducJefe</th>\n",
       "      <th>EdadJefe</th>\n",
       "      <th>MovEduc</th>\n",
       "    </tr>\n",
       "  </thead>\n",
       "  <tbody>\n",
       "    <tr>\n",
       "      <th>0</th>\n",
       "      <td>TQRMNOPPQHLKLMCDEFIAH00646702</td>\n",
       "      <td>1</td>\n",
       "      <td>1</td>\n",
       "      <td>2021</td>\n",
       "      <td>1</td>\n",
       "      <td>43</td>\n",
       "      <td>1</td>\n",
       "      <td>2</td>\n",
       "      <td>27</td>\n",
       "      <td>7</td>\n",
       "      <td>...</td>\n",
       "      <td>0</td>\n",
       "      <td>17.0</td>\n",
       "      <td>0.0</td>\n",
       "      <td>17.0</td>\n",
       "      <td>27.0</td>\n",
       "      <td>17.0</td>\n",
       "      <td>27.0</td>\n",
       "      <td>0.0</td>\n",
       "      <td>0.0</td>\n",
       "      <td>NO</td>\n",
       "    </tr>\n",
       "    <tr>\n",
       "      <th>1</th>\n",
       "      <td>TQRMNOPPRHLKLMCDEFIAH00665104</td>\n",
       "      <td>1</td>\n",
       "      <td>1</td>\n",
       "      <td>2021</td>\n",
       "      <td>1</td>\n",
       "      <td>43</td>\n",
       "      <td>1</td>\n",
       "      <td>2</td>\n",
       "      <td>26</td>\n",
       "      <td>7</td>\n",
       "      <td>...</td>\n",
       "      <td>3</td>\n",
       "      <td>16.0</td>\n",
       "      <td>0.0</td>\n",
       "      <td>16.0</td>\n",
       "      <td>26.0</td>\n",
       "      <td>16.0</td>\n",
       "      <td>26.0</td>\n",
       "      <td>0.0</td>\n",
       "      <td>0.0</td>\n",
       "      <td>NO</td>\n",
       "    </tr>\n",
       "    <tr>\n",
       "      <th>2</th>\n",
       "      <td>TQRMNOPPRHMOLQCDEFIAH00701809</td>\n",
       "      <td>1</td>\n",
       "      <td>1</td>\n",
       "      <td>2021</td>\n",
       "      <td>1</td>\n",
       "      <td>43</td>\n",
       "      <td>1</td>\n",
       "      <td>1</td>\n",
       "      <td>38</td>\n",
       "      <td>4</td>\n",
       "      <td>...</td>\n",
       "      <td>0</td>\n",
       "      <td>9.0</td>\n",
       "      <td>0.0</td>\n",
       "      <td>10.0</td>\n",
       "      <td>39.0</td>\n",
       "      <td>0.0</td>\n",
       "      <td>0.0</td>\n",
       "      <td>10.0</td>\n",
       "      <td>39.0</td>\n",
       "      <td>NO</td>\n",
       "    </tr>\n",
       "    <tr>\n",
       "      <th>3</th>\n",
       "      <td>TQRMNOPPSHLKLMCDEFIAH00646637</td>\n",
       "      <td>1</td>\n",
       "      <td>1</td>\n",
       "      <td>2021</td>\n",
       "      <td>1</td>\n",
       "      <td>43</td>\n",
       "      <td>1</td>\n",
       "      <td>1</td>\n",
       "      <td>25</td>\n",
       "      <td>7</td>\n",
       "      <td>...</td>\n",
       "      <td>0</td>\n",
       "      <td>17.0</td>\n",
       "      <td>0.0</td>\n",
       "      <td>17.0</td>\n",
       "      <td>25.0</td>\n",
       "      <td>0.0</td>\n",
       "      <td>0.0</td>\n",
       "      <td>17.0</td>\n",
       "      <td>25.0</td>\n",
       "      <td>NO</td>\n",
       "    </tr>\n",
       "    <tr>\n",
       "      <th>4</th>\n",
       "      <td>TQRMNOPPSHMOLQCDEFIAH00698759</td>\n",
       "      <td>1</td>\n",
       "      <td>1</td>\n",
       "      <td>2021</td>\n",
       "      <td>1</td>\n",
       "      <td>43</td>\n",
       "      <td>1</td>\n",
       "      <td>2</td>\n",
       "      <td>49</td>\n",
       "      <td>2</td>\n",
       "      <td>...</td>\n",
       "      <td>0</td>\n",
       "      <td>6.0</td>\n",
       "      <td>0.0</td>\n",
       "      <td>6.0</td>\n",
       "      <td>50.0</td>\n",
       "      <td>6.0</td>\n",
       "      <td>50.0</td>\n",
       "      <td>5.0</td>\n",
       "      <td>50.0</td>\n",
       "      <td>NO</td>\n",
       "    </tr>\n",
       "  </tbody>\n",
       "</table>\n",
       "<p>5 rows × 29 columns</p>\n",
       "</div>"
      ],
      "text/plain": [
       "                          CODUSU  NRO_HOGAR  COMPONENTE  ANO4  TRIMESTRE  \\\n",
       "0  TQRMNOPPQHLKLMCDEFIAH00646702          1           1  2021          1   \n",
       "1  TQRMNOPPRHLKLMCDEFIAH00665104          1           1  2021          1   \n",
       "2  TQRMNOPPRHMOLQCDEFIAH00701809          1           1  2021          1   \n",
       "3  TQRMNOPPSHLKLMCDEFIAH00646637          1           1  2021          1   \n",
       "4  TQRMNOPPSHMOLQCDEFIAH00698759          1           1  2021          1   \n",
       "\n",
       "   REGION  CH03  CH04  Edad  CH12  ...  CAT_INAC  EducHijos  numhijos  \\\n",
       "0      43     1     2    27     7  ...         0       17.0       0.0   \n",
       "1      43     1     2    26     7  ...         3       16.0       0.0   \n",
       "2      43     1     1    38     4  ...         0        9.0       0.0   \n",
       "3      43     1     1    25     7  ...         0       17.0       0.0   \n",
       "4      43     1     2    49     2  ...         0        6.0       0.0   \n",
       "\n",
       "   EducPadres  EdadPadres  EducJefa  EdadJefa  EducJefe  EdadJefe  MovEduc  \n",
       "0        17.0        27.0      17.0      27.0       0.0       0.0       NO  \n",
       "1        16.0        26.0      16.0      26.0       0.0       0.0       NO  \n",
       "2        10.0        39.0       0.0       0.0      10.0      39.0       NO  \n",
       "3        17.0        25.0       0.0       0.0      17.0      25.0       NO  \n",
       "4         6.0        50.0       6.0      50.0       5.0      50.0       NO  \n",
       "\n",
       "[5 rows x 29 columns]"
      ]
     },
     "execution_count": 28,
     "metadata": {},
     "output_type": "execute_result"
    }
   ],
   "source": [
    "eph = eph.drop_duplicates(['CODUSU', 'NRO_HOGAR','COMPONENTE'])\n",
    "eph.head(5)"
   ]
  },
  {
   "cell_type": "markdown",
   "metadata": {
    "id": "glTFSjPRUTzo"
   },
   "source": [
    "## 3.1.7. Transformaciones\n",
    "\n",
    "Utilizando la técnica **Label Encoder**, transformaremos la variable categórica *MovEduc* de manera tal que ahora será una variable dummie la cual tendrá el valor de 0 cuando el valor de la columna *MovEduc* sea **NO** y 1 cuando sea **SI**."
   ]
  },
  {
   "cell_type": "code",
   "execution_count": 29,
   "metadata": {
    "id": "eQas8cC2UTzo",
    "outputId": "1e5f0c36-3616-4eac-b5be-73c0e1174f9e"
   },
   "outputs": [
    {
     "data": {
      "text/plain": [
       "array(['NO', 'SI', 0], dtype=object)"
      ]
     },
     "execution_count": 29,
     "metadata": {},
     "output_type": "execute_result"
    }
   ],
   "source": [
    "# Visualizamos los valores que tiene la columna MovEduc\n",
    "eph.MovEduc.unique()"
   ]
  },
  {
   "cell_type": "code",
   "execution_count": 30,
   "metadata": {
    "id": "zJrzX0CbT6kl"
   },
   "outputs": [],
   "source": [
    "# Volvemos a correr el siguiente comando para que a los valores que ahora son 0 le asigne el valor de NO\n",
    "eph.loc[(eph.EducPadres >= eph.EducHijos), 'MovEduc']= 'NO'\n",
    "eph.loc[(eph.EducPadres < eph.EducHijos), 'MovEduc']= 'SI'"
   ]
  },
  {
   "cell_type": "code",
   "execution_count": 31,
   "metadata": {
    "id": "x_X7tffyUTzp"
   },
   "outputs": [],
   "source": [
    "le = preprocessing.LabelEncoder()\n",
    "eph['MovEduc'] = le.fit_transform(eph.MovEduc)"
   ]
  },
  {
   "cell_type": "code",
   "execution_count": 32,
   "metadata": {
    "id": "8_lX_JO8UTzp",
    "outputId": "ca44cbbf-24b2-4c8c-9cde-dd4d3a576878"
   },
   "outputs": [
    {
     "data": {
      "text/html": [
       "<div>\n",
       "<style scoped>\n",
       "    .dataframe tbody tr th:only-of-type {\n",
       "        vertical-align: middle;\n",
       "    }\n",
       "\n",
       "    .dataframe tbody tr th {\n",
       "        vertical-align: top;\n",
       "    }\n",
       "\n",
       "    .dataframe thead th {\n",
       "        text-align: right;\n",
       "    }\n",
       "</style>\n",
       "<table border=\"1\" class=\"dataframe\">\n",
       "  <thead>\n",
       "    <tr style=\"text-align: right;\">\n",
       "      <th></th>\n",
       "      <th>CODUSU</th>\n",
       "      <th>NRO_HOGAR</th>\n",
       "      <th>COMPONENTE</th>\n",
       "      <th>ANO4</th>\n",
       "      <th>TRIMESTRE</th>\n",
       "      <th>REGION</th>\n",
       "      <th>CH03</th>\n",
       "      <th>CH04</th>\n",
       "      <th>Edad</th>\n",
       "      <th>CH12</th>\n",
       "      <th>...</th>\n",
       "      <th>CAT_INAC</th>\n",
       "      <th>EducHijos</th>\n",
       "      <th>numhijos</th>\n",
       "      <th>EducPadres</th>\n",
       "      <th>EdadPadres</th>\n",
       "      <th>EducJefa</th>\n",
       "      <th>EdadJefa</th>\n",
       "      <th>EducJefe</th>\n",
       "      <th>EdadJefe</th>\n",
       "      <th>MovEduc</th>\n",
       "    </tr>\n",
       "  </thead>\n",
       "  <tbody>\n",
       "    <tr>\n",
       "      <th>0</th>\n",
       "      <td>TQRMNOPPQHLKLMCDEFIAH00646702</td>\n",
       "      <td>1</td>\n",
       "      <td>1</td>\n",
       "      <td>2021</td>\n",
       "      <td>1</td>\n",
       "      <td>43</td>\n",
       "      <td>1</td>\n",
       "      <td>2</td>\n",
       "      <td>27</td>\n",
       "      <td>7</td>\n",
       "      <td>...</td>\n",
       "      <td>0</td>\n",
       "      <td>17.0</td>\n",
       "      <td>0.0</td>\n",
       "      <td>17.0</td>\n",
       "      <td>27.0</td>\n",
       "      <td>17.0</td>\n",
       "      <td>27.0</td>\n",
       "      <td>0.0</td>\n",
       "      <td>0.0</td>\n",
       "      <td>0</td>\n",
       "    </tr>\n",
       "    <tr>\n",
       "      <th>1</th>\n",
       "      <td>TQRMNOPPRHLKLMCDEFIAH00665104</td>\n",
       "      <td>1</td>\n",
       "      <td>1</td>\n",
       "      <td>2021</td>\n",
       "      <td>1</td>\n",
       "      <td>43</td>\n",
       "      <td>1</td>\n",
       "      <td>2</td>\n",
       "      <td>26</td>\n",
       "      <td>7</td>\n",
       "      <td>...</td>\n",
       "      <td>3</td>\n",
       "      <td>16.0</td>\n",
       "      <td>0.0</td>\n",
       "      <td>16.0</td>\n",
       "      <td>26.0</td>\n",
       "      <td>16.0</td>\n",
       "      <td>26.0</td>\n",
       "      <td>0.0</td>\n",
       "      <td>0.0</td>\n",
       "      <td>0</td>\n",
       "    </tr>\n",
       "    <tr>\n",
       "      <th>2</th>\n",
       "      <td>TQRMNOPPRHMOLQCDEFIAH00701809</td>\n",
       "      <td>1</td>\n",
       "      <td>1</td>\n",
       "      <td>2021</td>\n",
       "      <td>1</td>\n",
       "      <td>43</td>\n",
       "      <td>1</td>\n",
       "      <td>1</td>\n",
       "      <td>38</td>\n",
       "      <td>4</td>\n",
       "      <td>...</td>\n",
       "      <td>0</td>\n",
       "      <td>9.0</td>\n",
       "      <td>0.0</td>\n",
       "      <td>10.0</td>\n",
       "      <td>39.0</td>\n",
       "      <td>0.0</td>\n",
       "      <td>0.0</td>\n",
       "      <td>10.0</td>\n",
       "      <td>39.0</td>\n",
       "      <td>0</td>\n",
       "    </tr>\n",
       "    <tr>\n",
       "      <th>3</th>\n",
       "      <td>TQRMNOPPSHLKLMCDEFIAH00646637</td>\n",
       "      <td>1</td>\n",
       "      <td>1</td>\n",
       "      <td>2021</td>\n",
       "      <td>1</td>\n",
       "      <td>43</td>\n",
       "      <td>1</td>\n",
       "      <td>1</td>\n",
       "      <td>25</td>\n",
       "      <td>7</td>\n",
       "      <td>...</td>\n",
       "      <td>0</td>\n",
       "      <td>17.0</td>\n",
       "      <td>0.0</td>\n",
       "      <td>17.0</td>\n",
       "      <td>25.0</td>\n",
       "      <td>0.0</td>\n",
       "      <td>0.0</td>\n",
       "      <td>17.0</td>\n",
       "      <td>25.0</td>\n",
       "      <td>0</td>\n",
       "    </tr>\n",
       "    <tr>\n",
       "      <th>4</th>\n",
       "      <td>TQRMNOPPSHMOLQCDEFIAH00698759</td>\n",
       "      <td>1</td>\n",
       "      <td>1</td>\n",
       "      <td>2021</td>\n",
       "      <td>1</td>\n",
       "      <td>43</td>\n",
       "      <td>1</td>\n",
       "      <td>2</td>\n",
       "      <td>49</td>\n",
       "      <td>2</td>\n",
       "      <td>...</td>\n",
       "      <td>0</td>\n",
       "      <td>6.0</td>\n",
       "      <td>0.0</td>\n",
       "      <td>6.0</td>\n",
       "      <td>50.0</td>\n",
       "      <td>6.0</td>\n",
       "      <td>50.0</td>\n",
       "      <td>5.0</td>\n",
       "      <td>50.0</td>\n",
       "      <td>0</td>\n",
       "    </tr>\n",
       "  </tbody>\n",
       "</table>\n",
       "<p>5 rows × 29 columns</p>\n",
       "</div>"
      ],
      "text/plain": [
       "                          CODUSU  NRO_HOGAR  COMPONENTE  ANO4  TRIMESTRE  \\\n",
       "0  TQRMNOPPQHLKLMCDEFIAH00646702          1           1  2021          1   \n",
       "1  TQRMNOPPRHLKLMCDEFIAH00665104          1           1  2021          1   \n",
       "2  TQRMNOPPRHMOLQCDEFIAH00701809          1           1  2021          1   \n",
       "3  TQRMNOPPSHLKLMCDEFIAH00646637          1           1  2021          1   \n",
       "4  TQRMNOPPSHMOLQCDEFIAH00698759          1           1  2021          1   \n",
       "\n",
       "   REGION  CH03  CH04  Edad  CH12  ...  CAT_INAC  EducHijos  numhijos  \\\n",
       "0      43     1     2    27     7  ...         0       17.0       0.0   \n",
       "1      43     1     2    26     7  ...         3       16.0       0.0   \n",
       "2      43     1     1    38     4  ...         0        9.0       0.0   \n",
       "3      43     1     1    25     7  ...         0       17.0       0.0   \n",
       "4      43     1     2    49     2  ...         0        6.0       0.0   \n",
       "\n",
       "   EducPadres  EdadPadres  EducJefa  EdadJefa  EducJefe  EdadJefe  MovEduc  \n",
       "0        17.0        27.0      17.0      27.0       0.0       0.0        0  \n",
       "1        16.0        26.0      16.0      26.0       0.0       0.0        0  \n",
       "2        10.0        39.0       0.0       0.0      10.0      39.0        0  \n",
       "3        17.0        25.0       0.0       0.0      17.0      25.0        0  \n",
       "4         6.0        50.0       6.0      50.0       5.0      50.0        0  \n",
       "\n",
       "[5 rows x 29 columns]"
      ]
     },
     "execution_count": 32,
     "metadata": {},
     "output_type": "execute_result"
    }
   ],
   "source": [
    "eph.head()"
   ]
  },
  {
   "cell_type": "markdown",
   "metadata": {
    "id": "5ycK4crHUTzp"
   },
   "source": [
    "## 3.1.8. Filtrado de variables II\n",
    "\n",
    "Creamos un nuevo dataframe llamado _EPH_ donde dejo sólo las variables que son de mi interés con la función **df.filter()**\n"
   ]
  },
  {
   "cell_type": "code",
   "execution_count": 33,
   "metadata": {
    "id": "YxQq44fgUTzp",
    "outputId": "a02619ed-68d0-4f44-d029-8bef721d615f"
   },
   "outputs": [
    {
     "data": {
      "text/html": [
       "<div>\n",
       "<style scoped>\n",
       "    .dataframe tbody tr th:only-of-type {\n",
       "        vertical-align: middle;\n",
       "    }\n",
       "\n",
       "    .dataframe tbody tr th {\n",
       "        vertical-align: top;\n",
       "    }\n",
       "\n",
       "    .dataframe thead th {\n",
       "        text-align: right;\n",
       "    }\n",
       "</style>\n",
       "<table border=\"1\" class=\"dataframe\">\n",
       "  <thead>\n",
       "    <tr style=\"text-align: right;\">\n",
       "      <th></th>\n",
       "      <th>CODUSU</th>\n",
       "      <th>NRO_HOGAR</th>\n",
       "      <th>REGION</th>\n",
       "      <th>CH03</th>\n",
       "      <th>CH04</th>\n",
       "      <th>EducJefa</th>\n",
       "      <th>EducJefe</th>\n",
       "      <th>EducPadres</th>\n",
       "      <th>EducHijos</th>\n",
       "      <th>EdadJefa</th>\n",
       "      <th>EdadJefe</th>\n",
       "      <th>EdadPadres</th>\n",
       "      <th>Edad</th>\n",
       "      <th>numhijos</th>\n",
       "      <th>P21</th>\n",
       "      <th>MovEduc</th>\n",
       "    </tr>\n",
       "  </thead>\n",
       "  <tbody>\n",
       "    <tr>\n",
       "      <th>0</th>\n",
       "      <td>TQRMNOPPQHLKLMCDEFIAH00646702</td>\n",
       "      <td>1</td>\n",
       "      <td>43</td>\n",
       "      <td>1</td>\n",
       "      <td>2</td>\n",
       "      <td>17.0</td>\n",
       "      <td>0.0</td>\n",
       "      <td>17.0</td>\n",
       "      <td>17.0</td>\n",
       "      <td>27.0</td>\n",
       "      <td>0.0</td>\n",
       "      <td>27.0</td>\n",
       "      <td>27</td>\n",
       "      <td>0.0</td>\n",
       "      <td>40000.0</td>\n",
       "      <td>0</td>\n",
       "    </tr>\n",
       "    <tr>\n",
       "      <th>1</th>\n",
       "      <td>TQRMNOPPRHLKLMCDEFIAH00665104</td>\n",
       "      <td>1</td>\n",
       "      <td>43</td>\n",
       "      <td>1</td>\n",
       "      <td>2</td>\n",
       "      <td>16.0</td>\n",
       "      <td>0.0</td>\n",
       "      <td>16.0</td>\n",
       "      <td>16.0</td>\n",
       "      <td>26.0</td>\n",
       "      <td>0.0</td>\n",
       "      <td>26.0</td>\n",
       "      <td>26</td>\n",
       "      <td>0.0</td>\n",
       "      <td>0.0</td>\n",
       "      <td>0</td>\n",
       "    </tr>\n",
       "    <tr>\n",
       "      <th>2</th>\n",
       "      <td>TQRMNOPPRHMOLQCDEFIAH00701809</td>\n",
       "      <td>1</td>\n",
       "      <td>43</td>\n",
       "      <td>1</td>\n",
       "      <td>1</td>\n",
       "      <td>0.0</td>\n",
       "      <td>10.0</td>\n",
       "      <td>10.0</td>\n",
       "      <td>9.0</td>\n",
       "      <td>0.0</td>\n",
       "      <td>39.0</td>\n",
       "      <td>39.0</td>\n",
       "      <td>38</td>\n",
       "      <td>0.0</td>\n",
       "      <td>30000.0</td>\n",
       "      <td>0</td>\n",
       "    </tr>\n",
       "    <tr>\n",
       "      <th>3</th>\n",
       "      <td>TQRMNOPPSHLKLMCDEFIAH00646637</td>\n",
       "      <td>1</td>\n",
       "      <td>43</td>\n",
       "      <td>1</td>\n",
       "      <td>1</td>\n",
       "      <td>0.0</td>\n",
       "      <td>17.0</td>\n",
       "      <td>17.0</td>\n",
       "      <td>17.0</td>\n",
       "      <td>0.0</td>\n",
       "      <td>25.0</td>\n",
       "      <td>25.0</td>\n",
       "      <td>25</td>\n",
       "      <td>0.0</td>\n",
       "      <td>-9.0</td>\n",
       "      <td>0</td>\n",
       "    </tr>\n",
       "    <tr>\n",
       "      <th>4</th>\n",
       "      <td>TQRMNOPPSHMOLQCDEFIAH00698759</td>\n",
       "      <td>1</td>\n",
       "      <td>43</td>\n",
       "      <td>1</td>\n",
       "      <td>2</td>\n",
       "      <td>6.0</td>\n",
       "      <td>5.0</td>\n",
       "      <td>6.0</td>\n",
       "      <td>6.0</td>\n",
       "      <td>50.0</td>\n",
       "      <td>50.0</td>\n",
       "      <td>50.0</td>\n",
       "      <td>49</td>\n",
       "      <td>0.0</td>\n",
       "      <td>17000.0</td>\n",
       "      <td>0</td>\n",
       "    </tr>\n",
       "  </tbody>\n",
       "</table>\n",
       "</div>"
      ],
      "text/plain": [
       "                          CODUSU  NRO_HOGAR  REGION  CH03  CH04  EducJefa  \\\n",
       "0  TQRMNOPPQHLKLMCDEFIAH00646702          1      43     1     2      17.0   \n",
       "1  TQRMNOPPRHLKLMCDEFIAH00665104          1      43     1     2      16.0   \n",
       "2  TQRMNOPPRHMOLQCDEFIAH00701809          1      43     1     1       0.0   \n",
       "3  TQRMNOPPSHLKLMCDEFIAH00646637          1      43     1     1       0.0   \n",
       "4  TQRMNOPPSHMOLQCDEFIAH00698759          1      43     1     2       6.0   \n",
       "\n",
       "   EducJefe  EducPadres  EducHijos  EdadJefa  EdadJefe  EdadPadres  Edad  \\\n",
       "0       0.0        17.0       17.0      27.0       0.0        27.0    27   \n",
       "1       0.0        16.0       16.0      26.0       0.0        26.0    26   \n",
       "2      10.0        10.0        9.0       0.0      39.0        39.0    38   \n",
       "3      17.0        17.0       17.0       0.0      25.0        25.0    25   \n",
       "4       5.0         6.0        6.0      50.0      50.0        50.0    49   \n",
       "\n",
       "   numhijos      P21  MovEduc  \n",
       "0       0.0  40000.0        0  \n",
       "1       0.0      0.0        0  \n",
       "2       0.0  30000.0        0  \n",
       "3       0.0     -9.0        0  \n",
       "4       0.0  17000.0        0  "
      ]
     },
     "execution_count": 33,
     "metadata": {},
     "output_type": "execute_result"
    }
   ],
   "source": [
    "EPH = eph.filter(['CODUSU','NRO_HOGAR','REGION','CH03','CH04','CH06','EducJefa','EducJefe','EducPadres','EducHijos','EdadJefa','EdadJefe','EdadPadres','Edad','numhijos','P21','MovEduc'])\n",
    "EPH = EPH.fillna(0)     # Reemplazamos los NaNs por cero\n",
    "EPH.head(5)  # Visualizamos la base de datos"
   ]
  },
  {
   "cell_type": "markdown",
   "metadata": {
    "id": "PjJ-Ggv4UTzp"
   },
   "source": [
    "# 3.2. Análisis Exploratorio de Datos (EDA)\n",
    "\n",
    "---"
   ]
  },
  {
   "cell_type": "markdown",
   "metadata": {
    "id": "lTtR7k4AUTzq"
   },
   "source": [
    "## 3.2.1. Información general sobre el conjunto de datos"
   ]
  },
  {
   "cell_type": "code",
   "execution_count": 34,
   "metadata": {
    "id": "FQ998_pDUTzq",
    "outputId": "c555b81f-d9b2-4e2f-ff72-1efd1a76e37c",
    "scrolled": true
   },
   "outputs": [
    {
     "name": "stdout",
     "output_type": "stream",
     "text": [
      "Filas, Columnas (59743, 29)\n",
      "\n",
      "Nombre de las variables: \n",
      " Index(['CODUSU', 'NRO_HOGAR', 'COMPONENTE', 'ANO4', 'TRIMESTRE', 'REGION',\n",
      "       'CH03', 'CH04', 'Edad', 'CH12', 'CH13', 'CH14', 'PONDERA', 'P21',\n",
      "       'P47T', 'ITF', 'NIVEL_ED', 'ESTADO', 'CAT_OCUP', 'CAT_INAC',\n",
      "       'EducHijos', 'numhijos', 'EducPadres', 'EdadPadres', 'EducJefa',\n",
      "       'EdadJefa', 'EducJefe', 'EdadJefe', 'MovEduc'],\n",
      "      dtype='object')\n",
      "\n",
      "Tipos de datos: \n",
      " CODUSU         object\n",
      "NRO_HOGAR       int64\n",
      "COMPONENTE      int64\n",
      "ANO4            int64\n",
      "TRIMESTRE       int64\n",
      "REGION          int64\n",
      "CH03            int64\n",
      "CH04            int64\n",
      "Edad            int64\n",
      "CH12            int64\n",
      "CH13            int64\n",
      "CH14          float64\n",
      "PONDERA         int64\n",
      "P21           float64\n",
      "P47T          float64\n",
      "ITF           float64\n",
      "NIVEL_ED        int64\n",
      "ESTADO          int64\n",
      "CAT_OCUP        int64\n",
      "CAT_INAC        int64\n",
      "EducHijos     float64\n",
      "numhijos      float64\n",
      "EducPadres    float64\n",
      "EdadPadres    float64\n",
      "EducJefa      float64\n",
      "EdadJefa      float64\n",
      "EducJefe      float64\n",
      "EdadJefe      float64\n",
      "MovEduc         int32\n",
      "dtype: object\n",
      "\n",
      "Valores faltantes: \n",
      " CODUSU        0\n",
      "NRO_HOGAR     0\n",
      "COMPONENTE    0\n",
      "ANO4          0\n",
      "TRIMESTRE     0\n",
      "REGION        0\n",
      "CH03          0\n",
      "CH04          0\n",
      "Edad          0\n",
      "CH12          0\n",
      "CH13          0\n",
      "CH14          0\n",
      "PONDERA       0\n",
      "P21           0\n",
      "P47T          0\n",
      "ITF           0\n",
      "NIVEL_ED      0\n",
      "ESTADO        0\n",
      "CAT_OCUP      0\n",
      "CAT_INAC      0\n",
      "EducHijos     0\n",
      "numhijos      0\n",
      "EducPadres    0\n",
      "EdadPadres    0\n",
      "EducJefa      0\n",
      "EdadJefa      0\n",
      "EducJefe      0\n",
      "EdadJefe      0\n",
      "MovEduc       0\n",
      "dtype: int64\n"
     ]
    }
   ],
   "source": [
    "# Tamaño del conjunto de datos\n",
    "print(\"Filas, Columnas\", eph.shape)\n",
    "\n",
    "# Nombre de las variables\n",
    "print(\"\\nNombre de las variables: \\n\", eph.columns)\n",
    "\n",
    "# Tipo de datos de cada variable\n",
    "print(\"\\nTipos de datos: \\n\", eph.dtypes)\n",
    "\n",
    "# Verificamos la presencia de falores faltantes\n",
    "print(\"\\nValores faltantes: \\n\", eph.isnull().sum())"
   ]
  },
  {
   "cell_type": "code",
   "execution_count": 35,
   "metadata": {
    "id": "-vT5tvGrT6kp",
    "outputId": "ecbd5157-0d5b-4a0a-b862-89b51dc9b72d"
   },
   "outputs": [
    {
     "data": {
      "text/html": [
       "<div>\n",
       "<style scoped>\n",
       "    .dataframe tbody tr th:only-of-type {\n",
       "        vertical-align: middle;\n",
       "    }\n",
       "\n",
       "    .dataframe tbody tr th {\n",
       "        vertical-align: top;\n",
       "    }\n",
       "\n",
       "    .dataframe thead th {\n",
       "        text-align: right;\n",
       "    }\n",
       "</style>\n",
       "<table border=\"1\" class=\"dataframe\">\n",
       "  <thead>\n",
       "    <tr style=\"text-align: right;\">\n",
       "      <th></th>\n",
       "      <th>count</th>\n",
       "      <th>mean</th>\n",
       "      <th>std</th>\n",
       "      <th>min</th>\n",
       "      <th>25%</th>\n",
       "      <th>50%</th>\n",
       "      <th>75%</th>\n",
       "      <th>max</th>\n",
       "    </tr>\n",
       "  </thead>\n",
       "  <tbody>\n",
       "    <tr>\n",
       "      <th>NRO_HOGAR</th>\n",
       "      <td>59743.0</td>\n",
       "      <td>1.09</td>\n",
       "      <td>1.59</td>\n",
       "      <td>1.0</td>\n",
       "      <td>1.0</td>\n",
       "      <td>1.0</td>\n",
       "      <td>1.0</td>\n",
       "      <td>73.0</td>\n",
       "    </tr>\n",
       "    <tr>\n",
       "      <th>COMPONENTE</th>\n",
       "      <td>59743.0</td>\n",
       "      <td>1.43</td>\n",
       "      <td>0.98</td>\n",
       "      <td>1.0</td>\n",
       "      <td>1.0</td>\n",
       "      <td>1.0</td>\n",
       "      <td>1.0</td>\n",
       "      <td>14.0</td>\n",
       "    </tr>\n",
       "    <tr>\n",
       "      <th>ANO4</th>\n",
       "      <td>59743.0</td>\n",
       "      <td>2021.38</td>\n",
       "      <td>0.48</td>\n",
       "      <td>2021.0</td>\n",
       "      <td>2021.0</td>\n",
       "      <td>2021.0</td>\n",
       "      <td>2022.0</td>\n",
       "      <td>2022.0</td>\n",
       "    </tr>\n",
       "    <tr>\n",
       "      <th>TRIMESTRE</th>\n",
       "      <td>59743.0</td>\n",
       "      <td>2.29</td>\n",
       "      <td>1.12</td>\n",
       "      <td>1.0</td>\n",
       "      <td>1.0</td>\n",
       "      <td>2.0</td>\n",
       "      <td>3.0</td>\n",
       "      <td>4.0</td>\n",
       "    </tr>\n",
       "    <tr>\n",
       "      <th>REGION</th>\n",
       "      <td>59743.0</td>\n",
       "      <td>36.12</td>\n",
       "      <td>14.51</td>\n",
       "      <td>1.0</td>\n",
       "      <td>40.0</td>\n",
       "      <td>42.0</td>\n",
       "      <td>43.0</td>\n",
       "      <td>44.0</td>\n",
       "    </tr>\n",
       "    <tr>\n",
       "      <th>CH03</th>\n",
       "      <td>59743.0</td>\n",
       "      <td>1.39</td>\n",
       "      <td>0.80</td>\n",
       "      <td>1.0</td>\n",
       "      <td>1.0</td>\n",
       "      <td>1.0</td>\n",
       "      <td>1.0</td>\n",
       "      <td>3.0</td>\n",
       "    </tr>\n",
       "    <tr>\n",
       "      <th>CH04</th>\n",
       "      <td>59743.0</td>\n",
       "      <td>1.45</td>\n",
       "      <td>0.50</td>\n",
       "      <td>1.0</td>\n",
       "      <td>1.0</td>\n",
       "      <td>1.0</td>\n",
       "      <td>2.0</td>\n",
       "      <td>2.0</td>\n",
       "    </tr>\n",
       "    <tr>\n",
       "      <th>Edad</th>\n",
       "      <td>59743.0</td>\n",
       "      <td>42.65</td>\n",
       "      <td>12.16</td>\n",
       "      <td>25.0</td>\n",
       "      <td>32.0</td>\n",
       "      <td>42.0</td>\n",
       "      <td>53.0</td>\n",
       "      <td>65.0</td>\n",
       "    </tr>\n",
       "    <tr>\n",
       "      <th>CH12</th>\n",
       "      <td>59743.0</td>\n",
       "      <td>4.65</td>\n",
       "      <td>2.00</td>\n",
       "      <td>0.0</td>\n",
       "      <td>4.0</td>\n",
       "      <td>4.0</td>\n",
       "      <td>6.0</td>\n",
       "      <td>99.0</td>\n",
       "    </tr>\n",
       "    <tr>\n",
       "      <th>CH13</th>\n",
       "      <td>59743.0</td>\n",
       "      <td>1.35</td>\n",
       "      <td>0.48</td>\n",
       "      <td>0.0</td>\n",
       "      <td>1.0</td>\n",
       "      <td>1.0</td>\n",
       "      <td>2.0</td>\n",
       "      <td>2.0</td>\n",
       "    </tr>\n",
       "    <tr>\n",
       "      <th>CH14</th>\n",
       "      <td>59743.0</td>\n",
       "      <td>0.95</td>\n",
       "      <td>1.57</td>\n",
       "      <td>0.0</td>\n",
       "      <td>0.0</td>\n",
       "      <td>0.0</td>\n",
       "      <td>2.0</td>\n",
       "      <td>9.0</td>\n",
       "    </tr>\n",
       "    <tr>\n",
       "      <th>PONDERA</th>\n",
       "      <td>59743.0</td>\n",
       "      <td>664.68</td>\n",
       "      <td>1098.50</td>\n",
       "      <td>14.0</td>\n",
       "      <td>163.0</td>\n",
       "      <td>283.0</td>\n",
       "      <td>595.0</td>\n",
       "      <td>20635.0</td>\n",
       "    </tr>\n",
       "    <tr>\n",
       "      <th>P21</th>\n",
       "      <td>59743.0</td>\n",
       "      <td>36108.99</td>\n",
       "      <td>57313.93</td>\n",
       "      <td>-9.0</td>\n",
       "      <td>0.0</td>\n",
       "      <td>20000.0</td>\n",
       "      <td>52000.0</td>\n",
       "      <td>4000000.0</td>\n",
       "    </tr>\n",
       "    <tr>\n",
       "      <th>P47T</th>\n",
       "      <td>59743.0</td>\n",
       "      <td>46982.91</td>\n",
       "      <td>66185.82</td>\n",
       "      <td>-9.0</td>\n",
       "      <td>5000.0</td>\n",
       "      <td>32000.0</td>\n",
       "      <td>65000.0</td>\n",
       "      <td>4035000.0</td>\n",
       "    </tr>\n",
       "    <tr>\n",
       "      <th>ITF</th>\n",
       "      <td>59743.0</td>\n",
       "      <td>79701.21</td>\n",
       "      <td>95581.82</td>\n",
       "      <td>0.0</td>\n",
       "      <td>16000.0</td>\n",
       "      <td>60000.0</td>\n",
       "      <td>110000.0</td>\n",
       "      <td>4370000.0</td>\n",
       "    </tr>\n",
       "    <tr>\n",
       "      <th>NIVEL_ED</th>\n",
       "      <td>59743.0</td>\n",
       "      <td>4.07</td>\n",
       "      <td>1.46</td>\n",
       "      <td>1.0</td>\n",
       "      <td>3.0</td>\n",
       "      <td>4.0</td>\n",
       "      <td>5.0</td>\n",
       "      <td>7.0</td>\n",
       "    </tr>\n",
       "    <tr>\n",
       "      <th>ESTADO</th>\n",
       "      <td>59743.0</td>\n",
       "      <td>1.42</td>\n",
       "      <td>0.79</td>\n",
       "      <td>0.0</td>\n",
       "      <td>1.0</td>\n",
       "      <td>1.0</td>\n",
       "      <td>1.0</td>\n",
       "      <td>3.0</td>\n",
       "    </tr>\n",
       "    <tr>\n",
       "      <th>CAT_OCUP</th>\n",
       "      <td>59743.0</td>\n",
       "      <td>2.17</td>\n",
       "      <td>1.18</td>\n",
       "      <td>0.0</td>\n",
       "      <td>2.0</td>\n",
       "      <td>3.0</td>\n",
       "      <td>3.0</td>\n",
       "      <td>9.0</td>\n",
       "    </tr>\n",
       "    <tr>\n",
       "      <th>CAT_INAC</th>\n",
       "      <td>59743.0</td>\n",
       "      <td>0.49</td>\n",
       "      <td>1.27</td>\n",
       "      <td>0.0</td>\n",
       "      <td>0.0</td>\n",
       "      <td>0.0</td>\n",
       "      <td>0.0</td>\n",
       "      <td>7.0</td>\n",
       "    </tr>\n",
       "    <tr>\n",
       "      <th>EducHijos</th>\n",
       "      <td>59743.0</td>\n",
       "      <td>11.38</td>\n",
       "      <td>4.36</td>\n",
       "      <td>0.0</td>\n",
       "      <td>8.0</td>\n",
       "      <td>12.0</td>\n",
       "      <td>15.0</td>\n",
       "      <td>21.0</td>\n",
       "    </tr>\n",
       "    <tr>\n",
       "      <th>numhijos</th>\n",
       "      <td>59743.0</td>\n",
       "      <td>1.03</td>\n",
       "      <td>1.96</td>\n",
       "      <td>0.0</td>\n",
       "      <td>0.0</td>\n",
       "      <td>0.0</td>\n",
       "      <td>2.0</td>\n",
       "      <td>19.0</td>\n",
       "    </tr>\n",
       "    <tr>\n",
       "      <th>EducPadres</th>\n",
       "      <td>59743.0</td>\n",
       "      <td>11.45</td>\n",
       "      <td>4.30</td>\n",
       "      <td>0.0</td>\n",
       "      <td>8.0</td>\n",
       "      <td>12.0</td>\n",
       "      <td>15.0</td>\n",
       "      <td>21.0</td>\n",
       "    </tr>\n",
       "    <tr>\n",
       "      <th>EdadPadres</th>\n",
       "      <td>59743.0</td>\n",
       "      <td>48.39</td>\n",
       "      <td>11.33</td>\n",
       "      <td>25.0</td>\n",
       "      <td>39.0</td>\n",
       "      <td>50.0</td>\n",
       "      <td>58.0</td>\n",
       "      <td>65.0</td>\n",
       "    </tr>\n",
       "    <tr>\n",
       "      <th>EducJefa</th>\n",
       "      <td>59743.0</td>\n",
       "      <td>5.50</td>\n",
       "      <td>6.50</td>\n",
       "      <td>0.0</td>\n",
       "      <td>0.0</td>\n",
       "      <td>0.0</td>\n",
       "      <td>12.0</td>\n",
       "      <td>21.0</td>\n",
       "    </tr>\n",
       "    <tr>\n",
       "      <th>EdadJefa</th>\n",
       "      <td>59743.0</td>\n",
       "      <td>23.12</td>\n",
       "      <td>25.50</td>\n",
       "      <td>0.0</td>\n",
       "      <td>0.0</td>\n",
       "      <td>0.0</td>\n",
       "      <td>49.0</td>\n",
       "      <td>65.0</td>\n",
       "    </tr>\n",
       "    <tr>\n",
       "      <th>EducJefe</th>\n",
       "      <td>59743.0</td>\n",
       "      <td>6.21</td>\n",
       "      <td>6.44</td>\n",
       "      <td>0.0</td>\n",
       "      <td>0.0</td>\n",
       "      <td>6.0</td>\n",
       "      <td>12.0</td>\n",
       "      <td>21.0</td>\n",
       "    </tr>\n",
       "    <tr>\n",
       "      <th>EdadJefe</th>\n",
       "      <td>59743.0</td>\n",
       "      <td>26.45</td>\n",
       "      <td>25.34</td>\n",
       "      <td>0.0</td>\n",
       "      <td>0.0</td>\n",
       "      <td>31.0</td>\n",
       "      <td>51.0</td>\n",
       "      <td>65.0</td>\n",
       "    </tr>\n",
       "    <tr>\n",
       "      <th>MovEduc</th>\n",
       "      <td>59743.0</td>\n",
       "      <td>0.10</td>\n",
       "      <td>0.30</td>\n",
       "      <td>0.0</td>\n",
       "      <td>0.0</td>\n",
       "      <td>0.0</td>\n",
       "      <td>0.0</td>\n",
       "      <td>1.0</td>\n",
       "    </tr>\n",
       "  </tbody>\n",
       "</table>\n",
       "</div>"
      ],
      "text/plain": [
       "              count      mean       std     min      25%      50%       75%  \\\n",
       "NRO_HOGAR   59743.0      1.09      1.59     1.0      1.0      1.0       1.0   \n",
       "COMPONENTE  59743.0      1.43      0.98     1.0      1.0      1.0       1.0   \n",
       "ANO4        59743.0   2021.38      0.48  2021.0   2021.0   2021.0    2022.0   \n",
       "TRIMESTRE   59743.0      2.29      1.12     1.0      1.0      2.0       3.0   \n",
       "REGION      59743.0     36.12     14.51     1.0     40.0     42.0      43.0   \n",
       "CH03        59743.0      1.39      0.80     1.0      1.0      1.0       1.0   \n",
       "CH04        59743.0      1.45      0.50     1.0      1.0      1.0       2.0   \n",
       "Edad        59743.0     42.65     12.16    25.0     32.0     42.0      53.0   \n",
       "CH12        59743.0      4.65      2.00     0.0      4.0      4.0       6.0   \n",
       "CH13        59743.0      1.35      0.48     0.0      1.0      1.0       2.0   \n",
       "CH14        59743.0      0.95      1.57     0.0      0.0      0.0       2.0   \n",
       "PONDERA     59743.0    664.68   1098.50    14.0    163.0    283.0     595.0   \n",
       "P21         59743.0  36108.99  57313.93    -9.0      0.0  20000.0   52000.0   \n",
       "P47T        59743.0  46982.91  66185.82    -9.0   5000.0  32000.0   65000.0   \n",
       "ITF         59743.0  79701.21  95581.82     0.0  16000.0  60000.0  110000.0   \n",
       "NIVEL_ED    59743.0      4.07      1.46     1.0      3.0      4.0       5.0   \n",
       "ESTADO      59743.0      1.42      0.79     0.0      1.0      1.0       1.0   \n",
       "CAT_OCUP    59743.0      2.17      1.18     0.0      2.0      3.0       3.0   \n",
       "CAT_INAC    59743.0      0.49      1.27     0.0      0.0      0.0       0.0   \n",
       "EducHijos   59743.0     11.38      4.36     0.0      8.0     12.0      15.0   \n",
       "numhijos    59743.0      1.03      1.96     0.0      0.0      0.0       2.0   \n",
       "EducPadres  59743.0     11.45      4.30     0.0      8.0     12.0      15.0   \n",
       "EdadPadres  59743.0     48.39     11.33    25.0     39.0     50.0      58.0   \n",
       "EducJefa    59743.0      5.50      6.50     0.0      0.0      0.0      12.0   \n",
       "EdadJefa    59743.0     23.12     25.50     0.0      0.0      0.0      49.0   \n",
       "EducJefe    59743.0      6.21      6.44     0.0      0.0      6.0      12.0   \n",
       "EdadJefe    59743.0     26.45     25.34     0.0      0.0     31.0      51.0   \n",
       "MovEduc     59743.0      0.10      0.30     0.0      0.0      0.0       0.0   \n",
       "\n",
       "                  max  \n",
       "NRO_HOGAR        73.0  \n",
       "COMPONENTE       14.0  \n",
       "ANO4           2022.0  \n",
       "TRIMESTRE         4.0  \n",
       "REGION           44.0  \n",
       "CH03              3.0  \n",
       "CH04              2.0  \n",
       "Edad             65.0  \n",
       "CH12             99.0  \n",
       "CH13              2.0  \n",
       "CH14              9.0  \n",
       "PONDERA       20635.0  \n",
       "P21         4000000.0  \n",
       "P47T        4035000.0  \n",
       "ITF         4370000.0  \n",
       "NIVEL_ED          7.0  \n",
       "ESTADO            3.0  \n",
       "CAT_OCUP          9.0  \n",
       "CAT_INAC          7.0  \n",
       "EducHijos        21.0  \n",
       "numhijos         19.0  \n",
       "EducPadres       21.0  \n",
       "EdadPadres       65.0  \n",
       "EducJefa         21.0  \n",
       "EdadJefa         65.0  \n",
       "EducJefe         21.0  \n",
       "EdadJefe         65.0  \n",
       "MovEduc           1.0  "
      ]
     },
     "execution_count": 35,
     "metadata": {},
     "output_type": "execute_result"
    }
   ],
   "source": [
    "# Estadísticas descriptivas de las variables numéricas\n",
    "eph.describe(include=[np.number]).round(2).T"
   ]
  },
  {
   "cell_type": "markdown",
   "metadata": {
    "id": "O4r0T901UTzq"
   },
   "source": [
    "En la base de datos tenemos en las columnas las variables relevantes para el Jefe o jefa de hogar (Padres), para el jefe (Jefe) y la jefa (Jefa) de hogar y para los hijos. Si consideramos la base de datos como está, estaríamos considerando dos veces los mismos datos, ya que en las regresiones se tendría en cuenta la educación del Jefe/a de Hogar que da la variable EducHijos (que sería un valor erróneo porque en realidad nos interesa el valor de esa columna sólo cuando CH03 == 3) y al mismo tiempo se consideraría su educación que está dada por la variable EducPadres. Por lo tanto, eliminamos de la muestra a los padres, con el comando **df.drop()**, y obtenemos así en cada fila los datos de los hijos y padres que son identificados por su CODUSU, NRO_HOGAR y COMPONENTE"
   ]
  },
  {
   "cell_type": "code",
   "execution_count": 36,
   "metadata": {
    "id": "KNrt-oJ7UTzq"
   },
   "outputs": [],
   "source": [
    "eph = eph.drop(eph[eph.CH03==1]. index)  # Eliminamos al Jefe/a de hogar"
   ]
  },
  {
   "cell_type": "code",
   "execution_count": 37,
   "metadata": {
    "id": "lSh0h11VUTzr"
   },
   "outputs": [],
   "source": [
    "EPH = EPH.drop(EPH[EPH.CH03==1]. index)  # Eliminamos al Jefe/a de hogar"
   ]
  },
  {
   "cell_type": "markdown",
   "metadata": {
    "id": "KGIBsgmGUTzr"
   },
   "source": [
    "## 3.2.2. Análisis por medio de gráficos\n",
    "\n",
    "## 3.2.2.1. Análisis univariado\n",
    "\n",
    "### Medidas de tendencia central"
   ]
  },
  {
   "cell_type": "code",
   "execution_count": 38,
   "metadata": {
    "id": "71tB_0CxUTzr",
    "outputId": "2c3189f7-ff78-41a4-8507-93c02459afa8"
   },
   "outputs": [
    {
     "name": "stdout",
     "output_type": "stream",
     "text": [
      "Media aritmética de la Educación de los hijos = 11.668308423913043\n",
      "Moda de la Educación de los hijos = 12.0\n",
      "Mediana de la Educación de los hijos = 12.0\n"
     ]
    }
   ],
   "source": [
    "print(\"Media aritmética de la Educación de los hijos =\", np.mean(eph.EducHijos))\n",
    "\n",
    "print(\"Moda de la Educación de los hijos =\", mode(eph.EducHijos))\n",
    "\n",
    "print(\"Mediana de la Educación de los hijos =\", statistics.median(eph.EducHijos))"
   ]
  },
  {
   "cell_type": "code",
   "execution_count": 39,
   "metadata": {
    "id": "zyYqEFAkUTzr",
    "outputId": "e328562f-1753-44d8-9ecf-66b3e645caef"
   },
   "outputs": [
    {
     "data": {
      "text/plain": [
       "<matplotlib.lines.Line2D at 0x17945a30e20>"
      ]
     },
     "execution_count": 39,
     "metadata": {},
     "output_type": "execute_result"
    },
    {
     "data": {
      "image/png": "[encoded data removed]",
      "text/plain": [
       "<Figure size 720x432 with 1 Axes>"
      ]
     },
     "metadata": {
      "needs_background": "light"
     },
     "output_type": "display_data"
    }
   ],
   "source": [
    "# Graficamos la distibución del nivel educativo de los hijos y marcamos con una línea vertical la media, la mediana y la moda.\n",
    "plt.figure(figsize=(10, 6))\n",
    "\n",
    "plt.hist(eph.EducHijos, 20, color='gray', align='mid')  # Creamos el histograma\n",
    "plt.axvline(np.mean(eph.EducHijos), c='k')  # Graficamos la línea vertical que nos indica en donde está la media aritmética\n",
    "plt.axvline(mode(eph.EducHijos), c='white', linestyle = ':')  # Graficamos la línea vertical que nos indica en donde está la moda\n",
    "plt.axvline(statistics.median(eph.EducHijos), c='b')  # Graficamos la línea vertical que nos indica en donde está la mediana"
   ]
  },
  {
   "cell_type": "markdown",
   "metadata": {
    "id": "6RD__BevUTzs"
   },
   "source": [
    "Las medidas de tendencia central calculadas anteriormente han sido graficada en la figura anterior, como se puede observar que el valor promedio del nivel educativo de los hijos es de  aproximadamente 11 años, mientras que el nivel educativo más frecuente (moda) y el nivel educativo cuyo valor está en el medio de la distribución (mediana) es de 12 años. Además, se observa que hay más de 500 hijos que no tuvieron educación, eso se puede deber a un error de relevamiento o a una no respuesta por parte de encuestado\n",
    "\n",
    "\n",
    "### Medidas de dispersión absolutas"
   ]
  },
  {
   "cell_type": "code",
   "execution_count": 40,
   "metadata": {
    "id": "yk38aW4WUTzs",
    "outputId": "37c769c8-be82-4a20-e5dd-428274402a96"
   },
   "outputs": [
    {
     "data": {
      "text/plain": [
       "4.096703969747418"
      ]
     },
     "execution_count": 40,
     "metadata": {},
     "output_type": "execute_result"
    }
   ],
   "source": [
    "# Calculamos el desvío estándar del nivel educativo de los hijos\n",
    "desvio_estandar = np.std(eph.EducHijos)\n",
    "desvio_estandar"
   ]
  },
  {
   "cell_type": "markdown",
   "metadata": {
    "id": "BKu_8-kbUTzs"
   },
   "source": [
    "La desviación entándar muestra qué tan dispersos están los datos respecto a la media. En este caso, el desvío estándar indica que los niveles educativos de los hijos están poco desviados respecto a su media."
   ]
  },
  {
   "cell_type": "code",
   "execution_count": 41,
   "metadata": {
    "id": "m1hVLAP1T6kr",
    "outputId": "d72d0627-4d76-41fd-b5ba-93812e10079a"
   },
   "outputs": [
    {
     "data": {
      "text/plain": [
       "3.0"
      ]
     },
     "execution_count": 41,
     "metadata": {},
     "output_type": "execute_result"
    }
   ],
   "source": [
    "# Calculamos el desvío absoluto de la mediana del nivel educativo de los hijos\n",
    "desvio_absoluto = sc.stats.median_abs_deviation(eph.EducHijos)\n",
    "desvio_absoluto"
   ]
  },
  {
   "cell_type": "markdown",
   "metadata": {
    "id": "5TUBzzSpT6kr"
   },
   "source": [
    "El desvío absoluto indica que tan alejados está el nivel educativo de los hijos respecto de la media. En este caso, estamos calculando la desviación absoluta donde se alcanza el 50% de los datos, es decir, que los datos están desviados un 3% respecto a la mediana.\n"
   ]
  },
  {
   "cell_type": "code",
   "execution_count": 42,
   "metadata": {
    "id": "86lhdKlVUTzt",
    "outputId": "d2872d1a-e211-4459-a7dc-b65a508889c9"
   },
   "outputs": [
    {
     "data": {
      "text/plain": [
       "16.78298341574425"
      ]
     },
     "execution_count": 42,
     "metadata": {},
     "output_type": "execute_result"
    }
   ],
   "source": [
    "# Calculamos la varianza del nivel educativo de los hijos\n",
    "varianza = np.var(eph.EducHijos)\n",
    "varianza"
   ]
  },
  {
   "cell_type": "markdown",
   "metadata": {
    "id": "7PDLTxDrUTzt"
   },
   "source": [
    "La varianza nos muestra la variabilidad del nivel educativo de los hijos respecto a su valor promedio. Sin embargo, no guarda relación con el valor de nuestra variable, sino con el valor cuadrado de la variable (en este caso sería $4^2 = 16$). Por ello la desviación estándar es una mejor medida de la dispersión de los datos respecto a la media, ya que es la raíz cuadrada de la varianza."
   ]
  },
  {
   "cell_type": "code",
   "execution_count": 43,
   "metadata": {
    "id": "dXK6yffcUTzt",
    "outputId": "ff117f69-a853-4197-a7ba-7d9e8c60e96d"
   },
   "outputs": [
    {
     "data": {
      "text/plain": [
       "<matplotlib.lines.Line2D at 0x1794779f640>"
      ]
     },
     "execution_count": 43,
     "metadata": {},
     "output_type": "execute_result"
    },
    {
     "data": {
      "image/png": "[encoded data removed]",
      "text/plain": [
       "<Figure size 432x288 with 1 Axes>"
      ]
     },
     "metadata": {
      "needs_background": "light"
     },
     "output_type": "display_data"
    }
   ],
   "source": [
    "plt.hist(eph.EducHijos, 20, color='gray', align = 'mid')\n",
    "plt.axvline(np.mean(eph.EducHijos)-desvio_estandar, c='k')\n",
    "plt.axvline(np.mean(eph.EducHijos)+desvio_estandar, c='k')\n",
    "plt.axvline(np.mean(eph.EducHijos)-desvio_absoluto, c='r')\n",
    "plt.axvline(np.mean(eph.EducHijos)+desvio_absoluto, c='r')"
   ]
  },
  {
   "cell_type": "code",
   "execution_count": 44,
   "metadata": {
    "id": "rUsOImC_UTzt",
    "outputId": "dbbdde22-4ac5-46ad-c7c7-d74e3a4f7bc8"
   },
   "outputs": [
    {
     "data": {
      "text/plain": [
       "5.0"
      ]
     },
     "execution_count": 44,
     "metadata": {},
     "output_type": "execute_result"
    }
   ],
   "source": [
    "# Calculamos el intervalo intercuartil\n",
    "iqr=sc.stats.iqr(eph.EducHijos, rng=(25,75))\n",
    "iqr"
   ]
  },
  {
   "cell_type": "markdown",
   "metadata": {
    "id": "25udkIIEUTzt"
   },
   "source": [
    "Identificamos qué tan ancho es el intervalo intercuartil (en donde tenemos el 50% de los datos), si es muy ancho tenemos una gran disperisón intercuartil; si es muy pequeño, la distribución es más alargada.\n",
    "\n",
    "El valor del intervalo intercuartil está indicando que la diferencia entre el tercer (Q3) y primer (Q1) cuartil es de 5 años, es decir que los datos están poco dispersos respecto a la media. Esto se condice al analizar el histograma y el diagrama de caja y bigotes que se encuentra a continuación, en donde el rango intercuartílico es medido por el tamaño de la caja, el cual es igual a 5 años.\n",
    "Algo importante a considerar es que si bien el intervalo intercuartil es una medida de dispersión similar a la desviación estándar o a la varianza, es mucho más robusta ya que excluye los valores atípicos que se encuentran el el primer y cuarto cuartil."
   ]
  },
  {
   "cell_type": "code",
   "execution_count": 45,
   "metadata": {
    "id": "6QKluzS9UTzu",
    "outputId": "02e15c08-411d-461b-de88-86143f3c31bd"
   },
   "outputs": [
    {
     "data": {
      "text/plain": [
       "<matplotlib.lines.Line2D at 0x17945f361d0>"
      ]
     },
     "execution_count": 45,
     "metadata": {},
     "output_type": "execute_result"
    },
    {
     "data": {
      "image/png": "[encoded data removed]",
      "text/plain": [
       "<Figure size 432x288 with 2 Axes>"
      ]
     },
     "metadata": {
      "needs_background": "light"
     },
     "output_type": "display_data"
    }
   ],
   "source": [
    "f, (ax_box, ax_hist) = plt.subplots(2, sharex=True, gridspec_kw={\"height_ratios\": (.15, .85)})  # Creamos la figura\n",
    "\n",
    "sns.boxplot(x=eph.EducHijos, ax=ax_box)   # Graficamos el boxplot\n",
    "sns.histplot(x=eph.EducHijos, bins=20, kde=True, stat='density', ax=ax_hist)  # Graficamos el histograma\n",
    "\n",
    "ax_box.set(yticks=[])\n",
    "sns.despine(ax=ax_hist)   # Determinamos los límites del eje x del histograma\n",
    "sns.despine(ax=ax_box, left=True)  # Determinamos los límites del eje x del boxplot\n",
    "plt.axvline(statistics.median(eph.EducHijos), c='b')  # Graficamos la línea vertical que nos indica en donde está la mediana"
   ]
  },
  {
   "cell_type": "code",
   "execution_count": 46,
   "metadata": {
    "id": "NFbZn4G2UTzu",
    "outputId": "73868bbd-b1fe-4883-825a-81ed1f5b9f62"
   },
   "outputs": [
    {
     "data": {
      "text/plain": [
       "0.35109664750990205"
      ]
     },
     "execution_count": 46,
     "metadata": {},
     "output_type": "execute_result"
    }
   ],
   "source": [
    "variation = sc.stats.variation(eph.EducHijos)\n",
    "variation"
   ]
  },
  {
   "cell_type": "markdown",
   "metadata": {
    "id": "TtDyRzQOUTzu"
   },
   "source": [
    "El coeficiente variación es una medida de la relación entre la desviación estándar y la media. En este caso, el coeficiente de variación indica que la dispersión del nivel educativo respecto a la media es relativamente bajo, ya que es 0,35.\n",
    "\n",
    "### Medidas de asimetría"
   ]
  },
  {
   "cell_type": "code",
   "execution_count": 47,
   "metadata": {
    "id": "sz2GgHfLUTzu",
    "outputId": "dac630af-fbda-43a4-8733-4c8b49ba9c35"
   },
   "outputs": [
    {
     "data": {
      "text/plain": [
       "-1.13778583731606"
      ]
     },
     "execution_count": 47,
     "metadata": {},
     "output_type": "execute_result"
    }
   ],
   "source": [
    "asimetria = sc.stats.skew(eph.EducHijos)\n",
    "asimetria"
   ]
  },
  {
   "cell_type": "markdown",
   "metadata": {
    "id": "cpmFh3RIUTzu"
   },
   "source": [
    "Al calcular la asimetría, su valor indica que esta distribución es *altamente asimétrica*, es decir, que no se parece a una distribución normal."
   ]
  },
  {
   "cell_type": "code",
   "execution_count": 48,
   "metadata": {
    "id": "mZdWP3uCUTzu",
    "outputId": "78fecf82-0b05-4e4d-f35b-d9d2cce51ced"
   },
   "outputs": [
    {
     "data": {
      "text/plain": [
       "1.1942387181586689"
      ]
     },
     "execution_count": 48,
     "metadata": {},
     "output_type": "execute_result"
    }
   ],
   "source": [
    "curtosis = sc.stats.kurtosis(eph.EducHijos)\n",
    "curtosis"
   ]
  },
  {
   "cell_type": "markdown",
   "metadata": {
    "id": "6tvhWGg5UTzv"
   },
   "source": [
    "La curtosis es de 1,19 lo cual nos muestra que la distribución es*platicúrtica*, es decir, que hay una baja concentración de los datos alrededor de la media."
   ]
  },
  {
   "cell_type": "markdown",
   "metadata": {
    "id": "cYX972JAUTzv"
   },
   "source": [
    "\n",
    "\n",
    "Hacemos un gráfico circular que muestra la **proporción de hijos encuestados por sexo**"
   ]
  },
  {
   "cell_type": "code",
   "execution_count": 49,
   "metadata": {
    "id": "xhTfJQkEUTzv"
   },
   "outputs": [],
   "source": [
    "# Contamos la cantidad de encuestados por sexo\n",
    "sexo1 = eph.groupby(['CH04'])['CH03'].count()"
   ]
  },
  {
   "cell_type": "code",
   "execution_count": 50,
   "metadata": {
    "id": "w5jFXqJrUTzv",
    "outputId": "3af9594a-1e43-4563-c498-25470dcdf5e4"
   },
   "outputs": [
    {
     "data": {
      "image/png": "[encoded data removed]",
      "text/plain": [
       "<Figure size 576x432 with 1 Axes>"
      ]
     },
     "metadata": {},
     "output_type": "display_data"
    }
   ],
   "source": [
    "sexo = ['Varón', 'Mujer']  # creamos las etiquetas\n",
    "\n",
    "fig, axs = plt.subplots(figsize=(8,6)) # creamos la figura\n",
    "\n",
    "plt.pie(sexo1, labels = sexo, autopct=\"%0.1f %%\")  # creamos el gráfico de torta\n",
    "plt.title(\"Encuestados EPH por sexo en 2021-2022 \")  # le ponemos un título\n",
    "plt.show()  # visualizamos la figura"
   ]
  },
  {
   "cell_type": "markdown",
   "metadata": {
    "id": "7pYLSWRrUTzv"
   },
   "source": [
    "El gráfico anterior muestra que el 54.8% de los hijos encuestados son varones, mientras que el 45.2% son mujeres.\n",
    "\n",
    "Calculamos la **cantidad de hijos encuestados que alcanzó cada nivel educativo**"
   ]
  },
  {
   "cell_type": "code",
   "execution_count": 51,
   "metadata": {
    "id": "JPE807amUTzv"
   },
   "outputs": [],
   "source": [
    "# Reemplazamos el nivel educativo 7 por 0, ya que representa a los que no tienen instrucción\n",
    "eph['NIVEL_ED'] = eph['NIVEL_ED'].replace([7],[0])"
   ]
  },
  {
   "cell_type": "code",
   "execution_count": 52,
   "metadata": {
    "id": "X5M2e86XUTzv"
   },
   "outputs": [],
   "source": [
    "# Contamos la cantidad de encuestados por nivel educativo\n",
    "cant_niveled =eph.groupby(eph['NIVEL_ED'])['CH03'].count()"
   ]
  },
  {
   "cell_type": "markdown",
   "metadata": {
    "id": "vNYrHKiET6kw"
   },
   "source": [
    "Hacemos un gráfico de la **distribución relativa de los encuestados por nivel educativo y por sexo**."
   ]
  },
  {
   "cell_type": "code",
   "execution_count": 53,
   "metadata": {
    "id": "cuBlrsKrUTzw"
   },
   "outputs": [],
   "source": [
    "# Contamos la cantidad de encuestados por nivel educativo y por sexo\n",
    "cant_niveled_sexo = eph[['CODUSU','CH04','NIVEL_ED']].groupby(by=['CH04','NIVEL_ED']).count().reset_index()"
   ]
  },
  {
   "cell_type": "code",
   "execution_count": 54,
   "metadata": {
    "id": "qqcsqq5gUTzw",
    "outputId": "4bdf7513-e8da-48ca-d04e-0b3dd1be972b"
   },
   "outputs": [
    {
     "data": {
      "text/html": [
       "<div>\n",
       "<style scoped>\n",
       "    .dataframe tbody tr th:only-of-type {\n",
       "        vertical-align: middle;\n",
       "    }\n",
       "\n",
       "    .dataframe tbody tr th {\n",
       "        vertical-align: top;\n",
       "    }\n",
       "\n",
       "    .dataframe thead th {\n",
       "        text-align: right;\n",
       "    }\n",
       "</style>\n",
       "<table border=\"1\" class=\"dataframe\">\n",
       "  <thead>\n",
       "    <tr style=\"text-align: right;\">\n",
       "      <th></th>\n",
       "      <th>CH04</th>\n",
       "      <th>NIVEL_ED</th>\n",
       "      <th>CODUSU</th>\n",
       "    </tr>\n",
       "  </thead>\n",
       "  <tbody>\n",
       "    <tr>\n",
       "      <th>0</th>\n",
       "      <td>Varón</td>\n",
       "      <td>Sin instrucción</td>\n",
       "      <td>27</td>\n",
       "    </tr>\n",
       "    <tr>\n",
       "      <th>1</th>\n",
       "      <td>Varón</td>\n",
       "      <td>Primaria inc</td>\n",
       "      <td>156</td>\n",
       "    </tr>\n",
       "    <tr>\n",
       "      <th>2</th>\n",
       "      <td>Varón</td>\n",
       "      <td>Primaria comp</td>\n",
       "      <td>585</td>\n",
       "    </tr>\n",
       "    <tr>\n",
       "      <th>3</th>\n",
       "      <td>Varón</td>\n",
       "      <td>Secundaria inc</td>\n",
       "      <td>1335</td>\n",
       "    </tr>\n",
       "    <tr>\n",
       "      <th>4</th>\n",
       "      <td>Varón</td>\n",
       "      <td>Secundaria comp</td>\n",
       "      <td>2302</td>\n",
       "    </tr>\n",
       "  </tbody>\n",
       "</table>\n",
       "</div>"
      ],
      "text/plain": [
       "    CH04         NIVEL_ED  CODUSU\n",
       "0  Varón  Sin instrucción      27\n",
       "1  Varón     Primaria inc     156\n",
       "2  Varón    Primaria comp     585\n",
       "3  Varón   Secundaria inc    1335\n",
       "4  Varón  Secundaria comp    2302"
      ]
     },
     "execution_count": 54,
     "metadata": {},
     "output_type": "execute_result"
    }
   ],
   "source": [
    "# Reemplazamos los id de la variable Sexo y Nivel educativo por su respectiva descripción\n",
    "cant_niveled_sexo['CH04'] = cant_niveled_sexo['CH04'].replace([1,2],['Varón','Mujer'])\n",
    "cant_niveled_sexo['NIVEL_ED'] = cant_niveled_sexo['NIVEL_ED'].replace([0,1,2,3,4,5,6],['Sin instrucción','Primaria inc', 'Primaria comp','Secundaria inc','Secundaria comp','Universitario inc','Universitario comp'])\n",
    "cant_niveled_sexo.head()"
   ]
  },
  {
   "cell_type": "code",
   "execution_count": 55,
   "metadata": {
    "id": "ezq2AxQBUTzw",
    "outputId": "dd343766-f669-4bfd-f2ed-222269f18ef1",
    "scrolled": true
   },
   "outputs": [
    {
     "data": {
      "text/plain": [
       "CH04\n",
       "1    6454\n",
       "2    5322\n",
       "Name: count, dtype: int64"
      ]
     },
     "execution_count": 55,
     "metadata": {},
     "output_type": "execute_result"
    }
   ],
   "source": [
    "eph.CH04.value_counts()  # Contamos la cantidad de encuestados por sexo"
   ]
  },
  {
   "cell_type": "code",
   "execution_count": 56,
   "metadata": {
    "id": "Xf6HY1uRUTzx",
    "outputId": "4e2ebc4f-c713-4caf-c949-544cb9db2d37"
   },
   "outputs": [
    {
     "data": {
      "text/plain": [
       "11776"
      ]
     },
     "execution_count": 56,
     "metadata": {},
     "output_type": "execute_result"
    }
   ],
   "source": [
    "cant_niveled_sexo['CODUSU'].sum()  # Calculamos el tamaño de la muestra"
   ]
  },
  {
   "cell_type": "code",
   "execution_count": 57,
   "metadata": {
    "id": "L-yxuUGeUTzx"
   },
   "outputs": [],
   "source": [
    "# Calculamos la cantidad relativa de encuestados por nivel educativo y por sexo\n",
    "cant_niveled_sexo['CODUSU_Relsexo'] = 0\n",
    "cant_niveled_sexo.loc[(cant_niveled_sexo.CH04=='Varón'),'CODUSU_Relsexo'] = (cant_niveled_sexo['CODUSU'] / 12475)*100\n",
    "cant_niveled_sexo.loc[(cant_niveled_sexo.CH04=='Mujer'),'CODUSU_Relsexo'] = (cant_niveled_sexo['CODUSU'] / 10259)*100"
   ]
  },
  {
   "cell_type": "code",
   "execution_count": 58,
   "metadata": {
    "id": "EIMg9WloUTzx",
    "outputId": "276e2ff0-02ca-430f-d498-d8e671ef24a7"
   },
   "outputs": [
    {
     "data": {
      "image/png": "[encoded data removed]",
      "text/plain": [
       "<Figure size 1008x576 with 1 Axes>"
      ]
     },
     "metadata": {
      "needs_background": "light"
     },
     "output_type": "display_data"
    }
   ],
   "source": [
    "# Hacemos un gráfico de barras de la distribución de los encuestados por nivel educaivo en la EPH 2021-2022\n",
    "plt.figure(figsize = (14, 8))  # creamos la figura\n",
    "\n",
    "sns.barplot(y='CODUSU_Relsexo', x ='CH04', hue='NIVEL_ED', data = cant_niveled_sexo)  # creamos el gráfico de barra\n",
    "plt.grid(axis='y', linestyle='dashed')  # le ponemos líneas entrecortadas en el eje y\n",
    "plt.ylabel('Porcentaje de encuestados respecto del total por sexo')  # le ponemos nombre al eje y\n",
    "plt.xlabel('Sexo')  # le ponemos nombre al eje x\n",
    "plt.title('Proporción de encuestados por nivel educativo y sexo en 2021-2022')  # le ponemos título al gráfico\n",
    "plt.legend(title = 'Nivel Educativo:')  # le ponemos una leyenda\n",
    "plt.show()  # visualizamos la figura"
   ]
  },
  {
   "cell_type": "markdown",
   "metadata": {
    "id": "Rjvz-UZJUTzx"
   },
   "source": [
    "Al analizar la distribución relativa de los encuestados por nivel eduactivo y por sexo, vemos que más del 17% de los varones finalizó la secundaria, mientras que un poco más del 15% de las mujeres lo hizo. Por otra parte, la cantidad de varones que no terminaron la secundaria es de aproximadamente el 11%, mientras que la cantidad de mujeres es del 6%. Con respecto a la cantidad de mujeres que terminaron la Universidad, se ve que es de más el 10%, mientras que la cantidad de varones es de aproximadamente el 6%.\n",
    "\n"
   ]
  },
  {
   "cell_type": "markdown",
   "metadata": {
    "id": "wTgMZ9bdUTzx"
   },
   "source": [
    "Hacemos una **histograma** que muestra la distibución de los hijos por edades\n"
   ]
  },
  {
   "cell_type": "code",
   "execution_count": 59,
   "metadata": {
    "id": "m5gNeY99UTzx",
    "outputId": "3f65959d-c76c-4987-bffb-7e4e69680558"
   },
   "outputs": [
    {
     "data": {
      "image/png": "[encoded data removed]",
      "text/plain": [
       "<Figure size 576x360 with 1 Axes>"
      ]
     },
     "metadata": {
      "needs_background": "light"
     },
     "output_type": "display_data"
    }
   ],
   "source": [
    "plt.figure(figsize = (8, 5))  # creamos la figura\n",
    "\n",
    "sns.histplot(data = eph, x = 'Edad', bins = 50, kde=True)  # creamos el gráfico\n",
    "plt.xlabel('Edad de los hijos')  # le ponemos nombre al eje\n",
    "plt.ylabel('Cantidad de hijos')  # le ponemos nombre al eje y\n",
    "plt.title('Cantidad de hijos por edad')  # le ponemos el título\n",
    "plt.show()"
   ]
  },
  {
   "cell_type": "markdown",
   "metadata": {
    "id": "ZLJurqk4UTzy"
   },
   "source": [
    "En el gráfico anterior se observa que *la edad de los hijos* es asimétrica, estando sesgada hacia la izquierda, donde la mayor parte de la concentración de datos se encuentra al comienzo de la distribución. Esto podría deberse a que la mayoría de los hijos encuestados son jóvenes que tienen entre 25 y 30 años, a medida que la edad aumenta, la cantidad de hijos encuestados disminuye."
   ]
  },
  {
   "cell_type": "markdown",
   "metadata": {
    "id": "qPYz5IV1UTzy"
   },
   "source": [
    "## Análisis de valores atípicos"
   ]
  },
  {
   "cell_type": "markdown",
   "metadata": {
    "id": "vVX-7wXcUTzy"
   },
   "source": [
    "A continuación, visualizamos la existencia de valores atípicos en las variables de Educación por medio de  **boxplots**"
   ]
  },
  {
   "cell_type": "code",
   "execution_count": 60,
   "metadata": {
    "id": "FyUXdQ_UUTzy",
    "outputId": "ee223354-e284-4484-9ed6-71037ee76d67"
   },
   "outputs": [
    {
     "data": {
      "image/png": "[encoded data removed]",
      "text/plain": [
       "<Figure size 1152x576 with 4 Axes>"
      ]
     },
     "metadata": {
      "needs_background": "light"
     },
     "output_type": "display_data"
    }
   ],
   "source": [
    "fig, axs = plt.subplots(nrows=2, ncols=2, figsize=(16,8))  # creamos la figura\n",
    "\n",
    "sns.boxplot(x=eph['EducHijos'], ax=axs[0][0], color='#F9D5E5')\n",
    "sns.boxplot(x=eph['EducPadres'], ax=axs[1][0], color='#FDD5B1')\n",
    "sns.boxplot(x=eph['EducJefe'], ax=axs[0][1], color='#E2F0CB')\n",
    "sns.boxplot(x=eph['EducJefa'], ax=axs[1][1], color='#ADD8E6')\n",
    "plt.show()"
   ]
  },
  {
   "cell_type": "markdown",
   "metadata": {
    "id": "E5kXEBgpUTzy"
   },
   "source": [
    "A partir de los gráficos anteriores podemos comparar la educación de padres (Jefe o Jefa de hogar) e hijos. Como se puede observar, la mediana del nivel eduactivo de padres e hios es 12 años. Sin embargo, se ve que la mayoría de los hijos tienen niveles educativos entre 10 y 15 años, mientras que los padres entre 6 y 13 años. Esto nos muestra claramente que ha habido cierta movilidad intergeneracional educativa, ya que los máximos niveles educativos alcanzados por los hijos son mayores que los alcanzados por los padres. Además, se observa que en el caso de los hijos, los valores educativos de cero a tres años son atípicos.\n",
    "\n",
    "Por otro lado, al comparar la educación de los jefes y jefas de hogar, se observa que la mayoría de los jefes tienen niveles educativos entre 0 y 11 años, mientras que las jefas de hogar entre 0 y 12 años, siendo muy similares."
   ]
  },
  {
   "cell_type": "markdown",
   "metadata": {
    "id": "78FKOfIkUTzy"
   },
   "source": [
    "## 3.2.2.2. Análisis bivariado\n"
   ]
  },
  {
   "cell_type": "markdown",
   "metadata": {
    "id": "OGSPDfj-UTzy"
   },
   "source": [
    "Creamos un nuevo dataframe llamado *EPH_corr* con las columnas que consideramos que son más relevantes para el análisis."
   ]
  },
  {
   "cell_type": "code",
   "execution_count": 61,
   "metadata": {
    "id": "jwOz8KlNUTzz"
   },
   "outputs": [],
   "source": [
    "EPH_corr = EPH[['EducHijos','EducPadres','CH04','Edad','EducJefe','EducJefa','EdadPadres','EdadJefe','EdadJefa','Edad','numhijos','P21']]\n",
    "EPH_corr = EPH_corr.rename(columns = {'CH04':'Sexo', 'P21':'Ingreso'})"
   ]
  },
  {
   "cell_type": "code",
   "execution_count": 62,
   "metadata": {
    "id": "BBYkn0kiUTzz",
    "outputId": "9e4a529c-63dc-4380-d9f6-efb7f0810121"
   },
   "outputs": [
    {
     "data": {
      "image/png": "[encoded data removed]",
      "text/plain": [
       "<Figure size 1008x1008 with 2 Axes>"
      ]
     },
     "metadata": {
      "needs_background": "light"
     },
     "output_type": "display_data"
    }
   ],
   "source": [
    "# Calculamos la matriz de correlación de la base de datos\n",
    "matriz_correlacion = EPH_corr.corr()\n",
    "matriz_correlacion = matriz_correlacion.round(2)\n",
    "\n",
    "# Graficamos la matriz de correlación\n",
    "plt.figure(figsize = (14,14))  # Creamos la figura\n",
    "mask2 = matriz_correlacion == 1\n",
    "sns.heatmap(matriz_correlacion, annot = True, cmap = 'RdBu', vmin = -1, vmax = 1, mask = mask2)  # Graficamos la matriz de correlación\n",
    "plt.title('Correlación entre variables')  # le ponemos el título\n",
    "plt.show()"
   ]
  },
  {
   "cell_type": "markdown",
   "metadata": {
    "id": "gxxUoagXUTzz"
   },
   "source": [
    "En el *heatmap* anterior se puede observar la correlación entre los distintos pares de variables. Los resultados obtenidos muestran que las variables que están más correlacionadas son la Educación del Hijo y la Educación del Padre, cuya correlación es muy fuerte y positiva. También se observa que EducJefe, EducJefa y el ingreso del hijo están levemente correlacionadas con la Educación de los Hijos.\n",
    "\n"
   ]
  },
  {
   "cell_type": "code",
   "execution_count": 63,
   "metadata": {
    "id": "PBq2QA-8UTzz",
    "outputId": "4b37ff07-b670-49d4-dfe9-c2cce07beaa1"
   },
   "outputs": [
    {
     "data": {
      "text/plain": [
       "array([[1.        , 0.04308064],\n",
       "       [0.04308064, 1.        ]])"
      ]
     },
     "execution_count": 63,
     "metadata": {},
     "output_type": "execute_result"
    }
   ],
   "source": [
    "np.corrcoef(eph.P21, eph.EducHijos)"
   ]
  },
  {
   "cell_type": "markdown",
   "metadata": {
    "id": "o_jaTCbFUTzz"
   },
   "source": [
    "El coeficiente de correlación nos muestran que para los datos de la muestra prácticamente no existe una relación entre el Ingreso y la educación de los hijos.\n",
    "\n",
    "## 3.2.2.3. Análisis multivariado\n",
    "\n",
    "\n",
    "El siguiente gráfico es un *Facet grid* que nos permite visualizar en un gráfico de dos dimensiones la relaciones entre tres o más variables."
   ]
  },
  {
   "cell_type": "code",
   "execution_count": 64,
   "metadata": {
    "id": "nYDFdtRkUTz0",
    "outputId": "323945de-db40-4f9f-bf49-84b12912788d"
   },
   "outputs": [
    {
     "data": {
      "image/png": "[encoded data removed]",
      "text/plain": [
       "<Figure size 402.375x360 with 1 Axes>"
      ]
     },
     "metadata": {
      "needs_background": "light"
     },
     "output_type": "display_data"
    }
   ],
   "source": [
    "#FacetGrid\n",
    "sns.FacetGrid(eph, hue = 'CH04', height = 5).map(plt.scatter,'EducHijos','EducPadres').add_legend();\n",
    "plt.show()"
   ]
  },
  {
   "cell_type": "markdown",
   "metadata": {
    "id": "QdZrTIFdUTz0"
   },
   "source": [
    "En el gráfico anterior se puede observar que los puntos naranjas, que representan a las mujeres, son los que predominan; en donde las mujeres son las que han alcanzado mayores años de educación, siendo que sus padres también lograron 10 o más años de educación."
   ]
  },
  {
   "cell_type": "markdown",
   "metadata": {
    "id": "k8VDLgbQUTz0"
   },
   "source": [
    "A continuación, para responder las preguntas de investigación se utilizarán otros gráficos que permiten realizar análisis univariado y bivariado."
   ]
  },
  {
   "cell_type": "markdown",
   "metadata": {
    "id": "mQwO_I-4UTz0"
   },
   "source": [
    "## 3.2.5. Análisis específicos para responder a las preguntas de investigación\n",
    "\n",
    "En esta sección para responder las preguntas de investigación utilizaremos el *dataframe* llamado **EPH** obtenido en la *sección 3.7. Filtrado de variables II*. A continuación, visualizamos los nombres de las columnas del df."
   ]
  },
  {
   "cell_type": "code",
   "execution_count": 65,
   "metadata": {
    "id": "fezcKjwPUTz0",
    "outputId": "dbf27ff0-462f-4e52-ebb0-d3aa391ea4ae"
   },
   "outputs": [
    {
     "data": {
      "text/plain": [
       "Index(['CODUSU', 'NRO_HOGAR', 'REGION', 'CH03', 'CH04', 'EducJefa', 'EducJefe',\n",
       "       'EducPadres', 'EducHijos', 'EdadJefa', 'EdadJefe', 'EdadPadres', 'Edad',\n",
       "       'numhijos', 'P21', 'MovEduc'],\n",
       "      dtype='object')"
      ]
     },
     "execution_count": 65,
     "metadata": {},
     "output_type": "execute_result"
    }
   ],
   "source": [
    "EPH.columns  # Visualizamos los nombres de las columnas de la base de datos"
   ]
  },
  {
   "cell_type": "markdown",
   "metadata": {
    "id": "k9262ssqUTz0"
   },
   "source": [
    "### Pregunta: ¿Cuántos padres e hijos completaron cada nivel educativo?\n",
    "\n",
    "Para dar respuesta a esta pregunta, visualizaremos la distribución del nivel educativo de los hijos y de los padres"
   ]
  },
  {
   "cell_type": "code",
   "execution_count": 66,
   "metadata": {
    "id": "L6ZTGpzIUTz1",
    "outputId": "45564b8a-b2a3-4d48-aab6-ddb53d13a324"
   },
   "outputs": [
    {
     "data": {
      "image/png": "[encoded data removed]",
      "text/plain": [
       "<Figure size 1008x720 with 2 Axes>"
      ]
     },
     "metadata": {
      "needs_background": "light"
     },
     "output_type": "display_data"
    }
   ],
   "source": [
    "n_bins = 21\n",
    "x1 = eph['EducPadres']\n",
    "x2 = eph['EducHijos']\n",
    "plt.subplots(1,2, figsize=(14,10))\n",
    "\n",
    "ax0 = plt.subplot(1,2,1)\n",
    "ax0.hist(x1,n_bins)\n",
    "ax0.set_ylim([0, 4500])\n",
    "ax0.set_ylabel(\"Cantidad de padres\")\n",
    "ax0.set_xlabel(\"Años de educación Padres\")\n",
    "\n",
    "\n",
    "ax1 = plt.subplot(1,2,2)\n",
    "ax1.hist(x2, n_bins, color='r')\n",
    "ax1.set_ylim([0, 4500])\n",
    "ax1.set_ylabel(\"Cantidad de hijos\")\n",
    "ax1.set_xlabel(\"Años de educación Hijos\")\n",
    "\n",
    "plt.suptitle(\"Distribución de la educación de padres e hijos\")\n",
    "plt.show()"
   ]
  },
  {
   "cell_type": "markdown",
   "metadata": {
    "id": "M_R7fiSUUTz1"
   },
   "source": [
    "A partir de los gráficos anteriores se visualiza que la mayoría de los padres ha completado o la primaria o la secundaria, mientras que la mayoría de los hijos completó la secundaria. Además, se puede observar que ha habido un cierto nivel de movilidad intergeneracional educativa, ya que una mayor cantidad de hijos han alcanzado 12 años o más de educación formal en comparación con la cantidad de padres. Por otra parte, se observa una gran cantidad de hijos que no tienen educación debido a que se le asignó a los valores faltantes el valor cero.\n"
   ]
  },
  {
   "cell_type": "markdown",
   "metadata": {
    "id": "lO2jtJ6ZUTz2"
   },
   "source": [
    "### Pregunta: ¿Cuáles son los factores que influyen en el nivel educativo de una persona?\n",
    "\n",
    "\n",
    "A continuación analizamos la correlación entre algunos factores que se consideran que influyen en el nivel educativo y el nivel educativo por medio de una **matriz de correlación**."
   ]
  },
  {
   "cell_type": "code",
   "execution_count": 67,
   "metadata": {
    "id": "cjGW9vthUTz2"
   },
   "outputs": [],
   "source": [
    "# Calculamos la matriz de correlación con las variables que consideramos que pueden influir sobre la educación del hijo\n",
    "matriz_corr = EPH[['EducHijos', 'EducPadres', 'CH04', 'EdadPadres', 'Edad','numhijos']].corr()"
   ]
  },
  {
   "cell_type": "code",
   "execution_count": 68,
   "metadata": {
    "id": "LXZCDIJ0UTz2",
    "outputId": "7bfe2953-6fbf-4658-d9ba-928fec738052"
   },
   "outputs": [
    {
     "data": {
      "image/png": "[encoded data removed]",
      "text/plain": [
       "<Figure size 720x432 with 2 Axes>"
      ]
     },
     "metadata": {
      "needs_background": "light"
     },
     "output_type": "display_data"
    }
   ],
   "source": [
    "# Graficamos la matriz de correlación entre las variables de interés\n",
    "plt.figure(figsize= (10,6))\n",
    "\n",
    "sns.set(font_scale=1.2)\n",
    "mask1 = matriz_corr==1\n",
    "sns.heatmap(matriz_corr, annot=True, cmap='RdBu', vmin = -1, vmax = 1, mask = mask1)\n",
    "plt.title('Correlación entre variables', fontsize=16)\n",
    "plt.show()"
   ]
  },
  {
   "cell_type": "markdown",
   "metadata": {
    "id": "8TM2jtr2UTz2"
   },
   "source": [
    "La matriz de correlación anterior muestra que las variables que tienen una mayor relación lineal respecto al nivel educativo alcanzado por los hijos son: la educación de los padres, con una fuerte correlación positiva; el sexo, que tiene una débil relación positiva y la edad con una débil correlación negativa; el resto de las variables tiene una correlación inferior al 0.10 en valor absoluto. Estos resultados muestran que el máximo nivel educativo alcanzado por los hijos está positiva y fuertemente relacionado con el nivel educativo de sus padres, es decir, que cuanto mayor sea el nivel educativo por los padres, mayor será el nivel educativo de los hijos."
   ]
  },
  {
   "cell_type": "markdown",
   "metadata": {
    "id": "r8AHG9lvUTz2"
   },
   "source": [
    "### Pregunta: ¿Existe una relación entre el nivel educativo alcanzado por un hijo y el de sus padres? En caso de que exista una relación, ¿cómo es esa relación?"
   ]
  },
  {
   "cell_type": "markdown",
   "metadata": {
    "id": "P5DVVrxbUTz2"
   },
   "source": [
    "Para responder a esta pregunta, creamos un gráfico de dispersión que muestra la relación entre el nivel educativo alcanzado por los hijos(\"EDUC\") y el nivel educativo alcanzado por los padres (\"EducPadres\")"
   ]
  },
  {
   "cell_type": "code",
   "execution_count": 69,
   "metadata": {
    "id": "7ORjGJUfUTz3",
    "outputId": "319f0a9b-c194-4168-ae8b-5f091bcbdbd0"
   },
   "outputs": [
    {
     "data": {
      "image/png": "[encoded data removed]",
      "text/plain": [
       "<Figure size 720x432 with 1 Axes>"
      ]
     },
     "metadata": {},
     "output_type": "display_data"
    }
   ],
   "source": [
    "plt.figure(figsize = (10, 6))  # creamos la figura\n",
    "\n",
    "sns.scatterplot(data = eph, x = 'EducPadres', y = 'EducHijos')  # graficamos\n",
    "plt.xlabel('Nivel educativo alcanzado por el padre o madre')  # le ponemos nombre al eje\n",
    "plt.ylabel('Nivel educativo alcanzado por el hijo')  # le ponemos nombre al eje y\n",
    "plt.title('Relación entre el nivel educativo alcanzado por los padres e hijos')  # le ponemos el título\n",
    "plt.show()"
   ]
  },
  {
   "cell_type": "code",
   "execution_count": 70,
   "metadata": {
    "id": "7VkMqPhnUTz3",
    "outputId": "6dad3017-fcdc-4992-9e6b-a4deb3a9606a"
   },
   "outputs": [
    {
     "data": {
      "text/html": [
       "<div>\n",
       "<style scoped>\n",
       "    .dataframe tbody tr th:only-of-type {\n",
       "        vertical-align: middle;\n",
       "    }\n",
       "\n",
       "    .dataframe tbody tr th {\n",
       "        vertical-align: top;\n",
       "    }\n",
       "\n",
       "    .dataframe thead th {\n",
       "        text-align: right;\n",
       "    }\n",
       "</style>\n",
       "<table border=\"1\" class=\"dataframe\">\n",
       "  <thead>\n",
       "    <tr style=\"text-align: right;\">\n",
       "      <th></th>\n",
       "      <th>EducPadres</th>\n",
       "      <th>EducHijos</th>\n",
       "    </tr>\n",
       "  </thead>\n",
       "  <tbody>\n",
       "    <tr>\n",
       "      <th>EducPadres</th>\n",
       "      <td>1.000000</td>\n",
       "      <td>0.403022</td>\n",
       "    </tr>\n",
       "    <tr>\n",
       "      <th>EducHijos</th>\n",
       "      <td>0.403022</td>\n",
       "      <td>1.000000</td>\n",
       "    </tr>\n",
       "  </tbody>\n",
       "</table>\n",
       "</div>"
      ],
      "text/plain": [
       "            EducPadres  EducHijos\n",
       "EducPadres    1.000000   0.403022\n",
       "EducHijos     0.403022   1.000000"
      ]
     },
     "execution_count": 70,
     "metadata": {},
     "output_type": "execute_result"
    }
   ],
   "source": [
    "# Calculamos el coeficiente de correlación de Pearson entre la educación del padre y del hijo\n",
    "EPH[['EducPadres','EducHijos']].corr()"
   ]
  },
  {
   "cell_type": "markdown",
   "metadata": {
    "id": "D_2mfffQUTz3"
   },
   "source": [
    "A partir del *scatter* y del coeficiente de correlación de Pearson obtenido, se puede afirmar que la educación del padre y del hijo están fuertemente correlacionados, donde esa relación es positiva. Esto indica que cuanto mayor es el nivel educativo alcanzado por los padres, mayor será el nivel educativo del hijo."
   ]
  },
  {
   "cell_type": "markdown",
   "metadata": {
    "id": "PfquIsYLUTz3"
   },
   "source": [
    "### Pregunta: ¿El nivel educativo del jefe o jefa de hogar tienen la misma relación con el nivel educativo alcanzado por el hijo?\n",
    "\n",
    "Para responder esta pregunta vamos a analizar, por un lado, la correlación entre el nivel educativo del hijo/a y el del padre, y, por otro lado, la correlación entre el nivel educativo del hijo/a y el de la madre."
   ]
  },
  {
   "cell_type": "code",
   "execution_count": 71,
   "metadata": {
    "id": "v3VSsQACUTz3",
    "outputId": "a322720d-7486-4f26-ddd8-795c5d5165bd"
   },
   "outputs": [
    {
     "data": {
      "text/html": [
       "<div>\n",
       "<style scoped>\n",
       "    .dataframe tbody tr th:only-of-type {\n",
       "        vertical-align: middle;\n",
       "    }\n",
       "\n",
       "    .dataframe tbody tr th {\n",
       "        vertical-align: top;\n",
       "    }\n",
       "\n",
       "    .dataframe thead th {\n",
       "        text-align: right;\n",
       "    }\n",
       "</style>\n",
       "<table border=\"1\" class=\"dataframe\">\n",
       "  <thead>\n",
       "    <tr style=\"text-align: right;\">\n",
       "      <th></th>\n",
       "      <th>EducHijos</th>\n",
       "      <th>EducJefe</th>\n",
       "      <th>EducJefa</th>\n",
       "    </tr>\n",
       "  </thead>\n",
       "  <tbody>\n",
       "    <tr>\n",
       "      <th>EducHijos</th>\n",
       "      <td>1.000000</td>\n",
       "      <td>0.188688</td>\n",
       "      <td>0.097825</td>\n",
       "    </tr>\n",
       "    <tr>\n",
       "      <th>EducJefe</th>\n",
       "      <td>0.188688</td>\n",
       "      <td>1.000000</td>\n",
       "      <td>-0.700153</td>\n",
       "    </tr>\n",
       "    <tr>\n",
       "      <th>EducJefa</th>\n",
       "      <td>0.097825</td>\n",
       "      <td>-0.700153</td>\n",
       "      <td>1.000000</td>\n",
       "    </tr>\n",
       "  </tbody>\n",
       "</table>\n",
       "</div>"
      ],
      "text/plain": [
       "           EducHijos  EducJefe  EducJefa\n",
       "EducHijos   1.000000  0.188688  0.097825\n",
       "EducJefe    0.188688  1.000000 -0.700153\n",
       "EducJefa    0.097825 -0.700153  1.000000"
      ]
     },
     "execution_count": 71,
     "metadata": {},
     "output_type": "execute_result"
    }
   ],
   "source": [
    "# Calculamos el coeficiente de correlación de Pearson entre la educación del jefe de hogar, de la jefa y del hijo\n",
    "EPH[['EducHijos', 'EducJefe', 'EducJefa']].corr()"
   ]
  },
  {
   "cell_type": "markdown",
   "metadata": {
    "id": "oie1xMJrUTz3"
   },
   "source": [
    "La tabla de correlación anterior muestra que el nivel educativo del jefe y jefa de hogar tienen un efecto positivo, pero el efecto de la educación del padre sobre la educación de los hijos es mayor que el de la educación de la madre.\n"
   ]
  },
  {
   "cell_type": "markdown",
   "metadata": {
    "id": "9O8BFpJA5L1M"
   },
   "source": [
    "### Pregunta: ¿Cuál fue la movilidad intergeneracional educativa de los hijos encuestados en 2021 y 2022?\n",
    "\n",
    "A continuación, obtendremos una aproximación de la movilidad intergeneracional por medio del cálculo de la proporción de hijos que han alcanzado más años de educación que sus padres. Para ello, contaremos la cantidad de hijos que alcanzaron más años de educación que sus padres y los que no."
   ]
  },
  {
   "cell_type": "code",
   "execution_count": 72,
   "metadata": {
    "id": "0aLJ3Y5B5Ypa"
   },
   "outputs": [
    {
     "data": {
      "text/plain": [
       "MovEduc\n",
       "1    6090\n",
       "0    5686\n",
       "Name: count, dtype: int64"
      ]
     },
     "execution_count": 72,
     "metadata": {},
     "output_type": "execute_result"
    }
   ],
   "source": [
    "eph.MovEduc.value_counts()"
   ]
  },
  {
   "cell_type": "code",
   "execution_count": 73,
   "metadata": {
    "id": "tHGEVuPc5YsY"
   },
   "outputs": [
    {
     "data": {
      "text/plain": [
       "51.71535326086957"
      ]
     },
     "execution_count": 73,
     "metadata": {},
     "output_type": "execute_result"
    }
   ],
   "source": [
    "MovIntEduc = 6090 / 11776 * 100\n",
    "MovIntEduc"
   ]
  },
  {
   "cell_type": "markdown",
   "metadata": {
    "id": "qjYno-ReUTz1"
   },
   "source": [
    "El resultado anterior indica que el 51,71% de los individuos encuestados ha alcanzado más años de educación que su padre/madre. Lo cual muestra que durante el periodo 2021-2022 ha habido movilidad educativa intergeneracional."
   ]
  },
  {
   "cell_type": "markdown",
   "metadata": {
    "id": "FGRx9Hg4UTz3"
   },
   "source": [
    "## 3.2.6. Conclusiones del EDA\n",
    "\n",
    "A partir del _Análisis Expliratorio de los Datos_ realizado, se pudo observar, entre otras cosas, que la mayor cantidad de hijos encuestados son hombres y que el máximo nivel educativo de la mayoría de los encuestados fue la secundaria completa.\n",
    "También se observó que hubo movilidad intergeneracional educativa, ya que una mayor cantidad de hijos alcanzaron 12 o más años de educación formal en comparación con la cantidad de padres que lo hicieron.\n",
    "\n",
    "Al analizar cuáles son los factores que determinan el máximo nivel educativo alcanzado por una persona, se encontró que los principales factores son su edad y el máximo nivel educativo alcanzado por sus padres, pudiéndose afirmar que existe una relación fuerte y positiva entre el nivel educativo de los padres y del hijo, es decir que cuanto mayor sea el nivel educativo del padre o la madre, mayor será el nivel educativo del hijo.\n",
    "\n",
    "Por último, se observó que el nivel educativo del jefe de hogar tiene una mayor influencia sobre la educación de su hijo en comparación al efecto de la educación de la madre.\n"
   ]
  },
  {
   "cell_type": "markdown",
   "metadata": {
    "id": "HbZWSNX1UTz4"
   },
   "source": [
    "---\n",
    "\n",
    "\n",
    "## 4. Selección de features\n",
    "\n",
    "Utilizamos el dataframe _EPH_corr_. Luego renombramos las columnas CH04 y P21 para que su nombre sea más descriptivo del contenido de la variable."
   ]
  },
  {
   "cell_type": "code",
   "execution_count": 74,
   "metadata": {
    "id": "aaRRuZfwUTz4",
    "outputId": "04f234ad-31a8-42f5-a53c-e854127c74be"
   },
   "outputs": [
    {
     "data": {
      "text/html": [
       "<div>\n",
       "<style scoped>\n",
       "    .dataframe tbody tr th:only-of-type {\n",
       "        vertical-align: middle;\n",
       "    }\n",
       "\n",
       "    .dataframe tbody tr th {\n",
       "        vertical-align: top;\n",
       "    }\n",
       "\n",
       "    .dataframe thead th {\n",
       "        text-align: right;\n",
       "    }\n",
       "</style>\n",
       "<table border=\"1\" class=\"dataframe\">\n",
       "  <thead>\n",
       "    <tr style=\"text-align: right;\">\n",
       "      <th></th>\n",
       "      <th>CH04</th>\n",
       "      <th>EducJefa</th>\n",
       "      <th>EducJefe</th>\n",
       "      <th>EducPadres</th>\n",
       "      <th>EducHijos</th>\n",
       "      <th>EdadJefa</th>\n",
       "      <th>EdadJefe</th>\n",
       "      <th>EdadPadres</th>\n",
       "      <th>Edad</th>\n",
       "      <th>numhijos</th>\n",
       "      <th>P21</th>\n",
       "    </tr>\n",
       "  </thead>\n",
       "  <tbody>\n",
       "    <tr>\n",
       "      <th>5</th>\n",
       "      <td>1</td>\n",
       "      <td>0.0</td>\n",
       "      <td>6.0</td>\n",
       "      <td>6.0</td>\n",
       "      <td>8.0</td>\n",
       "      <td>0.0</td>\n",
       "      <td>65.0</td>\n",
       "      <td>65.0</td>\n",
       "      <td>37</td>\n",
       "      <td>4.0</td>\n",
       "      <td>-9.0</td>\n",
       "    </tr>\n",
       "    <tr>\n",
       "      <th>13</th>\n",
       "      <td>1</td>\n",
       "      <td>0.0</td>\n",
       "      <td>6.0</td>\n",
       "      <td>6.0</td>\n",
       "      <td>12.0</td>\n",
       "      <td>0.0</td>\n",
       "      <td>54.0</td>\n",
       "      <td>54.0</td>\n",
       "      <td>25</td>\n",
       "      <td>1.0</td>\n",
       "      <td>-9.0</td>\n",
       "    </tr>\n",
       "    <tr>\n",
       "      <th>16</th>\n",
       "      <td>1</td>\n",
       "      <td>0.0</td>\n",
       "      <td>1.0</td>\n",
       "      <td>1.0</td>\n",
       "      <td>6.0</td>\n",
       "      <td>0.0</td>\n",
       "      <td>58.0</td>\n",
       "      <td>58.0</td>\n",
       "      <td>28</td>\n",
       "      <td>1.0</td>\n",
       "      <td>-9.0</td>\n",
       "    </tr>\n",
       "    <tr>\n",
       "      <th>23</th>\n",
       "      <td>2</td>\n",
       "      <td>0.0</td>\n",
       "      <td>10.0</td>\n",
       "      <td>10.0</td>\n",
       "      <td>12.0</td>\n",
       "      <td>0.0</td>\n",
       "      <td>64.0</td>\n",
       "      <td>64.0</td>\n",
       "      <td>30</td>\n",
       "      <td>2.0</td>\n",
       "      <td>-9.0</td>\n",
       "    </tr>\n",
       "    <tr>\n",
       "      <th>24</th>\n",
       "      <td>2</td>\n",
       "      <td>0.0</td>\n",
       "      <td>10.0</td>\n",
       "      <td>10.0</td>\n",
       "      <td>12.0</td>\n",
       "      <td>0.0</td>\n",
       "      <td>64.0</td>\n",
       "      <td>64.0</td>\n",
       "      <td>32</td>\n",
       "      <td>2.0</td>\n",
       "      <td>-9.0</td>\n",
       "    </tr>\n",
       "    <tr>\n",
       "      <th>...</th>\n",
       "      <td>...</td>\n",
       "      <td>...</td>\n",
       "      <td>...</td>\n",
       "      <td>...</td>\n",
       "      <td>...</td>\n",
       "      <td>...</td>\n",
       "      <td>...</td>\n",
       "      <td>...</td>\n",
       "      <td>...</td>\n",
       "      <td>...</td>\n",
       "      <td>...</td>\n",
       "    </tr>\n",
       "    <tr>\n",
       "      <th>129688</th>\n",
       "      <td>2</td>\n",
       "      <td>12.0</td>\n",
       "      <td>0.0</td>\n",
       "      <td>12.0</td>\n",
       "      <td>10.0</td>\n",
       "      <td>56.0</td>\n",
       "      <td>0.0</td>\n",
       "      <td>56.0</td>\n",
       "      <td>31</td>\n",
       "      <td>9.0</td>\n",
       "      <td>0.0</td>\n",
       "    </tr>\n",
       "    <tr>\n",
       "      <th>129699</th>\n",
       "      <td>2</td>\n",
       "      <td>0.0</td>\n",
       "      <td>15.0</td>\n",
       "      <td>15.0</td>\n",
       "      <td>15.0</td>\n",
       "      <td>0.0</td>\n",
       "      <td>41.0</td>\n",
       "      <td>41.0</td>\n",
       "      <td>25</td>\n",
       "      <td>1.0</td>\n",
       "      <td>-9.0</td>\n",
       "    </tr>\n",
       "    <tr>\n",
       "      <th>129767</th>\n",
       "      <td>2</td>\n",
       "      <td>6.0</td>\n",
       "      <td>0.0</td>\n",
       "      <td>6.0</td>\n",
       "      <td>12.0</td>\n",
       "      <td>64.0</td>\n",
       "      <td>0.0</td>\n",
       "      <td>64.0</td>\n",
       "      <td>26</td>\n",
       "      <td>1.0</td>\n",
       "      <td>40000.0</td>\n",
       "    </tr>\n",
       "    <tr>\n",
       "      <th>129771</th>\n",
       "      <td>2</td>\n",
       "      <td>12.0</td>\n",
       "      <td>14.0</td>\n",
       "      <td>14.0</td>\n",
       "      <td>12.0</td>\n",
       "      <td>55.0</td>\n",
       "      <td>55.0</td>\n",
       "      <td>55.0</td>\n",
       "      <td>26</td>\n",
       "      <td>1.0</td>\n",
       "      <td>0.0</td>\n",
       "    </tr>\n",
       "    <tr>\n",
       "      <th>129793</th>\n",
       "      <td>1</td>\n",
       "      <td>0.0</td>\n",
       "      <td>15.0</td>\n",
       "      <td>15.0</td>\n",
       "      <td>12.0</td>\n",
       "      <td>0.0</td>\n",
       "      <td>49.0</td>\n",
       "      <td>49.0</td>\n",
       "      <td>25</td>\n",
       "      <td>1.0</td>\n",
       "      <td>19000.0</td>\n",
       "    </tr>\n",
       "  </tbody>\n",
       "</table>\n",
       "<p>11776 rows × 11 columns</p>\n",
       "</div>"
      ],
      "text/plain": [
       "        CH04  EducJefa  EducJefe  EducPadres  EducHijos  EdadJefa  EdadJefe  \\\n",
       "5          1       0.0       6.0         6.0        8.0       0.0      65.0   \n",
       "13         1       0.0       6.0         6.0       12.0       0.0      54.0   \n",
       "16         1       0.0       1.0         1.0        6.0       0.0      58.0   \n",
       "23         2       0.0      10.0        10.0       12.0       0.0      64.0   \n",
       "24         2       0.0      10.0        10.0       12.0       0.0      64.0   \n",
       "...      ...       ...       ...         ...        ...       ...       ...   \n",
       "129688     2      12.0       0.0        12.0       10.0      56.0       0.0   \n",
       "129699     2       0.0      15.0        15.0       15.0       0.0      41.0   \n",
       "129767     2       6.0       0.0         6.0       12.0      64.0       0.0   \n",
       "129771     2      12.0      14.0        14.0       12.0      55.0      55.0   \n",
       "129793     1       0.0      15.0        15.0       12.0       0.0      49.0   \n",
       "\n",
       "        EdadPadres  Edad  numhijos      P21  \n",
       "5             65.0    37       4.0     -9.0  \n",
       "13            54.0    25       1.0     -9.0  \n",
       "16            58.0    28       1.0     -9.0  \n",
       "23            64.0    30       2.0     -9.0  \n",
       "24            64.0    32       2.0     -9.0  \n",
       "...            ...   ...       ...      ...  \n",
       "129688        56.0    31       9.0      0.0  \n",
       "129699        41.0    25       1.0     -9.0  \n",
       "129767        64.0    26       1.0  40000.0  \n",
       "129771        55.0    26       1.0      0.0  \n",
       "129793        49.0    25       1.0  19000.0  \n",
       "\n",
       "[11776 rows x 11 columns]"
      ]
     },
     "execution_count": 74,
     "metadata": {},
     "output_type": "execute_result"
    }
   ],
   "source": [
    "# Borramos las variables categóricas y la CH03 que no nos servirá al hacer el modelo de regresión\n",
    "EPH_reg = EPH.drop('CODUSU',axis = 1)\n",
    "EPH_reg = EPH_reg.drop('NRO_HOGAR',axis = 1)\n",
    "EPH_reg = EPH_reg.drop('REGION',axis = 1)\n",
    "EPH_reg = EPH_reg.drop('CH03',axis = 1)\n",
    "EPH_reg = EPH_reg.drop('MovEduc',axis = 1)\n",
    "EPH_reg"
   ]
  },
  {
   "cell_type": "code",
   "execution_count": 75,
   "metadata": {
    "id": "QdAZwj-wUTz4"
   },
   "outputs": [],
   "source": [
    "x = EPH_reg.drop('EducHijos', axis = 1)  # La variable x contiene todas las columnas excepto EducHijos\n",
    "y = EPH_reg['EducHijos']  # La variable y sólo contiene la columna EducHijos"
   ]
  },
  {
   "cell_type": "markdown",
   "metadata": {
    "id": "V6kd_6pnUTz4"
   },
   "source": [
    "## 4.1. Forward selection"
   ]
  },
  {
   "cell_type": "code",
   "execution_count": 76,
   "metadata": {
    "id": "kB9Q__NZUTz4",
    "outputId": "08b12666-cadd-45f5-c51e-3dffb127bf46"
   },
   "outputs": [
    {
     "name": "stdout",
     "output_type": "stream",
     "text": [
      "['EducPadres'] 0.0\n",
      "['EducPadres', 'CH04'] 7.36659770760924e-98\n",
      "['EducPadres', 'CH04', 'EducJefa'] 6.4645572317092815e-18\n",
      "['EducPadres', 'CH04', 'EducJefa', 'EdadPadres'] 5.722865902846505e-13\n",
      "['EducPadres', 'CH04', 'EducJefa', 'EdadPadres', 'Edad'] 4.097754185640198e-18\n",
      "['EducPadres', 'CH04', 'EducJefa', 'EdadPadres', 'Edad', 'P21'] 1.2323809641793457e-10\n",
      "['EducPadres', 'CH04', 'EducJefa', 'EdadPadres', 'Edad', 'P21', 'numhijos'] 3.7496718598667345e-06\n",
      "['EducPadres', 'CH04', 'EducJefa', 'EdadPadres', 'Edad', 'P21', 'numhijos', 'EducJefe'] 0.006332556195985811\n"
     ]
    }
   ],
   "source": [
    "# Obtenemos los mejores features siguiendo el proceso de selección hacia adelante con un nivel de significancia de 0.05\n",
    "best_features, pvals = forward_selection(x,y,significance_level=0.05)"
   ]
  },
  {
   "cell_type": "markdown",
   "metadata": {
    "id": "P6zN4N_iUTz4"
   },
   "source": [
    "## 4.2. Backward selection"
   ]
  },
  {
   "cell_type": "code",
   "execution_count": 77,
   "metadata": {
    "id": "8NZs1ep5UTz5",
    "outputId": "fe1f4684-8bdf-4a01-923f-02f2e0373cd1"
   },
   "outputs": [
    {
     "name": "stdout",
     "output_type": "stream",
     "text": [
      "['CH04', 'EducJefa', 'EducJefe', 'EducPadres', 'EdadJefa', 'EdadJefe', 'EdadPadres', 'Edad', 'numhijos', 'P21'] 6.8463515951370105e-106\n",
      "['CH04', 'EducJefe', 'EducPadres', 'EdadJefa', 'EdadJefe', 'EdadPadres', 'Edad', 'numhijos', 'P21'] 3.2425161939253492e-251\n",
      "['CH04', 'EducPadres', 'EdadJefa', 'EdadJefe', 'EdadPadres', 'Edad', 'numhijos', 'P21'] 0.0\n"
     ]
    }
   ],
   "source": [
    "# Obtenemos los mejores features siguiendo el proceso de selección hacia atrás con un nivel de significancia de 0.05\n",
    "best_features, worst_features, pvals_worst_features=backward_elimination(x,y, significance_level=0.05)"
   ]
  },
  {
   "cell_type": "markdown",
   "metadata": {
    "id": "ipjmoIFJUTz5"
   },
   "source": [
    "## 4.3. Stepwise selection"
   ]
  },
  {
   "cell_type": "code",
   "execution_count": 78,
   "metadata": {
    "id": "h8oPNW2lUTz5",
    "outputId": "467bf6e4-7820-4c2d-fe25-3b75acfc342c"
   },
   "outputs": [
    {
     "name": "stdout",
     "output_type": "stream",
     "text": [
      "['EducPadres'] 0.0\n",
      "['EducPadres', 'CH04'] 7.36659770760924e-98\n",
      "['EducPadres', 'CH04', 'EducJefa'] 6.4645572317092815e-18\n",
      "['EducPadres', 'CH04', 'EducJefa', 'EdadPadres'] 5.722865902846505e-13\n",
      "['EducPadres', 'CH04', 'EducJefa', 'EdadPadres', 'Edad'] 4.097754185640198e-18\n",
      "['EducPadres', 'CH04', 'EducJefa', 'EdadPadres', 'Edad', 'P21'] 1.2323809641793457e-10\n",
      "['EducPadres', 'CH04', 'EducJefa', 'EdadPadres', 'Edad', 'P21', 'numhijos'] 3.7496718598667345e-06\n",
      "['EducPadres', 'CH04', 'EducJefa', 'EdadPadres', 'Edad', 'P21', 'numhijos', 'EducJefe'] 0.006332556195985811\n"
     ]
    }
   ],
   "source": [
    "# Obtenemos los mejores features siguiendo el proceso de selección hacia adelante y hacia atrás con un nivel de significancia de 0.05\n",
    "best_features=stepwise_selection(x,y,SL_in=0.05,SL_out = 0.05)"
   ]
  },
  {
   "cell_type": "markdown",
   "metadata": {
    "id": "3gios67iUTz5"
   },
   "source": [
    "En el modelo de regresión utilizaremos las mejores 6 features obtenidas a partir del *Stepwise selection*, que son: ['EducPadres', 'CH04', 'EducJefa', 'EdadPadres', 'Edad', 'P21']. Esto se debe a que se compararon los resultados obtenidos en el modelo de regresión al considerar 7 y 10 features, y se observó que las métricas de evaluación mejoraron al considerar 6 features.  "
   ]
  },
  {
   "cell_type": "markdown",
   "metadata": {
    "id": "-jkEfl7GUTz5"
   },
   "source": [
    "## 5. Aprendizaje supervisado: Entrenamiento y testeo de un modelo de Machine Learning\n",
    "\n",
    "---\n",
    "\n",
    "## 5.1. División de datos"
   ]
  },
  {
   "cell_type": "code",
   "execution_count": 79,
   "metadata": {
    "id": "bKV3kmNEUTz5"
   },
   "outputs": [],
   "source": [
    "# Creamos los subsets que utilizaremos en el modelo de regresión\n",
    "x = EPH_reg[['EducPadres', 'CH04', 'EducJefa', 'EdadPadres', 'Edad', 'P21', 'numhijos']]\n",
    "y = EPH_reg['EducHijos']"
   ]
  },
  {
   "cell_type": "code",
   "execution_count": 80,
   "metadata": {
    "id": "p0A6p08eUTz5"
   },
   "outputs": [],
   "source": [
    "# Dividimos los subsets en training y testing\n",
    "x_train, x_test, y_train, y_test = train_test_split(x,y,test_size = 0.2)"
   ]
  },
  {
   "cell_type": "markdown",
   "metadata": {
    "id": "iIUn1aroUTz6"
   },
   "source": [
    "## 5.2 Entrenamiento y evaluación del modelo de regresión\n",
    "\n",
    "El modelo elegido fue la *regresión lineal.*\n",
    "\n",
    "---\n",
    "\n",
    "## 5.2.1. Entrenamiento: regresión y métricas de evaluación"
   ]
  },
  {
   "cell_type": "code",
   "execution_count": 81,
   "metadata": {
    "id": "PEHwED7CUTz6"
   },
   "outputs": [],
   "source": [
    "# Definimos el modelo de Regresión Lineal de entrenamiento\n",
    "reg = linear_model.LinearRegression().fit(x_train, y_train)"
   ]
  },
  {
   "cell_type": "code",
   "execution_count": 82,
   "metadata": {
    "id": "1YBLnvpzUTz6",
    "outputId": "91f9968d-59b8-4c29-b0f5-c8c8d64b5df9"
   },
   "outputs": [
    {
     "data": {
      "text/plain": [
       "array([ 9.9891698 , 11.00013717, 14.84045064, ..., 11.61048443,\n",
       "       11.67066623, 14.32029709])"
      ]
     },
     "execution_count": 82,
     "metadata": {},
     "output_type": "execute_result"
    }
   ],
   "source": [
    "# Predecimos los valores de y para el entrenamiento\n",
    "y_estimated = reg.predict(x_train)\n",
    "y_estimated"
   ]
  },
  {
   "cell_type": "code",
   "execution_count": 83,
   "metadata": {
    "id": "JfiTd71qUTz6",
    "outputId": "3d461af4-3eda-4aa6-9f05-c00ac48b3761"
   },
   "outputs": [
    {
     "data": {
      "text/plain": [
       "array([ 4.13240308e-01,  1.54240159e+00, -4.54311312e-02,  6.21516333e-02,\n",
       "       -5.95113766e-02,  6.93117256e-06, -4.39892495e-02])"
      ]
     },
     "execution_count": 83,
     "metadata": {},
     "output_type": "execute_result"
    }
   ],
   "source": [
    "# Visualizamos el coeficiente de cada una de las variables de la regresión\n",
    "reg.coef_"
   ]
  },
  {
   "cell_type": "code",
   "execution_count": 84,
   "metadata": {
    "id": "lOj0hzt0UTz6",
    "outputId": "99a8ae9f-30d8-49fb-fe11-ca297caa70dd"
   },
   "outputs": [
    {
     "data": {
      "text/plain": [
       "3.6855226964659913"
      ]
     },
     "execution_count": 84,
     "metadata": {},
     "output_type": "execute_result"
    }
   ],
   "source": [
    "# Visualizamos el intercepto\n",
    "reg.intercept_"
   ]
  },
  {
   "cell_type": "code",
   "execution_count": 85,
   "metadata": {
    "id": "IgEwFNTeUTz7",
    "outputId": "bd41a1f6-fa06-40c0-ea56-7f26ef33e9d4"
   },
   "outputs": [
    {
     "data": {
      "text/html": [
       "<div>\n",
       "<style scoped>\n",
       "    .dataframe tbody tr th:only-of-type {\n",
       "        vertical-align: middle;\n",
       "    }\n",
       "\n",
       "    .dataframe tbody tr th {\n",
       "        vertical-align: top;\n",
       "    }\n",
       "\n",
       "    .dataframe thead th {\n",
       "        text-align: right;\n",
       "    }\n",
       "</style>\n",
       "<table border=\"1\" class=\"dataframe\">\n",
       "  <thead>\n",
       "    <tr style=\"text-align: right;\">\n",
       "      <th></th>\n",
       "      <th>Coeficiente</th>\n",
       "    </tr>\n",
       "  </thead>\n",
       "  <tbody>\n",
       "    <tr>\n",
       "      <th>EducPadres</th>\n",
       "      <td>0.413240</td>\n",
       "    </tr>\n",
       "    <tr>\n",
       "      <th>CH04</th>\n",
       "      <td>1.542402</td>\n",
       "    </tr>\n",
       "    <tr>\n",
       "      <th>EducJefa</th>\n",
       "      <td>-0.045431</td>\n",
       "    </tr>\n",
       "    <tr>\n",
       "      <th>EdadPadres</th>\n",
       "      <td>0.062152</td>\n",
       "    </tr>\n",
       "    <tr>\n",
       "      <th>Edad</th>\n",
       "      <td>-0.059511</td>\n",
       "    </tr>\n",
       "    <tr>\n",
       "      <th>P21</th>\n",
       "      <td>0.000007</td>\n",
       "    </tr>\n",
       "    <tr>\n",
       "      <th>numhijos</th>\n",
       "      <td>-0.043989</td>\n",
       "    </tr>\n",
       "  </tbody>\n",
       "</table>\n",
       "</div>"
      ],
      "text/plain": [
       "            Coeficiente\n",
       "EducPadres     0.413240\n",
       "CH04           1.542402\n",
       "EducJefa      -0.045431\n",
       "EdadPadres     0.062152\n",
       "Edad          -0.059511\n",
       "P21            0.000007\n",
       "numhijos      -0.043989"
      ]
     },
     "execution_count": 85,
     "metadata": {},
     "output_type": "execute_result"
    }
   ],
   "source": [
    "coef_df = pd.DataFrame(reg.coef_, x.columns, columns=['Coeficiente'])\n",
    "coef_df"
   ]
  },
  {
   "cell_type": "markdown",
   "metadata": {
    "id": "uhrxMZZCUTz7"
   },
   "source": [
    "El *dataframe* anterior nos muestra los coeficientes de cada una de las variables independientes, en donde el más importante es el coeficiente de la variable **EducPadres**, ya que muestra en qué medida el nivel educativo alcanzado por los padres determina el máximo nivel educativo alcanzado por sus hijos. En este caso, el coeficiente es igual a 0,41 lo cual muestra que, manteniendo todo lo demás constante, el logro educativo del hijo depende en un 41% del logro educativo de su padre o madre. Por lo tanto, se puede afirmar que la MEI en el periodo 2021-2022 ha sido alta (1-0,41=0,59)."
   ]
  },
  {
   "cell_type": "code",
   "execution_count": 86,
   "metadata": {
    "id": "3iflsXBXUTz7"
   },
   "outputs": [],
   "source": [
    "# Calculamos el coeficiente de determinación del entrenamiento\n",
    "r2=r2_score(y_train,y_estimated)\n",
    "# Calculamos el error cuadrático medio del entrenamiento\n",
    "RMSE=mean_squared_error(y_train, y_estimated)\n",
    "# Calculamos el error absoluto medio del entrenamiento\n",
    "MAE=mean_absolute_error(y_train, y_estimated)"
   ]
  },
  {
   "cell_type": "code",
   "execution_count": 87,
   "metadata": {
    "id": "scWTkrQWUTz7",
    "outputId": "df504b23-ce9d-4edf-c8bf-c95792644c86"
   },
   "outputs": [
    {
     "data": {
      "image/png": "[encoded data removed]",
      "text/plain": [
       "<Figure size 432x288 with 1 Axes>"
      ]
     },
     "metadata": {},
     "output_type": "display_data"
    }
   ],
   "source": [
    "# Gráfico de dispersión para los valores de \"y\" reales y estimados para el modelo del set de training\n",
    "plt.scatter(y_train, y_estimated)  # graficamos\n",
    "plt.plot([0,y_train.max()],[0,y_train.max()], color='k')  # graficamos la línea que parte desde el orgien\n",
    "plt.ylim(y_train.min(),y_train.max())  # determinamos los límites del eje y\n",
    "plt.xlim(y_train.min(),y_train.max())  # determinamos los límites del eje x\n",
    "plt.title('R2 = ' + str(np.round(r2,3))+', RMSE = '+str(np.round(RMSE,3))+', MAE = '+str(np.round(MAE,3)))\n",
    "plt.xlabel('Nivel educativo del jefe/a de hogar')  # le ponemos nombre al eje\n",
    "plt.ylabel('Nivel educativo del hijo')  # le ponemos nombre al eje y\n",
    "plt.show()"
   ]
  },
  {
   "cell_type": "markdown",
   "metadata": {
    "id": "2D4k7CJaUTz7"
   },
   "source": [
    "## 5.2.2. Testeo: regresión y métricas de evaluación"
   ]
  },
  {
   "cell_type": "code",
   "execution_count": 88,
   "metadata": {
    "id": "nOJ8cG3oUTz8",
    "outputId": "18b2d282-fa1f-40da-bd86-80f687cfa143"
   },
   "outputs": [
    {
     "data": {
      "text/plain": [
       "array([11.3111857 , 13.34425553, 10.37070139, ..., 13.7906866 ,\n",
       "       11.24116502,  9.44117849])"
      ]
     },
     "execution_count": 88,
     "metadata": {},
     "output_type": "execute_result"
    }
   ],
   "source": [
    "# Estimamos los valores de y para el testeo\n",
    "y_estimated2 = reg.predict(x_test)\n",
    "y_estimated2"
   ]
  },
  {
   "cell_type": "code",
   "execution_count": 89,
   "metadata": {
    "id": "OCVsa0_CUTz8"
   },
   "outputs": [],
   "source": [
    "# Calculamos el coeficiente de determinación del testeo\n",
    "r2=r2_score(y_test,y_estimated2)\n",
    "# Calculamos el error cuadrático medio del testeo\n",
    "RMSE=mean_squared_error(y_test, y_estimated2)\n",
    "# Calculamos el error absoluto medio del testeo\n",
    "MAE=mean_absolute_error(y_test, y_estimated2)"
   ]
  },
  {
   "cell_type": "code",
   "execution_count": 90,
   "metadata": {
    "id": "CN9Gu0CyUTz8",
    "outputId": "80ed1847-46e0-4816-d6e7-de24eb90fa5f"
   },
   "outputs": [
    {
     "data": {
      "image/png": "[encoded data removed]",
      "text/plain": [
       "<Figure size 432x288 with 1 Axes>"
      ]
     },
     "metadata": {},
     "output_type": "display_data"
    }
   ],
   "source": [
    "# Gráfico de dispersión para los valores de \"y\" reales y estimados para el modelo del set de testing\n",
    "plt.scatter(y_test, y_estimated2)  # graficamos\n",
    "plt.plot([0,y_test.max()],[0,y_test.max()], color='k')  # graficamos la línea que parte desde el orgien\n",
    "plt.ylim(y_test.min(),y_test.max())  # determinamos los límites del eje y\n",
    "plt.xlim(y_test.min(),y_test.max())  # determinamos los límites del eje x\n",
    "plt.title('R2 = ' + str(np.round(r2,3))+', RMSE = '+str(np.round(RMSE,3))+', MAE = '+str(np.round(MAE,3)))\n",
    "plt.xlabel('Nivel educativo del jefe/a de hogar')  # le ponemos nombre al eje\n",
    "plt.ylabel('Nivel educativo del hijo')  # le ponemos nombre al eje y\n",
    "plt.show()"
   ]
  },
  {
   "cell_type": "code",
   "execution_count": 91,
   "metadata": {
    "id": "vV2qdc8iUTz9",
    "outputId": "30879758-8d3f-4d83-c1bd-9887ff7a1e0e"
   },
   "outputs": [
    {
     "data": {
      "text/html": [
       "<div>\n",
       "<style scoped>\n",
       "    .dataframe tbody tr th:only-of-type {\n",
       "        vertical-align: middle;\n",
       "    }\n",
       "\n",
       "    .dataframe tbody tr th {\n",
       "        vertical-align: top;\n",
       "    }\n",
       "\n",
       "    .dataframe thead th {\n",
       "        text-align: right;\n",
       "    }\n",
       "</style>\n",
       "<table border=\"1\" class=\"dataframe\">\n",
       "  <thead>\n",
       "    <tr style=\"text-align: right;\">\n",
       "      <th></th>\n",
       "      <th>Actual</th>\n",
       "      <th>Predicted</th>\n",
       "      <th>Sesgo</th>\n",
       "      <th>Error_porc</th>\n",
       "    </tr>\n",
       "  </thead>\n",
       "  <tbody>\n",
       "    <tr>\n",
       "      <th>39500</th>\n",
       "      <td>12.0</td>\n",
       "      <td>11.311186</td>\n",
       "      <td>0.688814</td>\n",
       "      <td>5.740119</td>\n",
       "    </tr>\n",
       "    <tr>\n",
       "      <th>11553</th>\n",
       "      <td>15.0</td>\n",
       "      <td>13.344256</td>\n",
       "      <td>1.655744</td>\n",
       "      <td>11.038296</td>\n",
       "    </tr>\n",
       "    <tr>\n",
       "      <th>105551</th>\n",
       "      <td>12.0</td>\n",
       "      <td>10.370701</td>\n",
       "      <td>1.629299</td>\n",
       "      <td>13.577488</td>\n",
       "    </tr>\n",
       "    <tr>\n",
       "      <th>22405</th>\n",
       "      <td>7.0</td>\n",
       "      <td>10.156218</td>\n",
       "      <td>-3.156218</td>\n",
       "      <td>-45.088822</td>\n",
       "    </tr>\n",
       "    <tr>\n",
       "      <th>14718</th>\n",
       "      <td>12.0</td>\n",
       "      <td>11.853561</td>\n",
       "      <td>0.146439</td>\n",
       "      <td>1.220326</td>\n",
       "    </tr>\n",
       "    <tr>\n",
       "      <th>...</th>\n",
       "      <td>...</td>\n",
       "      <td>...</td>\n",
       "      <td>...</td>\n",
       "      <td>...</td>\n",
       "    </tr>\n",
       "    <tr>\n",
       "      <th>3153</th>\n",
       "      <td>15.0</td>\n",
       "      <td>10.967342</td>\n",
       "      <td>4.032658</td>\n",
       "      <td>26.884385</td>\n",
       "    </tr>\n",
       "    <tr>\n",
       "      <th>50259</th>\n",
       "      <td>7.0</td>\n",
       "      <td>9.632129</td>\n",
       "      <td>-2.632129</td>\n",
       "      <td>-37.601848</td>\n",
       "    </tr>\n",
       "    <tr>\n",
       "      <th>23061</th>\n",
       "      <td>0.0</td>\n",
       "      <td>13.790687</td>\n",
       "      <td>-13.790687</td>\n",
       "      <td>-inf</td>\n",
       "    </tr>\n",
       "    <tr>\n",
       "      <th>70505</th>\n",
       "      <td>15.0</td>\n",
       "      <td>11.241165</td>\n",
       "      <td>3.758835</td>\n",
       "      <td>25.058900</td>\n",
       "    </tr>\n",
       "    <tr>\n",
       "      <th>85957</th>\n",
       "      <td>6.0</td>\n",
       "      <td>9.441178</td>\n",
       "      <td>-3.441178</td>\n",
       "      <td>-57.352975</td>\n",
       "    </tr>\n",
       "  </tbody>\n",
       "</table>\n",
       "<p>2356 rows × 4 columns</p>\n",
       "</div>"
      ],
      "text/plain": [
       "        Actual  Predicted      Sesgo  Error_porc\n",
       "39500     12.0  11.311186   0.688814    5.740119\n",
       "11553     15.0  13.344256   1.655744   11.038296\n",
       "105551    12.0  10.370701   1.629299   13.577488\n",
       "22405      7.0  10.156218  -3.156218  -45.088822\n",
       "14718     12.0  11.853561   0.146439    1.220326\n",
       "...        ...        ...        ...         ...\n",
       "3153      15.0  10.967342   4.032658   26.884385\n",
       "50259      7.0   9.632129  -2.632129  -37.601848\n",
       "23061      0.0  13.790687 -13.790687        -inf\n",
       "70505     15.0  11.241165   3.758835   25.058900\n",
       "85957      6.0   9.441178  -3.441178  -57.352975\n",
       "\n",
       "[2356 rows x 4 columns]"
      ]
     },
     "execution_count": 91,
     "metadata": {},
     "output_type": "execute_result"
    }
   ],
   "source": [
    "# Creamos un df en el cual mostramos el valor actual de y, el valor predicho, el sesgo y el porcentaje de error\n",
    "df = pd.DataFrame({'Actual': y_test, 'Predicted': y_estimated2})\n",
    "df['Sesgo']=df.Actual -df.Predicted\n",
    "df['Error_porc']=((df.Actual -df.Predicted)/df.Actual) *100\n",
    "df"
   ]
  },
  {
   "cell_type": "code",
   "execution_count": 92,
   "metadata": {
    "id": "IL_1K30AUTz9",
    "outputId": "d72bf14f-368a-43b0-f8dc-167408a31919"
   },
   "outputs": [
    {
     "data": {
      "text/plain": [
       "0.02989302957470845"
      ]
     },
     "execution_count": 92,
     "metadata": {},
     "output_type": "execute_result"
    }
   ],
   "source": [
    "# Calculamos el valor promedio del sesgo\n",
    "df.Sesgo.mean()"
   ]
  },
  {
   "cell_type": "markdown",
   "metadata": {
    "id": "7C8pjFYCT6k-"
   },
   "source": [
    "## Elección de los mejores hiper parámetros con GridSearchCV\n",
    "\n",
    "### Regularización\n",
    "\n",
    "A continuación se aplicará la regularización para evitar el overfitting en nuestro modelo, ya que la regularización controla el excesivo ajuste de nuestro modelo a los datos de entrenamiento y mejora la capacidad de generalización del modelo. Primero se aplicará la regularización L1 (Lasso) y luego la regularización L2 (Ridge). Por último, se compararán los resultados obtenidos.\n",
    "\n",
    "### Regresión lineal con regularización L1 (Lasso)"
   ]
  },
  {
   "cell_type": "code",
   "execution_count": 93,
   "metadata": {
    "id": "u6B1fxJZT6k-",
    "outputId": "fa22e3e7-fd8d-4fd2-f8d1-4e71c97653aa"
   },
   "outputs": [
    {
     "name": "stdout",
     "output_type": "stream",
     "text": [
      "Mejor hiperparámetro alpha: 0.01\n",
      "Error cuadrático medio en el testing: 12.768\n",
      "Coeficiente de determinación en el testing: 0.209\n"
     ]
    }
   ],
   "source": [
    "# Definimos el modelo de regresión lineal con regularización L1 (Lasso)\n",
    "modelo = Lasso()\n",
    "\n",
    "# Definimos el espacio de búsqueda de hiperparámetros\n",
    "param_grid = {'alpha': [0.01, 0.1, 1, 10, 100]}\n",
    "\n",
    "# Hacemos el GridSearch con validación cruzada\n",
    "grid_search = GridSearchCV(modelo, param_grid, cv=5, scoring='neg_mean_squared_error')\n",
    "\n",
    "# Entrenamos\n",
    "grid_search.fit(x_train, y_train)\n",
    "\n",
    "# Obtenemos los mejores hiperparámetros\n",
    "best_params = grid_search.best_params_\n",
    "print(\"Mejor hiperparámetro alpha:\", best_params['alpha'])\n",
    "\n",
    "# Obtenemos el mejor modelo entrenado\n",
    "best_model = grid_search.best_estimator_\n",
    "\n",
    "# Evaluamos el modelo en los datos de prueba\n",
    "y_pred = best_model.predict(x_test)\n",
    "\n",
    "# Calculamos el error cuadrático medio\n",
    "mse = mean_squared_error(y_test, y_pred)\n",
    "print(f\"Error cuadrático medio en el testing: {mse:.3f}\")\n",
    "\n",
    "# Calculamos el coeficiente de determinación\n",
    "r2=r2_score(y_test,y_pred)\n",
    "print(f\"Coeficiente de determinación en el testing: {r2:.3f}\")"
   ]
  },
  {
   "cell_type": "markdown",
   "metadata": {
    "id": "WazDKBrKT6k_"
   },
   "source": [
    "### Regresión Lineal con regularización L2 (Ridge)"
   ]
  },
  {
   "cell_type": "code",
   "execution_count": 94,
   "metadata": {
    "id": "oOfmuVpdT6k_",
    "outputId": "578c3420-0e82-4bcb-bc80-d9b463005f92"
   },
   "outputs": [
    {
     "name": "stdout",
     "output_type": "stream",
     "text": [
      "Mejor hiperparámetro alpha: 1\n",
      "Error cuadrático medio en los datos de prueba: 12.770\n",
      "Coeficiente de determinación en el testing: 0.209\n"
     ]
    }
   ],
   "source": [
    "# Definir el modelo de regresión lineal con regularización L2 (Ridge)\n",
    "model = Ridge()\n",
    "\n",
    "# Definir el espacio de búsqueda de hiperparámetros\n",
    "param_grid = {'alpha': [0.01, 0.1, 1, 10, 100]}\n",
    "\n",
    "# Configurar la búsqueda en malla con validación cruzada\n",
    "grid_search = GridSearchCV(model, param_grid, cv=5, scoring='neg_mean_squared_error')\n",
    "\n",
    "# Realizar la búsqueda en malla en los datos de entrenamiento\n",
    "grid_search.fit(x_train, y_train)\n",
    "\n",
    "# Obtener los mejores hiperparámetros\n",
    "best_params = grid_search.best_params_\n",
    "print(\"Mejor hiperparámetro alpha:\", best_params['alpha'])\n",
    "\n",
    "# Obtener el mejor modelo entrenado\n",
    "best_model = grid_search.best_estimator_\n",
    "\n",
    "# Evaluar el modelo en los datos de prueba\n",
    "y_pred = best_model.predict(x_test)\n",
    "mse = mean_squared_error(y_test, y_pred)\n",
    "print(f\"Error cuadrático medio en los datos de prueba: {mse:.3f}\")\n",
    "\n",
    "# Calculamos el coeficiente de determinación\n",
    "r2=r2_score(y_test,y_pred)\n",
    "print(f\"Coeficiente de determinación en el testing: {r2:.3f}\")"
   ]
  },
  {
   "cell_type": "markdown",
   "metadata": {
    "id": "BAhQXUyZqrk3"
   },
   "source": [
    "## Validación Cruzada\n",
    "\n",
    "La **validación cruzada** proporciona métricas más robustas y confiables del rendimiento del modelo en comparación con una única división de datos en training y testing. En este caso, utilizaremos tres métodos de validación cruzada: *K Folds, Leave One Out y Statified Folds* y veremos cuál es el que nos permite obtener los mejores resultados."
   ]
  },
  {
   "cell_type": "code",
   "execution_count": 95,
   "metadata": {
    "id": "daGtzbvZqq-p"
   },
   "outputs": [],
   "source": [
    "# Validaciones\n",
    "kf = KFold(n_splits=5, shuffle=True, random_state=42)\n",
    "loo = LeaveOneOut()\n",
    "skf = StratifiedKFold(5)"
   ]
  },
  {
   "cell_type": "code",
   "execution_count": 96,
   "metadata": {
    "id": "vTjH30ZdrZsH",
    "outputId": "073f0144-2371-4c89-a9b9-b5d824ebecd6"
   },
   "outputs": [
    {
     "name": "stdout",
     "output_type": "stream",
     "text": [
      "Resultados para cada fold con K Folds: [-13.46270306 -12.83440777 -13.98913825 -13.23427871 -13.46616306]\n"
     ]
    }
   ],
   "source": [
    "# Entrenamos\n",
    "score_kf = cross_val_score(linear_model.LinearRegression(), x_train, y_train, cv= kf, scoring=\"neg_mean_squared_error\")\n",
    "print(f'Resultados para cada fold con K Folds: {score_kf}')"
   ]
  },
  {
   "cell_type": "code",
   "execution_count": 97,
   "metadata": {
    "id": "Jfbir0W90mXP",
    "outputId": "7b4a5595-562c-45be-f8fe-44ffbb4f055f"
   },
   "outputs": [
    {
     "name": "stdout",
     "output_type": "stream",
     "text": [
      "rmse= 13.40\n"
     ]
    }
   ],
   "source": [
    "def rmse(score_kf):\n",
    "    rmse = (-score_kf)  # le saqué el cálculo de la raíz cuadrada np.sqrt\n",
    "    print(f'rmse= {\"{:.2f}\".format(rmse)}')\n",
    "\n",
    "rmse(score_kf.mean())"
   ]
  },
  {
   "cell_type": "code",
   "execution_count": 98,
   "metadata": {
    "id": "X8csYdhw0maG",
    "outputId": "e0e8d73f-5776-4266-a065-0abc840d3091"
   },
   "outputs": [
    {
     "name": "stdout",
     "output_type": "stream",
     "text": [
      "Resultados para cada fold con Leave One Out: [-15.94315297  -1.00065111  -0.02548863 ...  -0.37331885 -11.09654067\n",
      "  -7.19542546]\n"
     ]
    }
   ],
   "source": [
    "# Entrenamos con Leave One Out y obtenemos como resultado el error cuadrático medio  para cada Fold\n",
    "score_loo = cross_val_score(linear_model.LinearRegression(), x_train, y_train, cv= loo, scoring=\"neg_mean_squared_error\")\n",
    "print(f'Resultados para cada fold con Leave One Out: {score_loo}')"
   ]
  },
  {
   "cell_type": "code",
   "execution_count": 99,
   "metadata": {
    "id": "Tey1tjYv0mde",
    "outputId": "f3358c1b-9dc0-4966-f99b-709593290aed"
   },
   "outputs": [
    {
     "name": "stdout",
     "output_type": "stream",
     "text": [
      "rmse= 13.38\n"
     ]
    }
   ],
   "source": [
    "rmse(score_loo.mean())"
   ]
  },
  {
   "cell_type": "code",
   "execution_count": 100,
   "metadata": {
    "id": "ymBGS4zV0mgN",
    "outputId": "c594695d-851b-4de5-c715-ba20d00ce29f"
   },
   "outputs": [
    {
     "name": "stdout",
     "output_type": "stream",
     "text": [
      "Resultados para cada fold con Stratified K Folds: [-13.36415747 -13.72039228 -13.11648444 -13.47427827 -13.26446446]\n"
     ]
    }
   ],
   "source": [
    "# Entrenamos con K Folds y obtenemos como resultado el error cuadrático medio para cada Fold\n",
    "score_skf = cross_val_score(linear_model.LinearRegression(), x_train, y_train, cv= skf, scoring=\"neg_mean_squared_error\")\n",
    "print(f'Resultados para cada fold con Stratified K Folds: {score_skf}')"
   ]
  },
  {
   "cell_type": "code",
   "execution_count": 101,
   "metadata": {
    "id": "7eCf20B3T6lC",
    "outputId": "a16b2d11-7e16-4ce2-aa0d-8dab245d687a"
   },
   "outputs": [
    {
     "name": "stdout",
     "output_type": "stream",
     "text": [
      "rmse= 13.39\n"
     ]
    }
   ],
   "source": [
    "rmse(score_skf.mean())"
   ]
  },
  {
   "cell_type": "markdown",
   "metadata": {
    "id": "89sCfr2zT6lC"
   },
   "source": [
    "Al obtener como resultado la \"pérdida\" del error cuadrático medio, lo que buscamos obtener es el mínimo valor del error, ya que esto nos indicaría una mejor performance. De manera tal que si comparamos los resultados obtenidos, observamos que la diferencia del valor del error cuadrático medio obtenido a partir de los métodos utilizados es mínima. Sin embargo, elegimos el método de K Folds  para calcular otras métricas."
   ]
  },
  {
   "cell_type": "code",
   "execution_count": 102,
   "metadata": {
    "id": "caBPH4SyT6lC",
    "outputId": "619d760f-d277-4dcd-836b-216f4bc3bc4b"
   },
   "outputs": [
    {
     "name": "stdout",
     "output_type": "stream",
     "text": [
      "Resultados para cada fold con K Folds: [0.21676332 0.20098286 0.16983009 0.21467128 0.23993345]\n"
     ]
    }
   ],
   "source": [
    "# Entrenamos con K Folds y obtenemos como resultado el valor del R2 para cada Fold\n",
    "r2_kf = cross_val_score(linear_model.LinearRegression(), x_train, y_train, cv= kf, scoring=\"r2\")\n",
    "print(f'Resultados para cada fold con K Folds: {r2_kf}')"
   ]
  },
  {
   "cell_type": "code",
   "execution_count": 103,
   "metadata": {
    "id": "UpUZIOT_T6lD",
    "outputId": "698e5795-7921-4641-ccd4-52584a1153fc"
   },
   "outputs": [
    {
     "name": "stdout",
     "output_type": "stream",
     "text": [
      "R^2 = 0.20843619966081056\n"
     ]
    }
   ],
   "source": [
    "# Obtenemos el valor del R^2 promedio\n",
    "print(f'R^2 = {r2_kf.mean()}')"
   ]
  },
  {
   "cell_type": "code",
   "execution_count": 104,
   "metadata": {
    "id": "vhZjRDunT6lD",
    "outputId": "957d9c97-eff9-422c-e0d6-74c763c33d93"
   },
   "outputs": [
    {
     "name": "stdout",
     "output_type": "stream",
     "text": [
      "Resultados para cada fold con K Folds: [0.21701043 0.20236391 0.17007334 0.21467128 0.2412497 ]\n"
     ]
    }
   ],
   "source": [
    "# Entrenamos con K Folds y obtenemos como resultado la varianza explicada para cada Fold\n",
    "var_kf = cross_val_score(linear_model.LinearRegression(), x_train, y_train, cv= kf, scoring=\"explained_variance\")\n",
    "print(f'Resultados para cada fold con K Folds: {var_kf}')"
   ]
  },
  {
   "cell_type": "code",
   "execution_count": 105,
   "metadata": {
    "id": "g5UpIFWsT6lD",
    "outputId": "7d74df90-9fce-4ed3-d4e9-71c3cfd00e1b"
   },
   "outputs": [
    {
     "name": "stdout",
     "output_type": "stream",
     "text": [
      "Varianza Explicada = 0.20907373210239175\n"
     ]
    }
   ],
   "source": [
    "# Obtenemos el valor promedio de la varianza explicada\n",
    "print(f'Varianza Explicada = {var_kf.mean()}')"
   ]
  },
  {
   "cell_type": "markdown",
   "metadata": {
    "id": "sHkKGv9rT6lD"
   },
   "source": [
    "## Comparación de los resultados obtenidos\n",
    "\n",
    "Al comparar los resultados obtenidos al realizar la regresión lineal con (L1 o L2) y sin regularización, se observa que el valor del error cuadrático medio del testing es $13.46$ y el valor del coeficiente de determinación es de $0.21$. De manera tal que se puede concluir que los resultados obtenidos son robustos.\n",
    "\n",
    "Si comparamos los resultados obtenidos al hacer la regresión con los resultados obtenidos a partir de la validación cruzada utilizando K Folds, observamos que el coeficiente de determinación es menor en la validación cruzada y el error cuadrático medio mayor, ya que estos resultados son más robustos, nos indican que el modelo en realidad tiene una performance peor al modelo entrenado y testeado inicialmente."
   ]
  },
  {
   "cell_type": "markdown",
   "metadata": {
    "id": "RGyjlpgoUTz9"
   },
   "source": [
    "## 5.3. Árbol de decisión para Regresión\n",
    "\n",
    "En este caso sólo consideraremos una variable independiente (EducPadres) y una dependiente (EducHijos)."
   ]
  },
  {
   "cell_type": "code",
   "execution_count": 106,
   "metadata": {
    "id": "UbK-5g_bUTz9"
   },
   "outputs": [],
   "source": [
    "# Dividimos el set de train en feature y target\n",
    "feature_name = \"EducPadres\"\n",
    "target_name = \"EducHijos\"\n",
    "data_train, target_train = eph[[feature_name]], eph[target_name]"
   ]
  },
  {
   "cell_type": "code",
   "execution_count": 107,
   "metadata": {
    "id": "WILJeUkhUTz9"
   },
   "outputs": [],
   "source": [
    "# Definimos el dataset del testing\n",
    "data_test = pd.DataFrame(np.arange(data_train[feature_name].min(), data_train[feature_name].max()),columns=[feature_name],)"
   ]
  },
  {
   "cell_type": "code",
   "execution_count": 108,
   "metadata": {
    "id": "lS-Je3PPUTz9"
   },
   "outputs": [],
   "source": [
    "# Creamos el árbol de decisión para regresión\n",
    "tree = DecisionTreeRegressor(criterion='squared_error', splitter='best',max_depth=2) # Establecemos que la máxima profundidad del árbol es 2\n",
    "tree.fit(data_train, target_train)\n",
    "target_predicted = tree.predict(data_test)"
   ]
  },
  {
   "cell_type": "code",
   "execution_count": 109,
   "metadata": {
    "id": "t0VrfmfrUTz-",
    "outputId": "e276d5b9-3f22-4428-b519-c18210b4ba7a"
   },
   "outputs": [
    {
     "data": {
      "image/png": "[encoded data removed]",
      "text/plain": [
       "<Figure size 432x288 with 1 Axes>"
      ]
     },
     "metadata": {},
     "output_type": "display_data"
    }
   ],
   "source": [
    "sns.scatterplot(data=eph, x=feature_name, y=target_name, alpha=0.5)\n",
    "plt.plot(data_test[feature_name], target_predicted, label=\"Predicción\", color = \"red\")\n",
    "plt.legend()\n",
    "_ = plt.title(\"Función predicha utilizando Árbol de Decisión para Regresión\")"
   ]
  },
  {
   "cell_type": "code",
   "execution_count": 110,
   "metadata": {
    "id": "CL_R_1QwUTz-",
    "outputId": "5410bac5-6a7d-4d55-9dbb-52cf376d2c84"
   },
   "outputs": [
    {
     "data": {
      "image/png": "[encoded data removed]",
      "text/plain": [
       "<Figure size 1008x576 with 1 Axes>"
      ]
     },
     "metadata": {},
     "output_type": "display_data"
    }
   ],
   "source": [
    "# Graficamos el árbol de decisión\n",
    "_, ax = plt.subplots(figsize=(14, 8))\n",
    "_ = plot_tree(tree, feature_names=[feature_name], ax=ax)"
   ]
  },
  {
   "cell_type": "markdown",
   "metadata": {
    "id": "9kitCqlpT6lG"
   },
   "source": [
    "## Elección de los mejores hiper parámetros con GridSearchCV"
   ]
  },
  {
   "cell_type": "code",
   "execution_count": 111,
   "metadata": {
    "id": "xsvhoz-1T6lG",
    "outputId": "742e2a50-2db2-4ef5-a63f-c8164fbee6d7"
   },
   "outputs": [
    {
     "name": "stdout",
     "output_type": "stream",
     "text": [
      "Mejores hiperparámetros: {'max_depth': 10, 'max_features': 'sqrt', 'min_samples_leaf': 10, 'min_samples_split': 2}\n",
      "Error cuadrático medio en los datos de testing: 13.7232\n",
      "Coeficiente de determinación en el testing: 0.150\n"
     ]
    }
   ],
   "source": [
    "# Definimos el modelo\n",
    "modelo = DecisionTreeRegressor()\n",
    "\n",
    "# Definimos el espacio de búsqueda de hiper parámetros\n",
    "param_grid = {'max_depth': [None, 10, 20, 30],'min_samples_leaf': [1, 5, 10],'min_samples_split': [2, 5, 10],'max_features': ['auto', 'sqrt', 'log2']}\n",
    "\n",
    "# Configurar la búsqueda en malla con validación cruzada\n",
    "grid_search = GridSearchCV(modelo, param_grid, cv=5, scoring='neg_mean_squared_error')\n",
    "\n",
    "# Realizar la búsqueda en malla en los datos de entrenamiento\n",
    "grid_search.fit(x_train, y_train)\n",
    "\n",
    "# Obtener los mejores hiperparámetros\n",
    "best_params = grid_search.best_params_\n",
    "print(\"Mejores hiperparámetros:\", best_params)\n",
    "\n",
    "# Obtener el mejor modelo entrenado\n",
    "best_model = grid_search.best_estimator_\n",
    "\n",
    "# Evaluar el modelo en los datos de prueba\n",
    "y_pred = best_model.predict(x_test)\n",
    "mse = mean_squared_error(y_test, y_pred)\n",
    "print(f\"Error cuadrático medio en los datos de testing: {mse:.4f}\")\n",
    "\n",
    "# Calculamos el coeficiente de determinación\n",
    "r2=r2_score(y_test,y_pred)\n",
    "print(f\"Coeficiente de determinación en el testing: {r2:.3f}\")"
   ]
  },
  {
   "cell_type": "markdown",
   "metadata": {
    "id": "4UrKae5qUTz-"
   },
   "source": [
    "## 5.4. Conclusiones de los modelos\n",
    "   \n",
    "## 5.4.1. Conclusiones del modelo de regresión\n",
    "\n",
    "_Resultados entrenamiento:_\n",
    "\n",
    "$R^2 = 0.211$\n",
    "\n",
    "$RMSE = 13.362$\n",
    "\n",
    "$MAE = 2.691$\n",
    "\n",
    "_Resultados testeo:_\n",
    "\n",
    "$R^2 = 0.209$\n",
    "\n",
    "$RMSE = 12.77$\n",
    "\n",
    "$MAE = 2.623$\n",
    "\n",
    "\n",
    "A partir del $R^2$ obtenido se observa que los valores pronosticados explican una pequeña parte de los valores observados. Además, al considerar el $RMSE$ del entrenamiento y del testeo, se ve que el modelo tienen poco error al predecir los valores de la educación de los hijos y que esos errores son bastante similares. A partir de esto, se puede afirmar que en el modelo no hay _underfitting_ ni _overfitting_.\n",
    "\n",
    "\n",
    "\n",
    "\n",
    "\n",
    "## 5.4.2. Conclusiones del modelo de Árbol de Decisión para regresión"
   ]
  },
  {
   "cell_type": "markdown",
   "metadata": {
    "id": "6XveGtKSUTz-"
   },
   "source": [
    "El **árbol de decisión para regresión** comienza dividiendo la muestra en dos regiones cuando el valor de la educación de los padres es menor o mayor a 10 años, en ese caso el valor predicho para la educación del hijo es de 12 años aproximadamente. Luego tenemos dos ramas del árbol, por un lado, aquellos valores en los que la educación del padre es en promedio 7 años y medio, en donde se predice que la educación de los hijos será de 10 años; por otro lado, la educación promedio de los padres es de 14,5 años, en donde se predice que la educación de los hijos será de 13 años.\n",
    "\n",
    "Después, vemos que el árbol predice que 4091 hijos de padres que tienen una educación promedio de 7,5 años van a lograr aproximadamente 10 años de educación, mientras que 1488 11 años. Con respecto a los padres que tienen una educación promedio de 14,5 años, el árbol predice que 3630 hijos van a alcanzar en promedio 12 años de educación, mientras que 2567 van a lograr 14 años.\n",
    "\n",
    "\n",
    "\n"
   ]
  },
  {
   "cell_type": "markdown",
   "metadata": {
    "id": "ErykAqSfUTz_"
   },
   "source": [
    "## 6. Aprendizaje supervisado: Modelo de clasificación\n",
    "\n",
    "## 6.1. División de datos"
   ]
  },
  {
   "cell_type": "code",
   "execution_count": 112,
   "metadata": {
    "id": "eFxcTl-rUTz_"
   },
   "outputs": [],
   "source": [
    "# Definimos las variables del problema de clasificación\n",
    "x_clas = EPH[['EducPadres']]\n",
    "y_clas = EPH['MovEduc']"
   ]
  },
  {
   "cell_type": "code",
   "execution_count": 113,
   "metadata": {
    "id": "7B1rh-BNUTz_"
   },
   "outputs": [],
   "source": [
    "# Dividimos en train y test\n",
    "x_clas_train, x_clas_test, y_clas_train, y_clas_test = train_test_split(x_clas, y_clas, test_size=0.4, random_state=100)"
   ]
  },
  {
   "cell_type": "code",
   "execution_count": 114,
   "metadata": {
    "id": "1rfhuklZUTz_"
   },
   "outputs": [],
   "source": [
    "# Definimos el modelo\n",
    "LogReg = LogisticRegression().fit(x_clas_train,y_clas_train)\n",
    "y_clas_pred = LogReg.predict(x_clas_test)"
   ]
  },
  {
   "cell_type": "markdown",
   "metadata": {
    "id": "zEqXEvyGUTz_"
   },
   "source": [
    "## 6.2. Evaluación del modelo de clasificación\n",
    "\n",
    "### Matriz de confusión"
   ]
  },
  {
   "cell_type": "code",
   "execution_count": 115,
   "metadata": {
    "id": "gFOD2ZTMUTz_",
    "outputId": "86e5cf9c-a79c-49e6-b56c-f64c6d337fbf"
   },
   "outputs": [
    {
     "data": {
      "image/png": "[encoded data removed]",
      "text/plain": [
       "<Figure size 432x288 with 2 Axes>"
      ]
     },
     "metadata": {},
     "output_type": "display_data"
    }
   ],
   "source": [
    "# Creamos la matriz de confusión, en donde elegimos el tipo de normalización 'all' para que la suma de la matriz sea el 100%\n",
    "cm = confusion_matrix(y_clas_test, y_clas_pred, normalize='all')\n",
    "disp = ConfusionMatrixDisplay(confusion_matrix=cm,  display_labels=['No Mov','Mov'])\n",
    "disp.plot()\n",
    "plt.show()"
   ]
  },
  {
   "cell_type": "code",
   "execution_count": 116,
   "metadata": {
    "id": "3bbX3ABzUTz_",
    "outputId": "85619956-abde-4e0d-cbee-8e6651773b30"
   },
   "outputs": [
    {
     "data": {
      "text/plain": [
       "(0.3718955635746126,\n",
       " 0.10379961791551688,\n",
       " 0.15538102313733815,\n",
       " 0.3689237953725324)"
      ]
     },
     "execution_count": 116,
     "metadata": {},
     "output_type": "execute_result"
    }
   ],
   "source": [
    "tn, fp, fn, tp = confusion_matrix(y_clas_test, y_clas_pred, normalize = 'all').ravel()\n",
    "tn, fp, fn, tp"
   ]
  },
  {
   "cell_type": "markdown",
   "metadata": {
    "id": "SBjH4u8bUTz_"
   },
   "source": [
    "Los resultados obtenidos a partir de la **matriz de confusión** nos muestran que nuestro modelo predice correctamente un 37% de las veces los *Verdaderos Positivos* (predijo que había movilidad, siendo que sí hubo) y un 37% de las veces los *Verdaderos Negativos* (predijo que no había movilidad, siendo que no hubo); mientras que hay un 10% de *Falsos Positivos* o **falsas alarmas** (predijo que había movilidad, siendo que no hubo) y un 16% de *Falsos Negativos* o **sorpresas** (predijo que no había movilidad, siendo que sí hubo)."
   ]
  },
  {
   "cell_type": "markdown",
   "metadata": {
    "id": "GinPjFntUT0A"
   },
   "source": [
    "### Accuracy"
   ]
  },
  {
   "cell_type": "code",
   "execution_count": 117,
   "metadata": {
    "id": "pCT1iRqxUT0A",
    "outputId": "7333bdb0-f93b-4e04-8ea3-b09bb70ea61e"
   },
   "outputs": [
    {
     "data": {
      "text/plain": [
       "0.740819358947145"
      ]
     },
     "execution_count": 117,
     "metadata": {},
     "output_type": "execute_result"
    }
   ],
   "source": [
    "# Obtenemos el valor del accuracy score\n",
    "accuracy_score(y_clas_test,y_clas_pred)"
   ]
  },
  {
   "cell_type": "markdown",
   "metadata": {
    "id": "Wj_g8s-eUT0A"
   },
   "source": [
    "La métrica llamada **accuracy** nos muestra el porcentaje de veces que el modelo predice correctamente la categoría. A partir del resultado obtenido, se puede afirmar que el 74% de las veces el modelo predijo correctamente la categoría, mientras que el 26% restante de las veces no, en donde se produjeron sorpresas o falsas alarmas."
   ]
  },
  {
   "cell_type": "markdown",
   "metadata": {
    "id": "DF2o18anUT0A"
   },
   "source": [
    "### Precision"
   ]
  },
  {
   "cell_type": "code",
   "execution_count": 118,
   "metadata": {
    "id": "T_avo0ezUT0A",
    "outputId": "b92713d3-12cd-4068-a069-037ff8322968"
   },
   "outputs": [
    {
     "data": {
      "text/plain": [
       "0.7804220925011226"
      ]
     },
     "execution_count": 118,
     "metadata": {},
     "output_type": "execute_result"
    }
   ],
   "source": [
    "# Obtenemos el valor de precision score\n",
    "precision_score(y_clas_test,y_clas_pred)"
   ]
  },
  {
   "cell_type": "markdown",
   "metadata": {
    "id": "RpI1amZ7UT0A"
   },
   "source": [
    "La métrica **precision** indica el porcentaje de veces que el modelo predice correctamente que va a haber movilidad (Verdadero Positivo) respecto a la cantidad total de casos en los que se predijo que había movilidad (Verdadero Positivo + Falso Positivo). Por lo tanto, el 78% de las veces el modelo predijo correctamente que iba a haber movilidad, mientras que el 22% de las veces fueros falsas alarmas, es decir, que se predijo que había movilidad, siendo que no hubo."
   ]
  },
  {
   "cell_type": "markdown",
   "metadata": {
    "id": "4spJkHVSUT0A"
   },
   "source": [
    "### Recall"
   ]
  },
  {
   "cell_type": "code",
   "execution_count": 119,
   "metadata": {
    "id": "Uxbfawc1UT0E",
    "outputId": "b5f141f8-3fc6-47f1-8179-4b9e989362cd"
   },
   "outputs": [
    {
     "data": {
      "text/plain": [
       "0.7036437246963563"
      ]
     },
     "execution_count": 119,
     "metadata": {},
     "output_type": "execute_result"
    }
   ],
   "source": [
    "# Obtenemos el valor del recall\n",
    "recall_score(y_clas_test,y_clas_pred)"
   ]
  },
  {
   "cell_type": "markdown",
   "metadata": {
    "id": "ovwVNQZ5UT0E"
   },
   "source": [
    "La métrica **recall o sensibilidad** indica el porcentaje de veces que el modelo predice correctamente que va a haber movilidad (Verdadero Positivo) respecto a la cantidad total de casos en los que había movilidad (Verdadero Positivo + Falso Negativo). Por lo que, el 70% de las veces el modelo predijo correctamente que había movilidad mientras que el 30% restante de las veces fueron sorpresas, es decir, que se había predicho que no había movilidad, siendo que sí la hubo.\n"
   ]
  },
  {
   "cell_type": "markdown",
   "metadata": {
    "id": "dZ7oaeOGUT0F"
   },
   "source": [
    "### Especificidad"
   ]
  },
  {
   "cell_type": "code",
   "execution_count": 120,
   "metadata": {
    "id": "I1Fsy2kDUT0F",
    "outputId": "23e6d4a4-db94-47ca-c979-0df5bf357651"
   },
   "outputs": [
    {
     "data": {
      "text/plain": [
       "0.7817938420348058"
      ]
     },
     "execution_count": 120,
     "metadata": {},
     "output_type": "execute_result"
    }
   ],
   "source": [
    "# Obtenemos el valor de la especificidad\n",
    "specificity = tn / (tn+fp)\n",
    "specificity"
   ]
  },
  {
   "cell_type": "markdown",
   "metadata": {
    "id": "vGzJhZSxUT0F"
   },
   "source": [
    "La métrica **especificidad** indica el porcentaje de veces que el modelo predice correctamente que **no** va a haber movilidad (Verdadero Negativo) respecto a la cantidad total de casos en los que no hubo movilidad (Verdadero Negativo + Falso Positivo). Por lo tanto, el 78% de las veces el modelo predice correctamente que no va a haber movilidad, mientras que el 22% de las restantes veces predice incorrectamente qu sí hubo."
   ]
  },
  {
   "cell_type": "markdown",
   "metadata": {
    "id": "J68TnTZYUT0F"
   },
   "source": [
    "### ROC-AUC"
   ]
  },
  {
   "cell_type": "code",
   "execution_count": 121,
   "metadata": {
    "id": "qWSXh00mUT0F",
    "outputId": "ab2a75ba-e826-4830-caeb-f258d6503986"
   },
   "outputs": [
    {
     "data": {
      "text/plain": [
       "array([[0.21088098, 0.78911902],\n",
       "       [0.78600917, 0.21399083],\n",
       "       [0.21088098, 0.78911902],\n",
       "       ...,\n",
       "       [0.78600917, 0.21399083],\n",
       "       [0.60527234, 0.39472766],\n",
       "       [0.73299099, 0.26700901]])"
      ]
     },
     "execution_count": 121,
     "metadata": {},
     "output_type": "execute_result"
    }
   ],
   "source": [
    "LogReg.predict_proba(x_clas_test)"
   ]
  },
  {
   "cell_type": "code",
   "execution_count": 122,
   "metadata": {
    "id": "MnhFf8I5UT0F",
    "outputId": "655d0184-a871-47d2-b225-64e725c45b8f"
   },
   "outputs": [
    {
     "data": {
      "text/plain": [
       "0.790622137673501"
      ]
     },
     "execution_count": 122,
     "metadata": {},
     "output_type": "execute_result"
    }
   ],
   "source": [
    "roc_auc_score(y_clas_test.values, LogReg.predict_proba(x_clas_test)[:,1])"
   ]
  },
  {
   "cell_type": "code",
   "execution_count": 123,
   "metadata": {
    "id": "n5kWGc3YUT0G",
    "outputId": "967aef4a-6546-4047-ef11-94e2d3a908da"
   },
   "outputs": [
    {
     "data": {
      "image/png": "[encoded data removed]",
      "text/plain": [
       "<Figure size 432x288 with 1 Axes>"
      ]
     },
     "metadata": {},
     "output_type": "display_data"
    }
   ],
   "source": [
    "fpr, tpr, _ = metrics.roc_curve(y_clas_test.values,  LogReg.predict_proba(x_clas_test)[:,1])\n",
    "auc = metrics.roc_auc_score(y_clas_test, LogReg.predict_proba(x_clas_test)[:,1])\n",
    "plt.plot(fpr,tpr,label=\"data 1, auc=\"+str(auc))\n",
    "plt.legend(loc=4)\n",
    "plt.show()"
   ]
  },
  {
   "cell_type": "markdown",
   "metadata": {
    "id": "oXyxn-N3UT0G"
   },
   "source": [
    "La **curva ROC-AUC** se utiliza para medir el rendimiento del modelo de clasificación, en donde, cuanto más cercano a 1 esté el AUC, mejor es nuestro clasificador para predecir las categorías. En este caso el **AUC** es de 0,79, lo cual indica que nuestro modelo es bueno para predecir si hubo o no movilidad educativa intergeneracional."
   ]
  },
  {
   "cell_type": "code",
   "execution_count": 124,
   "metadata": {
    "id": "-M2clkduUT0G"
   },
   "outputs": [],
   "source": [
    "resultados = pd.DataFrame({'target':y_clas_test, 'proba_pred':LogReg.predict_proba(x_clas_test)[:,1]})"
   ]
  },
  {
   "cell_type": "code",
   "execution_count": 125,
   "metadata": {
    "id": "g32HLrQfUT0G",
    "outputId": "560b91e2-5fa7-43c1-d64c-9ff6c2266854"
   },
   "outputs": [
    {
     "data": {
      "text/plain": [
       "<Axes: xlabel='target', ylabel='proba_pred'>"
      ]
     },
     "execution_count": 125,
     "metadata": {},
     "output_type": "execute_result"
    },
    {
     "data": {
      "image/png": "[encoded data removed]",
      "text/plain": [
       "<Figure size 432x288 with 1 Axes>"
      ]
     },
     "metadata": {},
     "output_type": "display_data"
    }
   ],
   "source": [
    "sns.boxplot(y='proba_pred', x='target', data=resultados)"
   ]
  },
  {
   "cell_type": "code",
   "execution_count": 126,
   "metadata": {
    "id": "rSQbOX1BUT0G",
    "outputId": "b5db3f39-be3d-43c6-cacc-58d659ab123f"
   },
   "outputs": [
    {
     "data": {
      "text/plain": [
       "0.18299603717478477"
      ]
     },
     "execution_count": 126,
     "metadata": {},
     "output_type": "execute_result"
    }
   ],
   "source": [
    "brier_score_loss(resultados.target, resultados.proba_pred)"
   ]
  },
  {
   "cell_type": "markdown",
   "metadata": {
    "id": "QN0uKxGMUT0G"
   },
   "source": [
    "La **puntuación de Brier** es una métrica que mide la precisión de las predicciones probabilísticas, en donde el cuanto menor sea la puntuación de Brier, mayor será la precisión de las predicciones. En este caso, el resultado de la puntuación es de 0,18 indicando que el modelo es precisio para predecir si hubo o no movilidad."
   ]
  },
  {
   "cell_type": "markdown",
   "metadata": {
    "id": "8Tsd21jhT6lN"
   },
   "source": [
    "## Elección de los mejores hiper parámetros con GridSearchCV"
   ]
  },
  {
   "cell_type": "code",
   "execution_count": 129,
   "metadata": {
    "id": "QIVzk9LPT6lO",
    "outputId": "1ef21af5-00bc-4463-cf42-d54cd767b2e2"
   },
   "outputs": [
    {
     "name": "stdout",
     "output_type": "stream",
     "text": [
      "Mejores hiperparámetros: {'C': 100, 'penalty': 'l1', 'solver': 'liblinear'}\n",
      "Accuracy en los datos de prueba: 0.3570\n"
     ]
    }
   ],
   "source": [
    "# Definimos el espacio de búsqueda de los mejores hiper parámetros\n",
    "param_grid = {'C': [10, 100],'penalty': ['l1', 'l2'],'solver': ['liblinear', 'saga']}\n",
    "\n",
    "# Configurar la búsqueda en malla con validación cruzada\n",
    "grid_search = GridSearchCV(LogReg, param_grid, cv=5, scoring='accuracy')\n",
    "\n",
    "# Realizar la búsqueda en malla en los datos de entrenamiento\n",
    "grid_search.fit(x_train, y_train)\n",
    "\n",
    "# Obtener los mejores hiperparámetros\n",
    "best_params = grid_search.best_params_\n",
    "print(\"Mejores hiperparámetros:\", best_params)\n",
    "\n",
    "# Obtener el mejor modelo entrenado\n",
    "best_model = grid_search.best_estimator_\n",
    "\n",
    "# Evaluar el modelo en los datos de prueba\n",
    "y_pred = best_model.predict(x_test)\n",
    "accuracy = accuracy_score(y_test, y_pred)\n",
    "print(f\"Accuracy en los datos de prueba: {accuracy:.4f}\")"
   ]
  },
  {
   "cell_type": "markdown",
   "metadata": {
    "id": "EmUU7nJET6lO"
   },
   "source": [
    "Al comparar el accuracy obtenido a partir de la Regresión Logística y del Grid Search, se observa que el accuracy obtenido en este último es prácticamente la mitad del de la Regresión Logística."
   ]
  },
  {
   "cell_type": "markdown",
   "metadata": {
    "id": "fw8HMDsVqg-3"
   },
   "source": [
    "## Validación Cruzada\n"
   ]
  },
  {
   "cell_type": "code",
   "execution_count": 130,
   "metadata": {
    "id": "eDmNO6FDqgjx"
   },
   "outputs": [],
   "source": [
    "# validaciones\n",
    "kf = KFold(n_splits=10, shuffle=True, random_state=42)\n",
    "loo = LeaveOneOut()\n",
    "skf = StratifiedKFold(10)"
   ]
  },
  {
   "cell_type": "code",
   "execution_count": 131,
   "metadata": {
    "id": "McRsAN2i2YGQ",
    "outputId": "e2a93c58-c77a-4e56-ac18-4d73c34a2bf0"
   },
   "outputs": [
    {
     "name": "stdout",
     "output_type": "stream",
     "text": [
      "Resultados para cada fold con K Folds: [0.72325976 0.73259762 0.73514431 0.72665535 0.74957555 0.73599321\n",
      " 0.73831776 0.7357689  0.73237043 0.74681393]\n",
      "KF Accuracy score: 0.736\n"
     ]
    }
   ],
   "source": [
    "# Entrenamos con K Folds y obtenemos como resultado el Accuracy\n",
    "accuracy_kf = cross_val_score(linear_model.LogisticRegression(random_state= 42), x_clas, y_clas, cv= kf, scoring=\"accuracy\")\n",
    "print(f'Resultados para cada fold con K Folds: {accuracy_kf}')\n",
    "print(f'KF Accuracy score: {\"{:.3f}\".format(accuracy_kf.mean())}')"
   ]
  },
  {
   "cell_type": "code",
   "execution_count": 132,
   "metadata": {
    "id": "bN9bGubbT6lP",
    "outputId": "747e1d09-ffeb-41b3-b3ee-6832863f9548"
   },
   "outputs": [
    {
     "name": "stdout",
     "output_type": "stream",
     "text": [
      "Resultados para cada fold con Stratified K Folds: [0.71052632 0.74023769 0.71222411 0.73429542 0.73174873 0.7385399\n",
      " 0.73237043 0.7451147  0.77315208 0.73831776]\n",
      "SKF Accuracy score: 0.736\n"
     ]
    }
   ],
   "source": [
    "# Entrenamos con Stratified K Folds y obtenemos como resultado el Accuracy\n",
    "accuracy_skf = cross_val_score(linear_model.LogisticRegression(random_state= 42), x_clas, y_clas, cv= skf, scoring=\"accuracy\")\n",
    "print(f'Resultados para cada fold con Stratified K Folds: {accuracy_skf}')\n",
    "print(f'SKF Accuracy score: {\"{:.3f}\".format(accuracy_skf.mean())}')"
   ]
  },
  {
   "cell_type": "markdown",
   "metadata": {
    "id": "JhItHwgZT6lP"
   },
   "source": [
    "En este caso, vemos que independientemente del método de validación cruzada que utilicemos, los resultados del Accuracy obtenidos son los mismos. Por lo que, utilizaremos el método K Folds para calcular otras métricas.\n",
    "\n",
    "También es importante recalcar que se calculó el Accuracy para distintos valores de K, entre 2 y 500, y en todos los casos los resultados obtenidos fueron los mismos."
   ]
  },
  {
   "cell_type": "code",
   "execution_count": 133,
   "metadata": {
    "id": "N8cAgYHbT6lP",
    "outputId": "d3a364a8-4152-47b5-9e07-914afd106b6c"
   },
   "outputs": [
    {
     "name": "stdout",
     "output_type": "stream",
     "text": [
      "Resultados para cada fold con K Folds: [0.74499089 0.76623377 0.75797373 0.75868726 0.77483444 0.76109215\n",
      " 0.79854809 0.77043478 0.77678571 0.7570922 ]\n",
      "KF Precision score: 0.767\n"
     ]
    }
   ],
   "source": [
    "# Entrenamos con K Folds y obtenemos como resultado la precision\n",
    "precision_kf = cross_val_score(linear_model.LogisticRegression(random_state= 42), x_clas, y_clas, cv= kf, scoring ='precision')\n",
    "print(f'Resultados para cada fold con K Folds: {precision_kf}')\n",
    "print(f'KF Precision score: {\"{:.3f}\".format(precision_kf.mean())}')"
   ]
  },
  {
   "cell_type": "code",
   "execution_count": 134,
   "metadata": {
    "id": "Cky1dEEZT6lP",
    "outputId": "a4e84edf-3970-4259-e0fd-f05e57aab11f"
   },
   "outputs": [
    {
     "name": "stdout",
     "output_type": "stream",
     "text": [
      "Resultados para cada fold con K Folds: [0.68739496 0.68604651 0.68824532 0.66610169 0.74641148 0.72285251\n",
      " 0.69073783 0.71221865 0.696      0.72619048]\n",
      "KF recall score: 0.702\n"
     ]
    }
   ],
   "source": [
    "# Entrenamos con K Folds y obtenemos como resultado el recall\n",
    "recall_kf = cross_val_score(linear_model.LogisticRegression(random_state= 42), x_clas, y_clas, cv= kf, scoring ='recall')\n",
    "print(f'Resultados para cada fold con K Folds: {recall_kf}')\n",
    "print(f'KF recall score: {\"{:.3f}\".format(recall_kf.mean())}')"
   ]
  },
  {
   "cell_type": "code",
   "execution_count": 135,
   "metadata": {
    "id": "fFREB92BT6lP",
    "outputId": "d2f59196-bcf4-4a3c-b99b-c1bdc94091a2"
   },
   "outputs": [
    {
     "name": "stdout",
     "output_type": "stream",
     "text": [
      "Resultados para cada fold con K Folds: [0.7688182  0.78293997 0.7846041  0.78355385 0.79755382 0.78301511\n",
      " 0.79761033 0.77873758 0.78616522 0.79325041]\n",
      "KF ROC-AUC score: 0.786\n"
     ]
    }
   ],
   "source": [
    "# Entrenamos con K Folds y obtenemos como resultado la precision\n",
    "roc_auc_kf = cross_val_score(linear_model.LogisticRegression(random_state= 42), x_clas, y_clas, cv= kf, scoring ='roc_auc')\n",
    "print(f'Resultados para cada fold con K Folds: {roc_auc_kf}')\n",
    "print(f'KF ROC-AUC score: {\"{:.3f}\".format(roc_auc_kf.mean())}')"
   ]
  },
  {
   "cell_type": "markdown",
   "metadata": {
    "id": "kB3jvtoQ2yXi"
   },
   "source": [
    "Si comparamos los resultados obtenidos al evaluar el modelo y los obtenidos a partir de la validación cruzada, vemos que son prácticamente iguales. Lo que indica que las métricas obtenidas son robustas y confiables sobre el rendimiento del modelo."
   ]
  },
  {
   "cell_type": "markdown",
   "metadata": {
    "id": "9Zo_cQBnUT0G"
   },
   "source": [
    "## 6.3. Conclusiones\n",
    "\n",
    "\n",
    "Las métricas utilizadas para evaluar el modelo muestran que nuestro modelo de clasificación es preciso a la hora de predecir si el individuo experimentó o no movilidad educativa. Además, los resultados de la matriz de confusión muestran que el modelo predice correctamente un 37% que hay movilidad y un 37% de las veces que no hay movilidad; mientras que hay un 10% de **falsas alarmas** y un 16% de **sorpresas**."
   ]
  },
  {
   "cell_type": "markdown",
   "metadata": {
    "id": "Acwa3Tg1UT0H"
   },
   "source": [
    "## 7. Aprendizaje no supervisado: Análisis de Componentes principales (PCA)"
   ]
  },
  {
   "cell_type": "code",
   "execution_count": 136,
   "metadata": {
    "id": "HO6HoYSQUT0H"
   },
   "outputs": [],
   "source": [
    "# Definimos x e y\n",
    "x_pca = EPH_reg.drop('EducHijos',axis = 1)\n",
    "y_pca = EPH_reg['EducHijos']"
   ]
  },
  {
   "cell_type": "code",
   "execution_count": 137,
   "metadata": {
    "id": "BYUYR5dSUT0H"
   },
   "outputs": [],
   "source": [
    "# Dividimos los datos en train y test\n",
    "x_pca_train, x_pca_test, y_pca_train, y_pca_test = train_test_split(x_pca, y_pca, test_size = 0.2, random_state = 0)"
   ]
  },
  {
   "cell_type": "code",
   "execution_count": 138,
   "metadata": {
    "id": "PjLabxTzUT0H"
   },
   "outputs": [],
   "source": [
    "# Normalizamos los datos\n",
    "sc = StandardScaler()\n",
    "data = pd.DataFrame(sc.fit_transform(EPH_reg), columns =EPH_reg.columns)\n",
    "data = data.drop('EducHijos', axis = 1)"
   ]
  },
  {
   "cell_type": "code",
   "execution_count": 139,
   "metadata": {
    "id": "M3q5_EnPUT0H"
   },
   "outputs": [],
   "source": [
    "x_pca_train = sc.fit_transform(x_pca_train)\n",
    "x_pca_test = sc.transform(x_pca_test)"
   ]
  },
  {
   "cell_type": "code",
   "execution_count": 140,
   "metadata": {
    "id": "M4iqxHJbUT0H"
   },
   "outputs": [],
   "source": [
    "# Aplicamos el PCA para reducir las dimensiones\n",
    "pca = PCA()\n",
    "x_pca_train = pca.fit_transform(x_pca_train)\n",
    "x_pca_test = pca.transform(x_pca_test)"
   ]
  },
  {
   "cell_type": "code",
   "execution_count": 141,
   "metadata": {
    "id": "POlE8oDXUT0H",
    "outputId": "73e87cf3-4571-4d24-92e6-b8c6df8c029d"
   },
   "outputs": [
    {
     "data": {
      "text/plain": [
       "array([0.34917494, 0.1494475 , 0.12327769, 0.11075105, 0.09691951,\n",
       "       0.08372937, 0.06479751, 0.01502735, 0.00652528, 0.0003498 ])"
      ]
     },
     "execution_count": 141,
     "metadata": {},
     "output_type": "execute_result"
    }
   ],
   "source": [
    "# Analizamos de la varianza explicada para cada componente\n",
    "var_explicada = pca.explained_variance_ratio_\n",
    "var_explicada"
   ]
  },
  {
   "cell_type": "markdown",
   "metadata": {
    "id": "FUAtGXRIUT0H"
   },
   "source": [
    "Los resultados obtenidos muestran que el *primer componente principal* explica el 34.92% de la varianza; mientras que el *segundo componente principal* explica el 14.94% de la variabilidad de los datos. Por lo que, en conjunto los dos primeros componentes principales explican el 49.86% (34.92% + 14.94%) de la variabilidad de los datos.\n",
    "\n",
    "A continuación, con el comando *pca_components_* observamos los componenentes de la PCA, en donde las filas muestran las componentes principales (ordenadas de mayor a menor varianza explicada) y las columnas se corresponden con las variables de entrada."
   ]
  },
  {
   "cell_type": "code",
   "execution_count": 142,
   "metadata": {
    "id": "OF-ELrSKUT0H",
    "outputId": "97133df9-6a0f-4036-fce5-654bae045db1",
    "scrolled": true
   },
   "outputs": [
    {
     "data": {
      "text/plain": [
       "array([[-1.65550007e-02, -4.81066545e-01,  4.80723364e-01,\n",
       "        -2.24790155e-02, -5.15016192e-01,  5.17685151e-01,\n",
       "         3.82397537e-02, -4.43895910e-02,  5.25016113e-03,\n",
       "        -8.83451884e-04],\n",
       "       [-5.26874392e-02, -1.75979846e-01, -1.56308036e-01,\n",
       "        -4.50154787e-01,  7.64646657e-02,  3.86591930e-02,\n",
       "         5.53366531e-01,  5.43359061e-01,  3.56200283e-01,\n",
       "         5.92451373e-02],\n",
       "       [-2.10593281e-01,  2.58442348e-01,  2.60884323e-01,\n",
       "         6.87769918e-01,  4.22732512e-02,  5.86237141e-02,\n",
       "         3.43526897e-01,  2.46568034e-01,  8.93152379e-02,\n",
       "         3.94667492e-01],\n",
       "       [-5.91939033e-01, -1.10810948e-01, -1.14643334e-01,\n",
       "        -2.86987081e-01, -3.65193359e-02, -3.74417244e-02,\n",
       "        -2.41679185e-01,  5.14611064e-02, -3.45999606e-01,\n",
       "         5.98595097e-01],\n",
       "       [ 6.03352977e-01, -1.96921551e-02,  4.92557104e-03,\n",
       "        -1.08182223e-02, -1.36043870e-02,  1.84985691e-02,\n",
       "         6.29545489e-02,  3.92867632e-01, -6.61197717e-01,\n",
       "         1.98540070e-01],\n",
       "       [ 4.87654191e-01, -2.71665146e-02, -3.26095167e-02,\n",
       "        -8.49155432e-02, -2.24412544e-02, -1.54443563e-02,\n",
       "        -1.88054916e-01, -2.34923600e-01,  4.85508688e-01,\n",
       "         6.52814497e-01],\n",
       "       [-1.84620894e-02,  8.47351903e-03,  7.84442079e-02,\n",
       "         1.11622495e-01, -9.33992974e-02, -5.07613050e-02,\n",
       "        -6.71988077e-01,  6.55147236e-01,  2.68594623e-01,\n",
       "        -1.29403203e-01],\n",
       "       [ 4.07731613e-03, -4.97040152e-01,  5.36295009e-01,\n",
       "         3.53219978e-03,  4.90821948e-01, -4.72773606e-01,\n",
       "        -6.46317438e-03, -2.43784591e-02, -1.34013403e-02,\n",
       "         8.53845487e-03],\n",
       "       [-3.10002483e-03,  4.04408994e-01,  3.75143395e-01,\n",
       "        -3.12763902e-01,  5.29372566e-01,  5.49703376e-01,\n",
       "        -1.23680148e-01,  2.40418347e-04, -1.32838964e-02,\n",
       "         2.74154091e-03],\n",
       "       [ 3.27750868e-04,  4.96730723e-01,  4.77161485e-01,\n",
       "        -3.51916635e-01, -4.41856505e-01, -4.43647167e-01,\n",
       "         9.83320503e-02, -3.35430984e-04,  7.86574738e-04,\n",
       "         4.21104898e-04]])"
      ]
     },
     "execution_count": 142,
     "metadata": {},
     "output_type": "execute_result"
    }
   ],
   "source": [
    "pca.components_"
   ]
  },
  {
   "cell_type": "code",
   "execution_count": 143,
   "metadata": {
    "id": "h4N2Wd0_UT0I",
    "outputId": "3cafa3b7-8014-4c08-e9f1-9ab4b501a3b0"
   },
   "outputs": [
    {
     "data": {
      "text/plain": [
       "Index(['CH04', 'EducJefa', 'EducJefe', 'EducPadres', 'EdadJefa', 'EdadJefe',\n",
       "       'EdadPadres', 'Edad', 'numhijos', 'P21'],\n",
       "      dtype='object')"
      ]
     },
     "execution_count": 143,
     "metadata": {},
     "output_type": "execute_result"
    }
   ],
   "source": [
    "# Visualizamos los index de las columnas del df que utilizaremos\n",
    "columnas_EPH_reg = EPH_reg.drop('EducHijos', axis = 1)\n",
    "columnas_EPH_reg = columnas_EPH_reg.columns\n",
    "columnas_EPH_reg"
   ]
  },
  {
   "cell_type": "code",
   "execution_count": 144,
   "metadata": {
    "id": "ZQh0n0vGUT0I",
    "outputId": "0366047a-3809-4f48-ad34-3078c2d5d5f9"
   },
   "outputs": [
    {
     "data": {
      "text/html": [
       "<div>\n",
       "<style scoped>\n",
       "    .dataframe tbody tr th:only-of-type {\n",
       "        vertical-align: middle;\n",
       "    }\n",
       "\n",
       "    .dataframe tbody tr th {\n",
       "        vertical-align: top;\n",
       "    }\n",
       "\n",
       "    .dataframe thead th {\n",
       "        text-align: right;\n",
       "    }\n",
       "</style>\n",
       "<table border=\"1\" class=\"dataframe\">\n",
       "  <thead>\n",
       "    <tr style=\"text-align: right;\">\n",
       "      <th></th>\n",
       "      <th>CH04</th>\n",
       "      <th>EducJefa</th>\n",
       "      <th>EducJefe</th>\n",
       "      <th>EducPadres</th>\n",
       "      <th>EdadJefa</th>\n",
       "      <th>EdadJefe</th>\n",
       "      <th>EdadPadres</th>\n",
       "      <th>Edad</th>\n",
       "      <th>numhijos</th>\n",
       "      <th>P21</th>\n",
       "    </tr>\n",
       "  </thead>\n",
       "  <tbody>\n",
       "    <tr>\n",
       "      <th>1</th>\n",
       "      <td>-0.016555</td>\n",
       "      <td>-0.481067</td>\n",
       "      <td>0.480723</td>\n",
       "      <td>-0.022479</td>\n",
       "      <td>-0.515016</td>\n",
       "      <td>0.517685</td>\n",
       "      <td>0.038240</td>\n",
       "      <td>-0.044390</td>\n",
       "      <td>0.005250</td>\n",
       "      <td>-0.000883</td>\n",
       "    </tr>\n",
       "    <tr>\n",
       "      <th>2</th>\n",
       "      <td>-0.052687</td>\n",
       "      <td>-0.175980</td>\n",
       "      <td>-0.156308</td>\n",
       "      <td>-0.450155</td>\n",
       "      <td>0.076465</td>\n",
       "      <td>0.038659</td>\n",
       "      <td>0.553367</td>\n",
       "      <td>0.543359</td>\n",
       "      <td>0.356200</td>\n",
       "      <td>0.059245</td>\n",
       "    </tr>\n",
       "    <tr>\n",
       "      <th>3</th>\n",
       "      <td>-0.210593</td>\n",
       "      <td>0.258442</td>\n",
       "      <td>0.260884</td>\n",
       "      <td>0.687770</td>\n",
       "      <td>0.042273</td>\n",
       "      <td>0.058624</td>\n",
       "      <td>0.343527</td>\n",
       "      <td>0.246568</td>\n",
       "      <td>0.089315</td>\n",
       "      <td>0.394667</td>\n",
       "    </tr>\n",
       "    <tr>\n",
       "      <th>4</th>\n",
       "      <td>-0.591939</td>\n",
       "      <td>-0.110811</td>\n",
       "      <td>-0.114643</td>\n",
       "      <td>-0.286987</td>\n",
       "      <td>-0.036519</td>\n",
       "      <td>-0.037442</td>\n",
       "      <td>-0.241679</td>\n",
       "      <td>0.051461</td>\n",
       "      <td>-0.346000</td>\n",
       "      <td>0.598595</td>\n",
       "    </tr>\n",
       "    <tr>\n",
       "      <th>5</th>\n",
       "      <td>0.603353</td>\n",
       "      <td>-0.019692</td>\n",
       "      <td>0.004926</td>\n",
       "      <td>-0.010818</td>\n",
       "      <td>-0.013604</td>\n",
       "      <td>0.018499</td>\n",
       "      <td>0.062955</td>\n",
       "      <td>0.392868</td>\n",
       "      <td>-0.661198</td>\n",
       "      <td>0.198540</td>\n",
       "    </tr>\n",
       "  </tbody>\n",
       "</table>\n",
       "</div>"
      ],
      "text/plain": [
       "       CH04  EducJefa  EducJefe  EducPadres  EdadJefa  EdadJefe  EdadPadres  \\\n",
       "1 -0.016555 -0.481067  0.480723   -0.022479 -0.515016  0.517685    0.038240   \n",
       "2 -0.052687 -0.175980 -0.156308   -0.450155  0.076465  0.038659    0.553367   \n",
       "3 -0.210593  0.258442  0.260884    0.687770  0.042273  0.058624    0.343527   \n",
       "4 -0.591939 -0.110811 -0.114643   -0.286987 -0.036519 -0.037442   -0.241679   \n",
       "5  0.603353 -0.019692  0.004926   -0.010818 -0.013604  0.018499    0.062955   \n",
       "\n",
       "       Edad  numhijos       P21  \n",
       "1 -0.044390  0.005250 -0.000883  \n",
       "2  0.543359  0.356200  0.059245  \n",
       "3  0.246568  0.089315  0.394667  \n",
       "4  0.051461 -0.346000  0.598595  \n",
       "5  0.392868 -0.661198  0.198540  "
      ]
     },
     "execution_count": 144,
     "metadata": {},
     "output_type": "execute_result"
    }
   ],
   "source": [
    "# Creamos un df con los datos obtenidos a partir del pca\n",
    "componentes = pd.DataFrame(data = pca.components_, columns = columnas_EPH_reg, index = range(1,pca.components_.shape[0]+1))\n",
    "componentes.head()"
   ]
  },
  {
   "cell_type": "markdown",
   "metadata": {
    "id": "UPagpCQcUT0I"
   },
   "source": [
    "Ahora podemoms analizar con detalle el vector de loadings que forma cada componente puede ayudar a interpretar qué tipo de información recoge cada una de ellas. Por ejemplo, la primera componente es el resultado de la siguiente combinación lineal de las variables originales:\n",
    "\n",
    "PC1 = -0.016555 * CH04 -0.481067 * EducJefa + 0.480723 * EducJefe + ...\n",
    "\n",
    "\n",
    "En el siguiente headmap se puede observar la influencia de cada variable en los distintos componentes principales."
   ]
  },
  {
   "cell_type": "code",
   "execution_count": 145,
   "metadata": {
    "id": "tUhOmvL7UT0I",
    "outputId": "a647e0da-e504-4c65-c186-59e345350a70"
   },
   "outputs": [
    {
     "data": {
      "text/plain": [
       "<Axes: >"
      ]
     },
     "execution_count": 145,
     "metadata": {},
     "output_type": "execute_result"
    },
    {
     "data": {
      "image/png": "[encoded data removed]",
      "text/plain": [
       "<Figure size 432x288 with 2 Axes>"
      ]
     },
     "metadata": {},
     "output_type": "display_data"
    }
   ],
   "source": [
    "sns.heatmap(componentes, vmin=-1, vmax=1, cmap='RdBu')"
   ]
  },
  {
   "cell_type": "markdown",
   "metadata": {
    "id": "rDyO9VZfUT0I"
   },
   "source": [
    "El headmap indica que las principales variables que influyen en el primer componente principal son: EducJefe, EducJefa, EdadJefa y EdadJefe.\n",
    "\n",
    "Una vez calculadas las componentes principales, se puede conocer la proporción de varianza explicada respecto al total y la proporción de varianza acumulada. Esta información está almacenada en el atributo explained_variance_ratio_ del modelo."
   ]
  },
  {
   "cell_type": "code",
   "execution_count": 146,
   "metadata": {
    "id": "JvgHY9lEUT0I",
    "outputId": "bc2966be-004c-427f-aa36-37e381c3d3e5"
   },
   "outputs": [
    {
     "data": {
      "text/plain": [
       "Text(0.5, 1.0, 'Propoción de la varianza explicada por cada componente principal')"
      ]
     },
     "execution_count": 146,
     "metadata": {},
     "output_type": "execute_result"
    },
    {
     "data": {
      "image/png": "[encoded data removed]",
      "text/plain": [
       "<Figure size 432x288 with 1 Axes>"
      ]
     },
     "metadata": {},
     "output_type": "display_data"
    }
   ],
   "source": [
    "plt.bar(x=componentes.index, height = var_explicada*100)\n",
    "plt.ylabel('Porcentaje de varianza explicada')\n",
    "plt.xlabel('Componente Principal')\n",
    "plt.title('Propoción de la varianza explicada por cada componente principal')"
   ]
  },
  {
   "cell_type": "markdown",
   "metadata": {
    "id": "16VAgjzlUT0J"
   },
   "source": [
    "El gráfico anterior nos muestra que la primer componente principal es la que explica la mayor parte de la varianza (35%), mientras que el resto de las componentes explican el 15% o menos de la variabilidad de los datos.\n"
   ]
  },
  {
   "cell_type": "code",
   "execution_count": 147,
   "metadata": {
    "id": "4qk5aWAhUT0J",
    "outputId": "03f6d81d-7c96-4e3f-897d-2a22d56891ca"
   },
   "outputs": [
    {
     "data": {
      "text/plain": [
       "(0.0, 105.0)"
      ]
     },
     "execution_count": 147,
     "metadata": {},
     "output_type": "execute_result"
    },
    {
     "data": {
      "image/png": "[encoded data removed]",
      "text/plain": [
       "<Figure size 432x288 with 1 Axes>"
      ]
     },
     "metadata": {},
     "output_type": "display_data"
    }
   ],
   "source": [
    "plt.plot(componentes.index,var_explicada.cumsum()*100)\n",
    "plt.ylabel('Porcentaje de varianza explicada')\n",
    "plt.xlabel('Componente Principal')\n",
    "plt.title('Varianza explicada acumulada por componente principal')\n",
    "plt.ylim(0,105)"
   ]
  },
  {
   "cell_type": "markdown",
   "metadata": {
    "id": "Pb70XxMRUT0J"
   },
   "source": [
    "El gráfica anterior nos muestra que las dos primeras componentes principales explican el 50% de la variabilidad de los datos, mientras que los 6 primeros componentes explican el 90% de la varianza.\n",
    "\n",
    "A continuación se puede observar cuáles son las variables más importantes, es decir, cuáles son las variables que tienen los mayores loadings en las CP, indicando esto que explican una mayor parte de la varianza."
   ]
  },
  {
   "cell_type": "code",
   "execution_count": 148,
   "metadata": {
    "id": "uJIoNMmsUT0J",
    "outputId": "1854ec0f-4ec8-449d-df35-7bdce68f3774"
   },
   "outputs": [
    {
     "data": {
      "text/plain": [
       "EducJefe      2.517138\n",
       "EducJefa      2.479812\n",
       "EdadPadres    2.328285\n",
       "EducPadres    2.322960\n",
       "EdadJefa      2.261769\n",
       "numhijos      2.239538\n",
       "EdadJefe      2.203238\n",
       "Edad          2.193671\n",
       "P21           2.045850\n",
       "CH04          1.988749\n",
       "dtype: float64"
      ]
     },
     "execution_count": 148,
     "metadata": {},
     "output_type": "execute_result"
    }
   ],
   "source": [
    "componentes.iloc[:10].abs().sum().sort_values()[::-1]"
   ]
  },
  {
   "cell_type": "markdown",
   "metadata": {
    "id": "wXdkjZe7UT0J"
   },
   "source": [
    "Como se puede observar las variables más importantes son \"EducJefe\" y \"EducJefa\". Sin embargo, se observa que el resto de las variables tienen loadings muy parecidos."
   ]
  },
  {
   "cell_type": "markdown",
   "metadata": {
    "id": "GJA6kEu5UT0J"
   },
   "source": [
    "Ya que deseamos explicar al menos el 85% de nuestro modelo, utilizaremos las primeras seis componentes principales para realizar la función logística y ver qué tan bien funciona\n"
   ]
  },
  {
   "cell_type": "code",
   "execution_count": 149,
   "metadata": {
    "id": "KrBbTbFwUT0J"
   },
   "outputs": [],
   "source": [
    "# Aplicamos el PCA para reducir las dimensiones a 6\n",
    "pca2 = PCA(n_components = 6)\n",
    "x_pca_train2 = pca2.fit_transform(x_pca_train)\n",
    "x_pca_test2 = pca2.transform(x_pca_test)"
   ]
  },
  {
   "cell_type": "code",
   "execution_count": 150,
   "metadata": {
    "id": "ViUZvmNTUT0J",
    "outputId": "6ee3e7f1-2083-411f-de89-a867105f0f7e",
    "scrolled": true
   },
   "outputs": [
    {
     "data": {
      "text/plain": [
       "array([[  0,   0,   0,   0,   0,   0,   1,   0,   0,   0,   0,   0, 104,\n",
       "          0,   0,   1,   0,   1,   0,   0,   0],\n",
       "       [  0,   0,   0,   0,   0,   0,   1,   0,   0,   0,   0,   0,   2,\n",
       "          0,   0,   0,   0,   0,   0,   0,   0],\n",
       "       [  0,   0,   0,   0,   0,   0,   0,   0,   0,   0,   0,   0,   3,\n",
       "          0,   0,   0,   0,   0,   0,   0,   0],\n",
       "       [  0,   0,   0,   0,   0,   0,   2,   0,   0,   0,   0,   0,   4,\n",
       "          0,   0,   0,   0,   0,   0,   0,   0],\n",
       "       [  0,   0,   0,   0,   0,   0,   0,   0,   0,   0,   0,   0,   7,\n",
       "          0,   0,   0,   0,   0,   0,   0,   0],\n",
       "       [  0,   0,   0,   0,   0,   0,   0,   0,   0,   0,   0,   0,  15,\n",
       "          0,   0,   0,   0,   0,   0,   0,   0],\n",
       "       [  0,   0,   0,   0,   0,   0,  11,   0,   0,   0,   0,   0, 158,\n",
       "          0,   0,   3,   0,   1,   0,   0,   0],\n",
       "       [  0,   0,   0,   0,   0,   0,   2,   0,   0,   0,   0,   0,  40,\n",
       "          0,   0,   0,   0,   0,   0,   0,   0],\n",
       "       [  0,   0,   0,   0,   0,   0,   0,   0,   0,   0,   0,   0,  80,\n",
       "          0,   0,   0,   0,   1,   0,   0,   0],\n",
       "       [  0,   0,   0,   0,   0,   0,   0,   0,   0,   0,   0,   0,  87,\n",
       "          0,   0,   0,   0,   0,   0,   0,   0],\n",
       "       [  0,   0,   0,   0,   0,   0,   1,   0,   0,   0,   0,   0,  61,\n",
       "          0,   0,   1,   0,   1,   0,   0,   0],\n",
       "       [  0,   0,   0,   0,   0,   0,   0,   0,   0,   0,   0,   0,  12,\n",
       "          0,   0,   0,   0,   0,   0,   0,   0],\n",
       "       [  0,   0,   0,   0,   0,   0,   8,   0,   0,   0,   0,   0, 783,\n",
       "          0,   0,  21,   0,  18,   0,   0,   1],\n",
       "       [  0,   0,   0,   0,   0,   0,   0,   0,   0,   0,   0,   0,  95,\n",
       "          0,   0,   3,   0,   5,   0,   0,   0],\n",
       "       [  0,   0,   0,   0,   0,   0,   0,   0,   0,   0,   0,   0, 129,\n",
       "          0,   0,  13,   0,  11,   0,   0,   0],\n",
       "       [  0,   0,   0,   0,   0,   0,   0,   0,   0,   0,   0,   0, 290,\n",
       "          0,   0,  42,   0,  30,   0,   0,   0],\n",
       "       [  0,   0,   0,   0,   0,   0,   0,   0,   0,   0,   0,   0,  74,\n",
       "          0,   0,  14,   0,  18,   0,   0,   0],\n",
       "       [  0,   0,   0,   0,   0,   0,   0,   0,   0,   0,   0,   0, 131,\n",
       "          0,   0,  23,   0,  43,   0,   0,   0],\n",
       "       [  0,   0,   0,   0,   0,   0,   0,   0,   0,   0,   0,   0,   2,\n",
       "          0,   0,   0,   0,   0,   0,   0,   0],\n",
       "       [  0,   0,   0,   0,   0,   0,   0,   0,   0,   0,   0,   0,   1,\n",
       "          0,   0,   0,   0,   1,   0,   0,   0],\n",
       "       [  0,   0,   0,   0,   0,   0,   0,   0,   0,   0,   0,   0,   0,\n",
       "          0,   0,   0,   0,   0,   0,   0,   0]], dtype=int64)"
      ]
     },
     "execution_count": 150,
     "metadata": {},
     "output_type": "execute_result"
    }
   ],
   "source": [
    "Reg_Log_pca2 = LogisticRegression(random_state = 0).fit(x_pca_train2,y_pca_train)\n",
    "\n",
    "# Predecimos los valores del testing para la Regresión Logística\n",
    "y_pca_pred2 = Reg_Log_pca2.predict(x_pca_test2)\n",
    "\n",
    "# Hacemos la matriz de confusión\n",
    "cm_pca = confusion_matrix(y_pca_test, y_pca_pred2)\n",
    "cm_pca"
   ]
  },
  {
   "cell_type": "markdown",
   "metadata": {
    "id": "CCiw9SVeUT0K"
   },
   "source": [
    "Los insigths obtenidos a partir de la matriz de confusión nos indican que sólo hay tres errores, por lo que concluimos que la predicción es correcta utilizando 6 variables en vez de 10.  "
   ]
  },
  {
   "cell_type": "markdown",
   "metadata": {
    "id": "GlSRDyuUUT0K"
   },
   "source": [
    "Para obtener las nuevas variables se utiliza .transform y podemos seleccionamos las dos primeras componentes principales."
   ]
  },
  {
   "cell_type": "code",
   "execution_count": 151,
   "metadata": {
    "id": "JceEpOh3UT0K",
    "outputId": "e4d1756d-7664-4ac3-8d35-7574592e225b"
   },
   "outputs": [
    {
     "data": {
      "text/html": [
       "<div>\n",
       "<style scoped>\n",
       "    .dataframe tbody tr th:only-of-type {\n",
       "        vertical-align: middle;\n",
       "    }\n",
       "\n",
       "    .dataframe tbody tr th {\n",
       "        vertical-align: top;\n",
       "    }\n",
       "\n",
       "    .dataframe thead th {\n",
       "        text-align: right;\n",
       "    }\n",
       "</style>\n",
       "<table border=\"1\" class=\"dataframe\">\n",
       "  <thead>\n",
       "    <tr style=\"text-align: right;\">\n",
       "      <th></th>\n",
       "      <th>PC1</th>\n",
       "      <th>PC2</th>\n",
       "      <th>PC3</th>\n",
       "      <th>PC4</th>\n",
       "      <th>PC5</th>\n",
       "      <th>PC6</th>\n",
       "    </tr>\n",
       "  </thead>\n",
       "  <tbody>\n",
       "    <tr>\n",
       "      <th>0</th>\n",
       "      <td>1.801252</td>\n",
       "      <td>2.122937</td>\n",
       "      <td>-0.139013</td>\n",
       "      <td>0.154937</td>\n",
       "      <td>-0.199064</td>\n",
       "      <td>-1.189080</td>\n",
       "    </tr>\n",
       "    <tr>\n",
       "      <th>1</th>\n",
       "      <td>1.629026</td>\n",
       "      <td>-0.529833</td>\n",
       "      <td>-1.436307</td>\n",
       "      <td>0.900169</td>\n",
       "      <td>-0.408010</td>\n",
       "      <td>-0.902660</td>\n",
       "    </tr>\n",
       "    <tr>\n",
       "      <th>2</th>\n",
       "      <td>1.317369</td>\n",
       "      <td>0.811044</td>\n",
       "      <td>-2.110626</td>\n",
       "      <td>1.207798</td>\n",
       "      <td>-0.134794</td>\n",
       "      <td>-1.029710</td>\n",
       "    </tr>\n",
       "    <tr>\n",
       "      <th>3</th>\n",
       "      <td>2.104585</td>\n",
       "      <td>0.390246</td>\n",
       "      <td>-0.180107</td>\n",
       "      <td>-1.136711</td>\n",
       "      <td>1.009379</td>\n",
       "      <td>-0.362172</td>\n",
       "    </tr>\n",
       "    <tr>\n",
       "      <th>4</th>\n",
       "      <td>2.087929</td>\n",
       "      <td>0.594126</td>\n",
       "      <td>-0.087589</td>\n",
       "      <td>-1.117402</td>\n",
       "      <td>1.156792</td>\n",
       "      <td>-0.450320</td>\n",
       "    </tr>\n",
       "  </tbody>\n",
       "</table>\n",
       "</div>"
      ],
      "text/plain": [
       "        PC1       PC2       PC3       PC4       PC5       PC6\n",
       "0  1.801252  2.122937 -0.139013  0.154937 -0.199064 -1.189080\n",
       "1  1.629026 -0.529833 -1.436307  0.900169 -0.408010 -0.902660\n",
       "2  1.317369  0.811044 -2.110626  1.207798 -0.134794 -1.029710\n",
       "3  2.104585  0.390246 -0.180107 -1.136711  1.009379 -0.362172\n",
       "4  2.087929  0.594126 -0.087589 -1.117402  1.156792 -0.450320"
      ]
     },
     "execution_count": 151,
     "metadata": {},
     "output_type": "execute_result"
    }
   ],
   "source": [
    "data_reducida=pca.transform(data)\n",
    "columnas = ['PC1', 'PC2','PC3', 'PC4','PC5', 'PC6']\n",
    "data_reducida=pd.DataFrame(data_reducida[:,:6], columns = columnas)\n",
    "data_reducida.head()"
   ]
  },
  {
   "cell_type": "markdown",
   "metadata": {
    "id": "Ggz4SKSQT6lW"
   },
   "source": [
    "## 8. Conclusiones\n",
    "\n",
    "## 8.1. Resultados obtenidos y evaluación de los distintos modelos de Machine Learning\n",
    "\n",
    "   \n",
    "**Resultados obtenidos en el testing a partir de la Regresión**\n",
    "\n",
    "|Métrica|Regresión Lineal|Regularización L1|Regularización L2|K Folds|Árbol de decisión para regresión|\n",
    "|---|---|---|---|---|---|\n",
    "|**Coeficiente de determinación**|0,217|0,217|0,217|0,207|0,162|\n",
    "|**Error cuadrático medio**|12,445|12,445|12,445|13,46|13,31|\n",
    "\n",
    "\n",
    "\n",
    "Los resultados obtenidos muestran que el modelo de regresión lineal (utilizando o no la regularización) permite predecir con bastante exactitud el nivel educativo que alcanzarán los hijos, dado el nivel educativo de los padres, es decir, que es una herramienta que permite predecir la MEI en Argentina. También se puede afirmar que en los años 2021-2022 ha habido MEI en Argentina, esto quiere decir que los resultados educativos de los hijos están altamente condicionados por el logro educativo de su padre o madre y, además, que los individuos que nacieron en familias con bajos niveles educativos tienen pocas posibilidades de tener en el futuro el mismo nivel de vida o estatus socioeconómico que los que nacieron en familias ricas.\n",
    "\n",
    "Además, se observa que el modelo de regresión lineal tiene una mejor performance que K Folds y el árbol de decisión para regresión. \n"
   ]
  },
  {
   "cell_type": "markdown",
   "metadata": {
    "id": "IAPozSBDzOrN"
   },
   "source": [
    "**Resultados obtenidos en el testing a partir del modelo de Clasificación**\n",
    "\n",
    "|Métrica|Regresión Logística|K Folds|\n",
    "|---|---|---|\n",
    "|**Accuracy**|0,740|0,740|\n",
    "|**Precision**|0,780|0,77|\n",
    "|**Recall**|0,703|0,70|\n",
    "|**Especificidad**|0,781|-|\n",
    "|**ROC-AUC**|0,790|0,79|\n",
    "\n",
    "Al comparar los resultados obtenidos por medio de la regresión logística y del K Folds se observa que las performances de ambos modelos son similares, en donde las métricas obtenidas indican que los modelos son buenos para predecir cuando un hijo experimentará o no MEI, con un porcentaje de acierto del 74% (Accuracy). "
   ]
  },
  {
   "cell_type": "markdown",
   "metadata": {
    "id": "3vgviWKxzfD-"
   },
   "source": [
    "## 8.2. Respuestas a las preguntas planteadas\n",
    "\n",
    "\n",
    "\n",
    "*  _¿Cuántos padres e hijos completaron cada nivel educativo?_\n",
    "\n",
    "    Se observó que la mayoría de los padres ha completado o la primaria o la secundaria, mientras que la mayoría de los hijos completó la secundaria.\n",
    "    \n",
    "    \n",
    "\n",
    "* _¿Cuáles son los factores que influyen en el nivel educativo de una persona?_\n",
    "\n",
    "    Los principles factores que influyen en el nivel educativo alcanzado por los hijos son:\n",
    "    - La **educación de los padres** con una fuerte correlación positiva.\n",
    "    - El **sexo** que tiene una débil relación positiva\n",
    "    - La **edad** con una débil correlación negativa.\n",
    "    - El resto de las variables tiene una correlación inferior al 0.10 en valor absoluto.\n",
    "\n",
    "\n",
    "* _¿Existe una relación entre el nivel educativo alcanzado por un hijo y el de sus padres? En caso de que exista una relación, ¿cómo es esa relación?_\n",
    "\n",
    "    La educación del padre y del hijo están fuertemente correlacionados, siendo una relación positiva. Esto indica que cuanto mayor es el nivel educativo alcanzado por los padres, mayor será el nivel educativo del hijo.\n",
    "\n",
    "\n",
    "\n",
    "* _¿Cuál es la movilidad intergeneracional educativa de los hijos encuestados en 2021 y 2022?_\n",
    "\n",
    "    El 51,71% de los hijos encuestados ha alcanzado más años de educación que su padre/madre. Lo cual muestra que durante el periodo 2021-2022 ha habido movilidad educativa intergeneracional.\n",
    "\n",
    "\n",
    "\n",
    "\n",
    "* _¿El nivel educativo del jefe o jefa de hogar tienen la misma relación con el nivel educativo alcanzado por el hijo?_\n",
    "\n",
    "    El nivel educativo del jefe y jefa de hogar tienen un efecto positivo, pero el efecto de la educación del padre sobre la educación de los hijos es mayor que el de la educación de la madre.\n"
   ]
  },
  {
   "cell_type": "markdown",
   "metadata": {
    "id": "PUntcBWM2n0N"
   },
   "source": [
    "El análisis exploratorio de datos y los modelos de machine learning aplicados en este proyecto proporcionan una valiosa herramienta para la predicción de la movilidad educativa intergeneracional en Argentina. Identificar y abordar los factores que influyen en la MEI puede ayudar a los agentes políticos y económicos a aplicar medidas que permitan aumentar la MEI, especialmente en los estratos sociales más bajos, disminuyendo así la desigualdad.\n",
    "\n",
    "\n",
    "Por último, este trabajo queda abierto a futuros proyectos de *data science* en donde se podría comparar la MEI de distintos países de América Latina o de las distintas provincias de Argentina. También una de las próximas preguntas a examinar se relaciona con otros factores que pueden explicar posibles cambios de la MEI a través del tiempo.  "
   ]
  }
 ],
 "metadata": {
  "colab": {
   "provenance": []
  },
  "kernelspec": {
   "display_name": "Python 3 (ipykernel)",
   "language": "python",
   "name": "python3"
  },
  "language_info": {
   "codemirror_mode": {
    "name": "ipython",
    "version": 3
   },
   "file_extension": ".py",
   "mimetype": "text/x-python",
   "name": "python",
   "nbconvert_exporter": "python",
   "pygments_lexer": "ipython3",
   "version": "3.10.5"
  }
 },
 "nbformat": 4,
 "nbformat_minor": 1
}
